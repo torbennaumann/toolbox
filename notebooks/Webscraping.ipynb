{
 "cells": [
  {
   "cell_type": "markdown",
   "metadata": {},
   "source": [
    "## Create script for FAZ - RSS Feed 'AKTUELLES'    "
   ]
  },
  {
   "cell_type": "code",
   "execution_count": 1,
   "metadata": {},
   "outputs": [],
   "source": [
    "import feedparser\n",
    "import pandas as pd\n",
    "import datetime"
   ]
  },
  {
   "cell_type": "code",
   "execution_count": null,
   "metadata": {},
   "outputs": [],
   "source": [
    "#section = {\n",
    "#1: 'politik',\n",
    "#2: 'wirtschaft',\n",
    "#3: 'finanzen',\n",
    "#4: 'feuilleton',\n",
    "#5: 'sport',\n",
    "#6: 'gesellschaft',\n",
    "#7: 'stil',\n",
    "#8: 'rhein-main',\n",
    "#9: 'technik',\n",
    "#10: 'wissen',\n",
    "#11: 'reise',\n",
    "#12: 'karriere',\n",
    "#13: 'aktuell'\n",
    "#}"
   ]
  },
  {
   "cell_type": "code",
   "execution_count": 2,
   "metadata": {},
   "outputs": [
    {
     "data": {
      "text/plain": [
       "0     <img src=\"https://media-cdn.sueddeutsche.de/im...\n",
       "1     <img src=\"https://media-cdn.sueddeutsche.de/im...\n",
       "2     <img src=\"https://media-cdn.sueddeutsche.de/im...\n",
       "3     <img src=\"https://media-cdn.sueddeutsche.de/im...\n",
       "4     <p>Am Güterbahnhof München-Laim greift die Pol...\n",
       "5     <img src=\"https://media-cdn.sueddeutsche.de/im...\n",
       "6     <img src=\"https://media-cdn.sueddeutsche.de/im...\n",
       "7     <img src=\"https://media-cdn.sueddeutsche.de/im...\n",
       "8     <img src=\"https://media-cdn.sueddeutsche.de/im...\n",
       "9     <img src=\"https://media-cdn.sueddeutsche.de/im...\n",
       "10    <img src=\"https://media-cdn.sueddeutsche.de/im...\n",
       "11    <img src=\"https://media-cdn.sueddeutsche.de/im...\n",
       "12    <img src=\"https://media-cdn.sueddeutsche.de/im...\n",
       "13    <img src=\"https://media-cdn.sueddeutsche.de/im...\n",
       "14    <img src=\"https://media-cdn.sueddeutsche.de/im...\n",
       "Name: summary, dtype: object"
      ]
     },
     "execution_count": 2,
     "metadata": {},
     "output_type": "execute_result"
    }
   ],
   "source": [
    "entries = feedparser.parse(\"https://www.faz.net/rss/aktuell/\")\n",
    "faz = pd.DataFrame(entries.entries)\n",
    "faz['summary']"
   ]
  },
  {
   "cell_type": "code",
   "execution_count": 3,
   "metadata": {},
   "outputs": [],
   "source": [
    "faz.drop(['guidislink', 'id', 'links', 'published_parsed', 'summary_detail', 'title_detail'],axis=1, inplace=True)"
   ]
  },
  {
   "cell_type": "code",
   "execution_count": 5,
   "metadata": {},
   "outputs": [],
   "source": [
    "#print ('Number of RSS feeds :', len(entries.entries))\n",
    "\n",
    "#print (faz.title)"
   ]
  },
  {
   "cell_type": "code",
   "execution_count": 6,
   "metadata": {},
   "outputs": [],
   "source": [
    "#print (faz.published)\n",
    "#print('\\n')\n",
    "#print (faz.summary)"
   ]
  },
  {
   "cell_type": "code",
   "execution_count": 7,
   "metadata": {},
   "outputs": [
    {
     "data": {
      "text/plain": [
       "0     <img src=\"https://media-cdn.sueddeutsche.de/im...\n",
       "1     <img src=\"https://media-cdn.sueddeutsche.de/im...\n",
       "2     <img src=\"https://media-cdn.sueddeutsche.de/im...\n",
       "3     <img src=\"https://media-cdn.sueddeutsche.de/im...\n",
       "4     <p>Am Güterbahnhof München-Laim greift die Pol...\n",
       "5     <img src=\"https://media-cdn.sueddeutsche.de/im...\n",
       "6     <img src=\"https://media-cdn.sueddeutsche.de/im...\n",
       "7     <img src=\"https://media-cdn.sueddeutsche.de/im...\n",
       "8     <img src=\"https://media-cdn.sueddeutsche.de/im...\n",
       "9     <img src=\"https://media-cdn.sueddeutsche.de/im...\n",
       "10    <img src=\"https://media-cdn.sueddeutsche.de/im...\n",
       "11    <img src=\"https://media-cdn.sueddeutsche.de/im...\n",
       "12    <img src=\"https://media-cdn.sueddeutsche.de/im...\n",
       "13    <img src=\"https://media-cdn.sueddeutsche.de/im...\n",
       "14    <img src=\"https://media-cdn.sueddeutsche.de/im...\n",
       "Name: summary, dtype: object"
      ]
     },
     "execution_count": 7,
     "metadata": {},
     "output_type": "execute_result"
    }
   ],
   "source": [
    "test = faz.summary\n",
    "test"
   ]
  },
  {
   "cell_type": "code",
   "execution_count": 8,
   "metadata": {},
   "outputs": [
    {
     "data": {
      "text/plain": [
       "'<img src=\"https://media-cdn.sueddeutsche.de/image/sz.1.3282328/208x156\" alt=\"\" data-portal-copyright=\"Daniel Hofer\" /><p>Polizisten sollen laut einem Gesetzentwurf von Innenminister Seehofer im Netz die Konten Verdächtiger übernehmen dürfen. Wer sein Passwort nicht verrät, dem würden dann harte Sanktionen drohen.\\n</p>'"
      ]
     },
     "execution_count": 8,
     "metadata": {},
     "output_type": "execute_result"
    }
   ],
   "source": [
    "test[0]"
   ]
  },
  {
   "cell_type": "code",
   "execution_count": null,
   "metadata": {},
   "outputs": [],
   "source": [
    "#subtitle_one = test[0].split('title=\"')[1].split('\" alt=')[0] + test[0].split('<p>')[1].split('</p>')[0]"
   ]
  },
  {
   "cell_type": "code",
   "execution_count": null,
   "metadata": {},
   "outputs": [],
   "source": [
    "#subtitle_one"
   ]
  },
  {
   "cell_type": "code",
   "execution_count": null,
   "metadata": {},
   "outputs": [],
   "source": [
    "descriptions = []\n",
    "\n",
    "for index, text in enumerate(test):\n",
    "    text = test[index].split('title=\"')[1].split('\" alt=')[0] + test[index].split('<p>')[1].split('</p>')[0]\n",
    "    descriptions.append(text)    "
   ]
  },
  {
   "cell_type": "code",
   "execution_count": 12,
   "metadata": {},
   "outputs": [],
   "source": [
    "subtext = pd.DataFrame((descriptions), columns=['detailed'])"
   ]
  },
  {
   "cell_type": "code",
   "execution_count": null,
   "metadata": {},
   "outputs": [],
   "source": [
    "#subtext.columns = ['detailed']"
   ]
  },
  {
   "cell_type": "code",
   "execution_count": 13,
   "metadata": {},
   "outputs": [],
   "source": [
    "faz_agg = pd.concat([faz, subtext], axis=1)\n",
    "faz_agg.drop(['summary'], axis=1, inplace=True)"
   ]
  },
  {
   "cell_type": "code",
   "execution_count": 14,
   "metadata": {},
   "outputs": [
    {
     "name": "stdout",
     "output_type": "stream",
     "text": [
      "filename: szz_2019-04-09_13-50-53.789498.csv\n",
      "pathname ../data/szz_2019-04-09_13-50-53.789498.csv\n"
     ]
    }
   ],
   "source": [
    "def get_filename():\n",
    "    return \"table_\" + str(datetime.datetime.now()).replace(' ', '_').replace(':', '-') + \".csv\"\n",
    "\n",
    "name = get_filename()\n",
    "print(\"filename:\", name)\n",
    "\n",
    "path = \"../data/\" + name\n",
    "print(\"pathname\", path)"
   ]
  },
  {
   "cell_type": "code",
   "execution_count": 15,
   "metadata": {},
   "outputs": [],
   "source": [
    "faz_agg.to_csv(path, index=False)"
   ]
  },
  {
   "cell_type": "markdown",
   "metadata": {},
   "source": [
    "---"
   ]
  }
 ],
 "metadata": {
  "kernelspec": {
   "display_name": "Python 3",
   "language": "python",
   "name": "python3"
  },
  "language_info": {
   "codemirror_mode": {
    "name": "ipython",
    "version": 3
   },
   "file_extension": ".py",
   "mimetype": "text/x-python",
   "name": "python",
   "nbconvert_exporter": "python",
   "pygments_lexer": "ipython3",
   "version": "3.6.8"
  }
 },
 "nbformat": 4,
 "nbformat_minor": 2
}
