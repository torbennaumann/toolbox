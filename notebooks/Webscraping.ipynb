{
 "cells": [
  {
   "cell_type": "markdown",
   "metadata": {},
   "source": [
    "## Create script for FAZ - RSS Feed 'AKTUELLES'\n",
    "\n",
    "    - backslash und leerzeichen aus filename entf\n",
    "    "
   ]
  },
  {
   "cell_type": "code",
   "execution_count": 1,
   "metadata": {},
   "outputs": [],
   "source": [
    "import feedparser\n",
    "import pandas as pd\n",
    "import datetime"
   ]
  },
  {
   "cell_type": "code",
   "execution_count": 2,
   "metadata": {},
   "outputs": [],
   "source": [
    "#section = {\n",
    "#1: 'politik',\n",
    "#2: 'wirtschaft',\n",
    "#3: 'finanzen',\n",
    "#4: 'feuilleton',\n",
    "#5: 'sport',\n",
    "#6: 'gesellschaft',\n",
    "#7: 'stil',\n",
    "#8: 'rhein-main',\n",
    "#9: 'technik',\n",
    "#10: 'wissen',\n",
    "#11: 'reise',\n",
    "#12: 'karriere',\n",
    "#13: 'aktuell'\n",
    "#}"
   ]
  },
  {
   "cell_type": "code",
   "execution_count": 6,
   "metadata": {},
   "outputs": [
    {
     "data": {
      "text/plain": [
       "0     <img width=190 height=107 border=0 title=\"Ther...\n",
       "1     <img width=190 height=107 border=0 title=\"Fran...\n",
       "2     <img width=190 height=107 border=0 title=\"Ein ...\n",
       "3     <img width=190 height=107 border=0 title=\"Nach...\n",
       "4     <img width=190 height=107 border=0 title=\"Ein ...\n",
       "5     <img width=190 height=107 border=0 title=\"Der ...\n",
       "6     <img width=190 height=107 border=0 title=\"So s...\n",
       "7     <img width=190 height=107 border=0 title=\"Mitg...\n",
       "8     <img width=190 height=107 border=0 title=\"Beim...\n",
       "9     <img width=190 height=107 border=0 title=\"Ein ...\n",
       "10    <img width=190 height=107 border=0 title=\"Aufg...\n",
       "11    <img width=190 height=107 border=0 title=\"Eine...\n",
       "12    <img width=190 height=107 border=0 title=\"Entg...\n",
       "Name: summary, dtype: object"
      ]
     },
     "execution_count": 6,
     "metadata": {},
     "output_type": "execute_result"
    }
   ],
   "source": [
    "entries = feedparser.parse(\"https://www.faz.net/rss/aktuell/\")\n",
    "faz = pd.DataFrame(entries.entries)\n",
    "faz['summary']"
   ]
  },
  {
   "cell_type": "code",
   "execution_count": 4,
   "metadata": {},
   "outputs": [],
   "source": [
    "faz.drop(['guidislink', 'id', 'links', 'published_parsed', 'summary_detail', 'title_detail'],axis=1, inplace=True)"
   ]
  },
  {
   "cell_type": "code",
   "execution_count": 5,
   "metadata": {},
   "outputs": [],
   "source": [
    "#faz"
   ]
  },
  {
   "cell_type": "code",
   "execution_count": 6,
   "metadata": {},
   "outputs": [],
   "source": [
    "#print ('Number of RSS feeds :', len(entries.entries))\n",
    "\n",
    "#print (faz.title)"
   ]
  },
  {
   "cell_type": "code",
   "execution_count": 7,
   "metadata": {},
   "outputs": [],
   "source": [
    "#print (faz.published)\n",
    "#print('\\n')\n",
    "#print (faz.summary)"
   ]
  },
  {
   "cell_type": "code",
   "execution_count": 7,
   "metadata": {},
   "outputs": [
    {
     "data": {
      "text/plain": [
       "0     <img width=190 height=107 border=0 title=\"Ther...\n",
       "1     <img width=190 height=107 border=0 title=\"Fran...\n",
       "2     <img width=190 height=107 border=0 title=\"Ein ...\n",
       "3     <img width=190 height=107 border=0 title=\"Nach...\n",
       "4     <img width=190 height=107 border=0 title=\"Ein ...\n",
       "5     <img width=190 height=107 border=0 title=\"Der ...\n",
       "6     <img width=190 height=107 border=0 title=\"So s...\n",
       "7     <img width=190 height=107 border=0 title=\"Mitg...\n",
       "8     <img width=190 height=107 border=0 title=\"Beim...\n",
       "9     <img width=190 height=107 border=0 title=\"Ein ...\n",
       "10    <img width=190 height=107 border=0 title=\"Aufg...\n",
       "11    <img width=190 height=107 border=0 title=\"Eine...\n",
       "12    <img width=190 height=107 border=0 title=\"Entg...\n",
       "Name: summary, dtype: object"
      ]
     },
     "execution_count": 7,
     "metadata": {},
     "output_type": "execute_result"
    }
   ],
   "source": [
    "test = faz.summary\n",
    "test"
   ]
  },
  {
   "cell_type": "code",
   "execution_count": 8,
   "metadata": {},
   "outputs": [
    {
     "data": {
      "text/plain": [
       "'<img width=190 height=107 border=0 title=\"Theresa May bei ihrer Ankündigung zur Zusammenarbeit mit der Opposition\" alt=\"Theresa May bei ihrer Ankündigung zur Zusammenarbeit mit der Opposition\" src=https://media0.faz.net/ppmedia/aktuell/fotografie/236090951/1.6122606/article_teaser/theresa-may-bei-ihrer.jpg /><p>Mit ihren Gesprächen mit der Opposition geht May aufs Ganze: Vor dem Treffen mit Labour-Chef Corbyn verbreitet sie im Unterhaus Optimismus. Und EU-Kommissionspräsident Juncker plädiert in Brüssel für einen Aufschub des Brexits bis zum 22. Mai.</p>'"
      ]
     },
     "execution_count": 8,
     "metadata": {},
     "output_type": "execute_result"
    }
   ],
   "source": [
    "test[0]"
   ]
  },
  {
   "cell_type": "code",
   "execution_count": 10,
   "metadata": {},
   "outputs": [],
   "source": [
    "#subtitle_one = test[0].split('title=\"')[1].split('\" alt=')[0] + test[0].split('<p>')[1].split('</p>')[0]"
   ]
  },
  {
   "cell_type": "code",
   "execution_count": 11,
   "metadata": {},
   "outputs": [],
   "source": [
    "#subtitle_one"
   ]
  },
  {
   "cell_type": "code",
   "execution_count": 12,
   "metadata": {},
   "outputs": [],
   "source": [
    "descriptions = []\n",
    "\n",
    "for index, text in enumerate(test):\n",
    "    text = test[index].split('title=\"')[1].split('\" alt=')[0] + test[index].split('<p>')[1].split('</p>')[0]\n",
    "    descriptions.append(text)    "
   ]
  },
  {
   "cell_type": "code",
   "execution_count": 13,
   "metadata": {},
   "outputs": [],
   "source": [
    "subtext = pd.DataFrame((descriptions), columns=['detailed'])"
   ]
  },
  {
   "cell_type": "code",
   "execution_count": 14,
   "metadata": {},
   "outputs": [],
   "source": [
    "#subtext.columns = ['detailed']"
   ]
  },
  {
   "cell_type": "code",
   "execution_count": 15,
   "metadata": {},
   "outputs": [],
   "source": [
    "faz_agg = pd.concat([faz, subtext], axis=1)\n",
    "faz_agg.drop(['summary'], axis=1, inplace=True)"
   ]
  },
  {
   "cell_type": "code",
   "execution_count": 7,
   "metadata": {},
   "outputs": [
    {
     "name": "stdout",
     "output_type": "stream",
     "text": [
      "filename: table_2019-04-03_14-21-19.828244.csv\n",
      "pathname ../data/table_2019-04-03_14-21-19.828244.csv\n"
     ]
    }
   ],
   "source": [
    "def get_filename():\n",
    "    return \"table_\" + str(datetime.datetime.now()).replace(' ', '_').replace(':', '-') + \".csv\"\n",
    "\n",
    "name = get_filename()\n",
    "print(\"filename:\", name)\n",
    "\n",
    "path = \"../data/\" + name\n",
    "print(\"pathname\", path)"
   ]
  },
  {
   "cell_type": "code",
   "execution_count": 17,
   "metadata": {},
   "outputs": [],
   "source": [
    "faz_agg.to_csv(path, index=False)"
   ]
  },
  {
   "cell_type": "markdown",
   "metadata": {},
   "source": [
    "---"
   ]
  }
 ],
 "metadata": {
  "kernelspec": {
   "display_name": "Python 3",
   "language": "python",
   "name": "python3"
  },
  "language_info": {
   "codemirror_mode": {
    "name": "ipython",
    "version": 3
   },
   "file_extension": ".py",
   "mimetype": "text/x-python",
   "name": "python",
   "nbconvert_exporter": "python",
   "pygments_lexer": "ipython3",
   "version": "3.6.8"
  }
 },
 "nbformat": 4,
 "nbformat_minor": 2
}
