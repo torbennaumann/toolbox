{
 "cells": [
  {
   "cell_type": "markdown",
   "metadata": {},
   "source": [
    "## Create script for SZZ - RSS Feed 'AKTUELLES'"
   ]
  },
  {
   "cell_type": "code",
   "execution_count": 1,
   "metadata": {},
   "outputs": [],
   "source": [
    "import feedparser\n",
    "import pandas as pd\n",
    "import datetime"
   ]
  },
  {
   "cell_type": "code",
   "execution_count": 2,
   "metadata": {},
   "outputs": [],
   "source": [
    "#section = {\n",
    "#1: 'politik',\n",
    "#2: 'wirtschaft',\n",
    "#3: 'finanzen',\n",
    "#4: 'feuilleton',\n",
    "#5: 'sport',\n",
    "#6: 'gesellschaft',\n",
    "#7: 'stil',\n",
    "#8: 'rhein-main',\n",
    "#9: 'technik',\n",
    "#10: 'wissen',\n",
    "#11: 'reise',\n",
    "#12: 'karriere',\n",
    "#13: 'aktuell'\n",
    "#}"
   ]
  },
  {
   "cell_type": "code",
   "execution_count": 3,
   "metadata": {},
   "outputs": [
    {
     "data": {
      "text/html": [
       "<div>\n",
       "<style scoped>\n",
       "    .dataframe tbody tr th:only-of-type {\n",
       "        vertical-align: middle;\n",
       "    }\n",
       "\n",
       "    .dataframe tbody tr th {\n",
       "        vertical-align: top;\n",
       "    }\n",
       "\n",
       "    .dataframe thead th {\n",
       "        text-align: right;\n",
       "    }\n",
       "</style>\n",
       "<table border=\"1\" class=\"dataframe\">\n",
       "  <thead>\n",
       "    <tr style=\"text-align: right;\">\n",
       "      <th></th>\n",
       "      <th>author</th>\n",
       "      <th>author_detail</th>\n",
       "      <th>authors</th>\n",
       "      <th>dc_abstract</th>\n",
       "      <th>guidislink</th>\n",
       "      <th>id</th>\n",
       "      <th>link</th>\n",
       "      <th>links</th>\n",
       "      <th>published</th>\n",
       "      <th>published_parsed</th>\n",
       "      <th>publisher</th>\n",
       "      <th>publisher_detail</th>\n",
       "      <th>summary</th>\n",
       "      <th>summary_detail</th>\n",
       "      <th>tags</th>\n",
       "      <th>title</th>\n",
       "      <th>title_detail</th>\n",
       "    </tr>\n",
       "  </thead>\n",
       "  <tbody>\n",
       "    <tr>\n",
       "      <th>0</th>\n",
       "      <td>Von Adrian Lobe</td>\n",
       "      <td>{'name': 'Von Adrian Lobe'}</td>\n",
       "      <td>[{'name': 'Von Adrian Lobe'}]</td>\n",
       "      <td>Nach dem Fall Relotius wurden Vorwürfe laut, R...</td>\n",
       "      <td>False</td>\n",
       "      <td>1.4402764</td>\n",
       "      <td>https://www.sueddeutsche.de/medien/inszenierte...</td>\n",
       "      <td>[{'rel': 'alternate', 'type': 'text/html', 'hr...</td>\n",
       "      <td>Wed, 10 Apr 2019 10:02:10 GMT</td>\n",
       "      <td>(2019, 4, 10, 10, 2, 10, 2, 100, 0)</td>\n",
       "      <td>SZ vom 10.04.2019</td>\n",
       "      <td>{'name': 'SZ vom 10.04.2019'}</td>\n",
       "      <td>&lt;img src=\"https://media-cdn.sueddeutsche.de/im...</td>\n",
       "      <td>{'type': 'text/html', 'language': None, 'base'...</td>\n",
       "      <td>[{'term': 'Claas Relotius', 'scheme': None, 'l...</td>\n",
       "      <td>Inszenierte Events: Misstraue dem Jubel</td>\n",
       "      <td>{'type': 'text/plain', 'language': None, 'base...</td>\n",
       "    </tr>\n",
       "    <tr>\n",
       "      <th>1</th>\n",
       "      <td>Von Alexander Mühlauer, Brüssel</td>\n",
       "      <td>{'name': 'Von Alexander Mühlauer, Brüssel'}</td>\n",
       "      <td>[{'name': 'Von Alexander Mühlauer, Brüssel'}]</td>\n",
       "      <td>Vor dem EU-Sondergipfel sendet Chefunterhändle...</td>\n",
       "      <td>False</td>\n",
       "      <td>1.4403019</td>\n",
       "      <td>https://www.sueddeutsche.de/politik/brexit-bar...</td>\n",
       "      <td>[{'rel': 'alternate', 'type': 'text/html', 'hr...</td>\n",
       "      <td>Wed, 10 Apr 2019 09:52:54 GMT</td>\n",
       "      <td>(2019, 4, 10, 9, 52, 54, 2, 100, 0)</td>\n",
       "      <td>SZ vom 10.04.2019</td>\n",
       "      <td>{'name': 'SZ vom 10.04.2019'}</td>\n",
       "      <td>&lt;img src=\"https://media-cdn.sueddeutsche.de/im...</td>\n",
       "      <td>{'type': 'text/html', 'language': None, 'base'...</td>\n",
       "      <td>[{'term': 'Brexit', 'scheme': None, 'label': N...</td>\n",
       "      <td>Brexit: \"Die EU wird sich niemals für einen No...</td>\n",
       "      <td>{'type': 'text/plain', 'language': None, 'base...</td>\n",
       "    </tr>\n",
       "    <tr>\n",
       "      <th>2</th>\n",
       "      <td>Von Iris Hilberth, Taufkirchen</td>\n",
       "      <td>{'name': 'Von Iris Hilberth, Taufkirchen'}</td>\n",
       "      <td>[{'name': 'Von Iris Hilberth, Taufkirchen'}]</td>\n",
       "      <td>26-Jähriger aus München muss Überholvorgang au...</td>\n",
       "      <td>False</td>\n",
       "      <td>1.4404251</td>\n",
       "      <td>https://www.sueddeutsche.de/muenchen/landkreis...</td>\n",
       "      <td>[{'rel': 'alternate', 'type': 'text/html', 'hr...</td>\n",
       "      <td>Wed, 10 Apr 2019 09:30:54 GMT</td>\n",
       "      <td>(2019, 4, 10, 9, 30, 54, 2, 100, 0)</td>\n",
       "      <td>SZ vom 11.04.2019 / hilb</td>\n",
       "      <td>{'name': 'SZ vom 11.04.2019 / hilb'}</td>\n",
       "      <td>&lt;img src=\"https://media-cdn.sueddeutsche.de/im...</td>\n",
       "      <td>{'type': 'text/html', 'language': None, 'base'...</td>\n",
       "      <td>[{'term': 'Süddeutsche Zeitung Landkreis Münch...</td>\n",
       "      <td>Taufkirchen: Auto geht in Flammen auf</td>\n",
       "      <td>{'type': 'text/plain', 'language': None, 'base...</td>\n",
       "    </tr>\n",
       "    <tr>\n",
       "      <th>3</th>\n",
       "      <td>Von Olaf Przybilla, Würzburg</td>\n",
       "      <td>{'name': 'Von Olaf Przybilla, Würzburg'}</td>\n",
       "      <td>[{'name': 'Von Olaf Przybilla, Würzburg'}]</td>\n",
       "      <td>Ein Logopäde aus Würzburg steht im Verdacht, i...</td>\n",
       "      <td>False</td>\n",
       "      <td>1.4404070</td>\n",
       "      <td>https://www.sueddeutsche.de/bayern/wuerzburg-k...</td>\n",
       "      <td>[{'rel': 'alternate', 'type': 'text/html', 'hr...</td>\n",
       "      <td>Wed, 10 Apr 2019 09:11:08 GMT</td>\n",
       "      <td>(2019, 4, 10, 9, 11, 8, 2, 100, 0)</td>\n",
       "      <td>SZ vom 11.04.2019 / prz</td>\n",
       "      <td>{'name': 'SZ vom 11.04.2019 / prz'}</td>\n",
       "      <td>&lt;p&gt;Ein Logopäde aus Würzburg steht im Verdacht...</td>\n",
       "      <td>{'type': 'text/html', 'language': None, 'base'...</td>\n",
       "      <td>[{'term': 'Polizei', 'scheme': None, 'label': ...</td>\n",
       "      <td>Würzburg: Mehrere Jungen aus Kita von Kinderpo...</td>\n",
       "      <td>{'type': 'text/plain', 'language': None, 'base...</td>\n",
       "    </tr>\n",
       "    <tr>\n",
       "      <th>4</th>\n",
       "      <td>Von Thomas Hahn, Hamburg</td>\n",
       "      <td>{'name': 'Von Thomas Hahn, Hamburg'}</td>\n",
       "      <td>[{'name': 'Von Thomas Hahn, Hamburg'}]</td>\n",
       "      <td>1,6 Millionen Tonnen Kriegsschrott liegen in d...</td>\n",
       "      <td>False</td>\n",
       "      <td>1.4400840</td>\n",
       "      <td>https://www.sueddeutsche.de/wissen/kriegsmunit...</td>\n",
       "      <td>[{'rel': 'alternate', 'type': 'text/html', 'hr...</td>\n",
       "      <td>Wed, 10 Apr 2019 09:02:31 GMT</td>\n",
       "      <td>(2019, 4, 10, 9, 2, 31, 2, 100, 0)</td>\n",
       "      <td>SZ vom 09.04.2019</td>\n",
       "      <td>{'name': 'SZ vom 09.04.2019'}</td>\n",
       "      <td>&lt;img src=\"https://media-cdn.sueddeutsche.de/im...</td>\n",
       "      <td>{'type': 'text/html', 'language': None, 'base'...</td>\n",
       "      <td>[{'term': 'Ingenieurwissenschaften', 'scheme':...</td>\n",
       "      <td>Kriegsmunition: Neue Waffen gegen alte Bomben</td>\n",
       "      <td>{'type': 'text/plain', 'language': None, 'base...</td>\n",
       "    </tr>\n",
       "  </tbody>\n",
       "</table>\n",
       "</div>"
      ],
      "text/plain": [
       "                            author  \\\n",
       "0                  Von Adrian Lobe   \n",
       "1  Von Alexander Mühlauer, Brüssel   \n",
       "2   Von Iris Hilberth, Taufkirchen   \n",
       "3     Von Olaf Przybilla, Würzburg   \n",
       "4         Von Thomas Hahn, Hamburg   \n",
       "\n",
       "                                 author_detail  \\\n",
       "0                  {'name': 'Von Adrian Lobe'}   \n",
       "1  {'name': 'Von Alexander Mühlauer, Brüssel'}   \n",
       "2   {'name': 'Von Iris Hilberth, Taufkirchen'}   \n",
       "3     {'name': 'Von Olaf Przybilla, Würzburg'}   \n",
       "4         {'name': 'Von Thomas Hahn, Hamburg'}   \n",
       "\n",
       "                                         authors  \\\n",
       "0                  [{'name': 'Von Adrian Lobe'}]   \n",
       "1  [{'name': 'Von Alexander Mühlauer, Brüssel'}]   \n",
       "2   [{'name': 'Von Iris Hilberth, Taufkirchen'}]   \n",
       "3     [{'name': 'Von Olaf Przybilla, Würzburg'}]   \n",
       "4         [{'name': 'Von Thomas Hahn, Hamburg'}]   \n",
       "\n",
       "                                         dc_abstract  guidislink         id  \\\n",
       "0  Nach dem Fall Relotius wurden Vorwürfe laut, R...       False  1.4402764   \n",
       "1  Vor dem EU-Sondergipfel sendet Chefunterhändle...       False  1.4403019   \n",
       "2  26-Jähriger aus München muss Überholvorgang au...       False  1.4404251   \n",
       "3  Ein Logopäde aus Würzburg steht im Verdacht, i...       False  1.4404070   \n",
       "4  1,6 Millionen Tonnen Kriegsschrott liegen in d...       False  1.4400840   \n",
       "\n",
       "                                                link  \\\n",
       "0  https://www.sueddeutsche.de/medien/inszenierte...   \n",
       "1  https://www.sueddeutsche.de/politik/brexit-bar...   \n",
       "2  https://www.sueddeutsche.de/muenchen/landkreis...   \n",
       "3  https://www.sueddeutsche.de/bayern/wuerzburg-k...   \n",
       "4  https://www.sueddeutsche.de/wissen/kriegsmunit...   \n",
       "\n",
       "                                               links  \\\n",
       "0  [{'rel': 'alternate', 'type': 'text/html', 'hr...   \n",
       "1  [{'rel': 'alternate', 'type': 'text/html', 'hr...   \n",
       "2  [{'rel': 'alternate', 'type': 'text/html', 'hr...   \n",
       "3  [{'rel': 'alternate', 'type': 'text/html', 'hr...   \n",
       "4  [{'rel': 'alternate', 'type': 'text/html', 'hr...   \n",
       "\n",
       "                       published                     published_parsed  \\\n",
       "0  Wed, 10 Apr 2019 10:02:10 GMT  (2019, 4, 10, 10, 2, 10, 2, 100, 0)   \n",
       "1  Wed, 10 Apr 2019 09:52:54 GMT  (2019, 4, 10, 9, 52, 54, 2, 100, 0)   \n",
       "2  Wed, 10 Apr 2019 09:30:54 GMT  (2019, 4, 10, 9, 30, 54, 2, 100, 0)   \n",
       "3  Wed, 10 Apr 2019 09:11:08 GMT   (2019, 4, 10, 9, 11, 8, 2, 100, 0)   \n",
       "4  Wed, 10 Apr 2019 09:02:31 GMT   (2019, 4, 10, 9, 2, 31, 2, 100, 0)   \n",
       "\n",
       "                  publisher                      publisher_detail  \\\n",
       "0         SZ vom 10.04.2019         {'name': 'SZ vom 10.04.2019'}   \n",
       "1         SZ vom 10.04.2019         {'name': 'SZ vom 10.04.2019'}   \n",
       "2  SZ vom 11.04.2019 / hilb  {'name': 'SZ vom 11.04.2019 / hilb'}   \n",
       "3   SZ vom 11.04.2019 / prz   {'name': 'SZ vom 11.04.2019 / prz'}   \n",
       "4         SZ vom 09.04.2019         {'name': 'SZ vom 09.04.2019'}   \n",
       "\n",
       "                                             summary  \\\n",
       "0  <img src=\"https://media-cdn.sueddeutsche.de/im...   \n",
       "1  <img src=\"https://media-cdn.sueddeutsche.de/im...   \n",
       "2  <img src=\"https://media-cdn.sueddeutsche.de/im...   \n",
       "3  <p>Ein Logopäde aus Würzburg steht im Verdacht...   \n",
       "4  <img src=\"https://media-cdn.sueddeutsche.de/im...   \n",
       "\n",
       "                                      summary_detail  \\\n",
       "0  {'type': 'text/html', 'language': None, 'base'...   \n",
       "1  {'type': 'text/html', 'language': None, 'base'...   \n",
       "2  {'type': 'text/html', 'language': None, 'base'...   \n",
       "3  {'type': 'text/html', 'language': None, 'base'...   \n",
       "4  {'type': 'text/html', 'language': None, 'base'...   \n",
       "\n",
       "                                                tags  \\\n",
       "0  [{'term': 'Claas Relotius', 'scheme': None, 'l...   \n",
       "1  [{'term': 'Brexit', 'scheme': None, 'label': N...   \n",
       "2  [{'term': 'Süddeutsche Zeitung Landkreis Münch...   \n",
       "3  [{'term': 'Polizei', 'scheme': None, 'label': ...   \n",
       "4  [{'term': 'Ingenieurwissenschaften', 'scheme':...   \n",
       "\n",
       "                                               title  \\\n",
       "0            Inszenierte Events: Misstraue dem Jubel   \n",
       "1  Brexit: \"Die EU wird sich niemals für einen No...   \n",
       "2              Taufkirchen: Auto geht in Flammen auf   \n",
       "3  Würzburg: Mehrere Jungen aus Kita von Kinderpo...   \n",
       "4      Kriegsmunition: Neue Waffen gegen alte Bomben   \n",
       "\n",
       "                                        title_detail  \n",
       "0  {'type': 'text/plain', 'language': None, 'base...  \n",
       "1  {'type': 'text/plain', 'language': None, 'base...  \n",
       "2  {'type': 'text/plain', 'language': None, 'base...  \n",
       "3  {'type': 'text/plain', 'language': None, 'base...  \n",
       "4  {'type': 'text/plain', 'language': None, 'base...  "
      ]
     },
     "execution_count": 3,
     "metadata": {},
     "output_type": "execute_result"
    }
   ],
   "source": [
    "entries = feedparser.parse(\"http://rss.sueddeutsche.de/app/service/rss/alles/index.rss?output=rss\")\n",
    "szz = pd.DataFrame(entries.entries)\n",
    "szz.head()"
   ]
  },
  {
   "cell_type": "code",
   "execution_count": 4,
   "metadata": {},
   "outputs": [],
   "source": [
    "szz.drop(['author', 'author_detail', 'authors', 'dc_abstract', 'guidislink', 'id', 'links', 'published_parsed', 'publisher', 'publisher_detail', 'summary_detail', 'tags', 'title_detail'],axis=1, inplace=True)"
   ]
  },
  {
   "cell_type": "code",
   "execution_count": 5,
   "metadata": {},
   "outputs": [
    {
     "data": {
      "text/html": [
       "<div>\n",
       "<style scoped>\n",
       "    .dataframe tbody tr th:only-of-type {\n",
       "        vertical-align: middle;\n",
       "    }\n",
       "\n",
       "    .dataframe tbody tr th {\n",
       "        vertical-align: top;\n",
       "    }\n",
       "\n",
       "    .dataframe thead th {\n",
       "        text-align: right;\n",
       "    }\n",
       "</style>\n",
       "<table border=\"1\" class=\"dataframe\">\n",
       "  <thead>\n",
       "    <tr style=\"text-align: right;\">\n",
       "      <th></th>\n",
       "      <th>link</th>\n",
       "      <th>published</th>\n",
       "      <th>summary</th>\n",
       "      <th>title</th>\n",
       "    </tr>\n",
       "  </thead>\n",
       "  <tbody>\n",
       "    <tr>\n",
       "      <th>0</th>\n",
       "      <td>https://www.sueddeutsche.de/medien/inszenierte...</td>\n",
       "      <td>Wed, 10 Apr 2019 10:02:10 GMT</td>\n",
       "      <td>&lt;img src=\"https://media-cdn.sueddeutsche.de/im...</td>\n",
       "      <td>Inszenierte Events: Misstraue dem Jubel</td>\n",
       "    </tr>\n",
       "    <tr>\n",
       "      <th>1</th>\n",
       "      <td>https://www.sueddeutsche.de/politik/brexit-bar...</td>\n",
       "      <td>Wed, 10 Apr 2019 09:52:54 GMT</td>\n",
       "      <td>&lt;img src=\"https://media-cdn.sueddeutsche.de/im...</td>\n",
       "      <td>Brexit: \"Die EU wird sich niemals für einen No...</td>\n",
       "    </tr>\n",
       "    <tr>\n",
       "      <th>2</th>\n",
       "      <td>https://www.sueddeutsche.de/muenchen/landkreis...</td>\n",
       "      <td>Wed, 10 Apr 2019 09:30:54 GMT</td>\n",
       "      <td>&lt;img src=\"https://media-cdn.sueddeutsche.de/im...</td>\n",
       "      <td>Taufkirchen: Auto geht in Flammen auf</td>\n",
       "    </tr>\n",
       "    <tr>\n",
       "      <th>3</th>\n",
       "      <td>https://www.sueddeutsche.de/bayern/wuerzburg-k...</td>\n",
       "      <td>Wed, 10 Apr 2019 09:11:08 GMT</td>\n",
       "      <td>&lt;p&gt;Ein Logopäde aus Würzburg steht im Verdacht...</td>\n",
       "      <td>Würzburg: Mehrere Jungen aus Kita von Kinderpo...</td>\n",
       "    </tr>\n",
       "    <tr>\n",
       "      <th>4</th>\n",
       "      <td>https://www.sueddeutsche.de/wissen/kriegsmunit...</td>\n",
       "      <td>Wed, 10 Apr 2019 09:02:31 GMT</td>\n",
       "      <td>&lt;img src=\"https://media-cdn.sueddeutsche.de/im...</td>\n",
       "      <td>Kriegsmunition: Neue Waffen gegen alte Bomben</td>\n",
       "    </tr>\n",
       "  </tbody>\n",
       "</table>\n",
       "</div>"
      ],
      "text/plain": [
       "                                                link  \\\n",
       "0  https://www.sueddeutsche.de/medien/inszenierte...   \n",
       "1  https://www.sueddeutsche.de/politik/brexit-bar...   \n",
       "2  https://www.sueddeutsche.de/muenchen/landkreis...   \n",
       "3  https://www.sueddeutsche.de/bayern/wuerzburg-k...   \n",
       "4  https://www.sueddeutsche.de/wissen/kriegsmunit...   \n",
       "\n",
       "                       published  \\\n",
       "0  Wed, 10 Apr 2019 10:02:10 GMT   \n",
       "1  Wed, 10 Apr 2019 09:52:54 GMT   \n",
       "2  Wed, 10 Apr 2019 09:30:54 GMT   \n",
       "3  Wed, 10 Apr 2019 09:11:08 GMT   \n",
       "4  Wed, 10 Apr 2019 09:02:31 GMT   \n",
       "\n",
       "                                             summary  \\\n",
       "0  <img src=\"https://media-cdn.sueddeutsche.de/im...   \n",
       "1  <img src=\"https://media-cdn.sueddeutsche.de/im...   \n",
       "2  <img src=\"https://media-cdn.sueddeutsche.de/im...   \n",
       "3  <p>Ein Logopäde aus Würzburg steht im Verdacht...   \n",
       "4  <img src=\"https://media-cdn.sueddeutsche.de/im...   \n",
       "\n",
       "                                               title  \n",
       "0            Inszenierte Events: Misstraue dem Jubel  \n",
       "1  Brexit: \"Die EU wird sich niemals für einen No...  \n",
       "2              Taufkirchen: Auto geht in Flammen auf  \n",
       "3  Würzburg: Mehrere Jungen aus Kita von Kinderpo...  \n",
       "4      Kriegsmunition: Neue Waffen gegen alte Bomben  "
      ]
     },
     "execution_count": 5,
     "metadata": {},
     "output_type": "execute_result"
    }
   ],
   "source": [
    "szz.head()"
   ]
  },
  {
   "cell_type": "code",
   "execution_count": 6,
   "metadata": {},
   "outputs": [],
   "source": [
    "#print ('Number of RSS feeds :', len(entries.entries))\n",
    "\n",
    "#print (faz.title)"
   ]
  },
  {
   "cell_type": "code",
   "execution_count": 7,
   "metadata": {},
   "outputs": [],
   "source": [
    "#print (faz.published)\n",
    "#print('\\n')\n",
    "#print (faz.summary)"
   ]
  },
  {
   "cell_type": "code",
   "execution_count": 8,
   "metadata": {},
   "outputs": [
    {
     "data": {
      "text/plain": [
       "0     <img src=\"https://media-cdn.sueddeutsche.de/im...\n",
       "1     <img src=\"https://media-cdn.sueddeutsche.de/im...\n",
       "2     <img src=\"https://media-cdn.sueddeutsche.de/im...\n",
       "3     <p>Ein Logopäde aus Würzburg steht im Verdacht...\n",
       "4     <img src=\"https://media-cdn.sueddeutsche.de/im...\n",
       "5     <img src=\"https://media-cdn.sueddeutsche.de/im...\n",
       "6     <img src=\"https://media-cdn.sueddeutsche.de/im...\n",
       "7     <img src=\"https://media-cdn.sueddeutsche.de/im...\n",
       "8     <img src=\"https://media-cdn.sueddeutsche.de/im...\n",
       "9     <img src=\"https://media-cdn.sueddeutsche.de/im...\n",
       "10    <img src=\"https://media-cdn.sueddeutsche.de/im...\n",
       "11    <img src=\"https://media-cdn.sueddeutsche.de/im...\n",
       "12    <img src=\"https://media-cdn.sueddeutsche.de/im...\n",
       "13    <img src=\"https://media-cdn.sueddeutsche.de/im...\n",
       "14    <img src=\"https://media-cdn.sueddeutsche.de/im...\n",
       "Name: summary, dtype: object"
      ]
     },
     "execution_count": 8,
     "metadata": {},
     "output_type": "execute_result"
    }
   ],
   "source": [
    "test = szz.summary\n",
    "test"
   ]
  },
  {
   "cell_type": "code",
   "execution_count": 9,
   "metadata": {},
   "outputs": [
    {
     "data": {
      "text/plain": [
       "'<img src=\"https://media-cdn.sueddeutsche.de/image/sz.1.4403043/208x156\" alt=\"558012685\" data-portal-copyright=\"Kena Betancur/AFP\" /><p>Nach dem Fall Relotius wurden Vorwürfe laut, Reporter würden die Protagonisten ihrer Geschichten casten. Wie wahrhaftig kann Journalismus sein, wenn die Wirklichkeit schon inszeniert ist?</p>'"
      ]
     },
     "execution_count": 9,
     "metadata": {},
     "output_type": "execute_result"
    }
   ],
   "source": [
    "test[0]"
   ]
  },
  {
   "cell_type": "code",
   "execution_count": 10,
   "metadata": {},
   "outputs": [],
   "source": [
    "#subtitle_one = test[0].split('title=\"')[1].split('\" alt=')[0] + test[0].split('<p>')[1].split('</p>')[0]"
   ]
  },
  {
   "cell_type": "code",
   "execution_count": 11,
   "metadata": {},
   "outputs": [],
   "source": [
    "#subtitle_one"
   ]
  },
  {
   "cell_type": "code",
   "execution_count": 12,
   "metadata": {},
   "outputs": [],
   "source": [
    "# for suedd\n",
    "description = []\n",
    "\n",
    "for index, text in enumerate(test):\n",
    "    text = test[index].split('<p>')[1].split('</p>')[0]\n",
    "    description.append(text)  "
   ]
  },
  {
   "cell_type": "code",
   "execution_count": 13,
   "metadata": {},
   "outputs": [],
   "source": [
    "subtext = pd.DataFrame((description), columns=['detailed'])"
   ]
  },
  {
   "cell_type": "code",
   "execution_count": 14,
   "metadata": {},
   "outputs": [],
   "source": [
    "#subtext.columns = ['detailed']"
   ]
  },
  {
   "cell_type": "code",
   "execution_count": 15,
   "metadata": {},
   "outputs": [],
   "source": [
    "szz_agg = pd.concat([szz, subtext], axis=1)\n",
    "szz_agg.drop(['summary'], axis=1, inplace=True)"
   ]
  },
  {
   "cell_type": "code",
   "execution_count": 16,
   "metadata": {},
   "outputs": [
    {
     "name": "stdout",
     "output_type": "stream",
     "text": [
      "filename: szz_2019-04-10_12-15-31.314800.csv\n",
      "pathname ../data/aktuell/szz_2019-04-10_12-15-31.314800.csv\n"
     ]
    }
   ],
   "source": [
    "def get_filename():\n",
    "    return \"szz_\" + str(datetime.datetime.now()).replace(' ', '_').replace(':', '-') + \".csv\"\n",
    "\n",
    "name = get_filename()\n",
    "print(\"filename:\", name)\n",
    "\n",
    "path = \"../szz/\" + name\n",
    "print(\"pathname\", path)"
   ]
  },
  {
   "cell_type": "code",
   "execution_count": 17,
   "metadata": {},
   "outputs": [],
   "source": [
    "szz_agg.to_csv(path, index=False)"
   ]
  },
  {
   "cell_type": "markdown",
   "metadata": {},
   "source": [
    "---"
   ]
  }
 ],
 "metadata": {
  "kernelspec": {
   "display_name": "Python 3",
   "language": "python",
   "name": "python3"
  },
  "language_info": {
   "codemirror_mode": {
    "name": "ipython",
    "version": 3
   },
   "file_extension": ".py",
   "mimetype": "text/x-python",
   "name": "python",
   "nbconvert_exporter": "python",
   "pygments_lexer": "ipython3",
   "version": "3.6.8"
  }
 },
 "nbformat": 4,
 "nbformat_minor": 2
}
