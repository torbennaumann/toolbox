{
 "cells": [
  {
   "cell_type": "markdown",
   "metadata": {},
   "source": [
    "## Create script for SZZ - RSS Feed 'AKTUELLES'"
   ]
  },
  {
   "cell_type": "code",
   "execution_count": 1,
   "metadata": {},
   "outputs": [],
   "source": [
    "import feedparser\n",
    "import pandas as pd\n",
    "import datetime"
   ]
  },
  {
   "cell_type": "code",
   "execution_count": 2,
   "metadata": {},
   "outputs": [],
   "source": [
    "#section = {\n",
    "#1: 'politik',\n",
    "#2: 'wirtschaft',\n",
    "#3: 'finanzen',\n",
    "#4: 'feuilleton',\n",
    "#5: 'sport',\n",
    "#6: 'gesellschaft',\n",
    "#7: 'stil',\n",
    "#8: 'rhein-main',\n",
    "#9: 'technik',\n",
    "#10: 'wissen',\n",
    "#11: 'reise',\n",
    "#12: 'karriere',\n",
    "#13: 'aktuell'\n",
    "#}"
   ]
  },
  {
   "cell_type": "code",
   "execution_count": 3,
   "metadata": {},
   "outputs": [
    {
     "data": {
      "text/html": [
       "<div>\n",
       "<style scoped>\n",
       "    .dataframe tbody tr th:only-of-type {\n",
       "        vertical-align: middle;\n",
       "    }\n",
       "\n",
       "    .dataframe tbody tr th {\n",
       "        vertical-align: top;\n",
       "    }\n",
       "\n",
       "    .dataframe thead th {\n",
       "        text-align: right;\n",
       "    }\n",
       "</style>\n",
       "<table border=\"1\" class=\"dataframe\">\n",
       "  <thead>\n",
       "    <tr style=\"text-align: right;\">\n",
       "      <th></th>\n",
       "      <th>author</th>\n",
       "      <th>author_detail</th>\n",
       "      <th>authors</th>\n",
       "      <th>dc_abstract</th>\n",
       "      <th>guidislink</th>\n",
       "      <th>id</th>\n",
       "      <th>link</th>\n",
       "      <th>links</th>\n",
       "      <th>published</th>\n",
       "      <th>published_parsed</th>\n",
       "      <th>publisher</th>\n",
       "      <th>publisher_detail</th>\n",
       "      <th>summary</th>\n",
       "      <th>summary_detail</th>\n",
       "      <th>tags</th>\n",
       "      <th>title</th>\n",
       "      <th>title_detail</th>\n",
       "    </tr>\n",
       "  </thead>\n",
       "  <tbody>\n",
       "    <tr>\n",
       "      <th>0</th>\n",
       "      <td>NaN</td>\n",
       "      <td>NaN</td>\n",
       "      <td>NaN</td>\n",
       "      <td>Die skandinavischen Staaten gelten als glückli...</td>\n",
       "      <td>False</td>\n",
       "      <td>1.4411850</td>\n",
       "      <td>https://www.sueddeutsche.de/politik/rechtspopu...</td>\n",
       "      <td>[{'rel': 'alternate', 'type': 'text/html', 'hr...</td>\n",
       "      <td>Tue, 16 Apr 2019 07:06:54 GMT</td>\n",
       "      <td>(2019, 4, 16, 7, 6, 54, 1, 106, 0)</td>\n",
       "      <td>SZ.de/hmw</td>\n",
       "      <td>{'name': 'SZ.de/hmw'}</td>\n",
       "      <td>&lt;img src=\"https://media-cdn.sueddeutsche.de/im...</td>\n",
       "      <td>{'type': 'text/html', 'language': None, 'base'...</td>\n",
       "      <td>[{'term': 'Wahl in Finnland', 'scheme': None, ...</td>\n",
       "      <td>Leserdiskussion: Ist der Rechtspopulismus eine...</td>\n",
       "      <td>{'type': 'text/plain', 'language': None, 'base...</td>\n",
       "    </tr>\n",
       "    <tr>\n",
       "      <th>1</th>\n",
       "      <td>Von Michael Moorstedt</td>\n",
       "      <td>{'name': 'Von Michael Moorstedt'}</td>\n",
       "      <td>[{'name': 'Von Michael Moorstedt'}]</td>\n",
       "      <td>Haben Sie auch brav Ihre Werbung geschaut?  Ei...</td>\n",
       "      <td>False</td>\n",
       "      <td>1.4409540</td>\n",
       "      <td>https://www.sueddeutsche.de/digital/preshow-we...</td>\n",
       "      <td>[{'rel': 'alternate', 'type': 'text/html', 'hr...</td>\n",
       "      <td>Tue, 16 Apr 2019 07:05:22 GMT</td>\n",
       "      <td>(2019, 4, 16, 7, 5, 22, 1, 106, 0)</td>\n",
       "      <td>SZ vom 15.04.2019</td>\n",
       "      <td>{'name': 'SZ vom 15.04.2019'}</td>\n",
       "      <td>&lt;img src=\"https://media-cdn.sueddeutsche.de/im...</td>\n",
       "      <td>{'type': 'text/html', 'language': None, 'base'...</td>\n",
       "      <td>[{'term': 'Apps', 'scheme': None, 'label': Non...</td>\n",
       "      <td>Start-up Preshow : Gratiskonsum durch den Kons...</td>\n",
       "      <td>{'type': 'text/plain', 'language': None, 'base...</td>\n",
       "    </tr>\n",
       "    <tr>\n",
       "      <th>2</th>\n",
       "      <td>NaN</td>\n",
       "      <td>NaN</td>\n",
       "      <td>NaN</td>\n",
       "      <td>Ein Symbol für Frankreich, ein Wahrzeichen von...</td>\n",
       "      <td>False</td>\n",
       "      <td>1.4411853</td>\n",
       "      <td>https://www.sueddeutsche.de/panorama/leserdisk...</td>\n",
       "      <td>[{'rel': 'alternate', 'type': 'text/html', 'hr...</td>\n",
       "      <td>Tue, 16 Apr 2019 07:05:03 GMT</td>\n",
       "      <td>(2019, 4, 16, 7, 5, 3, 1, 106, 0)</td>\n",
       "      <td>SZ.de/wüll</td>\n",
       "      <td>{'name': 'SZ.de/wüll'}</td>\n",
       "      <td>&lt;img src=\"https://media-cdn.sueddeutsche.de/im...</td>\n",
       "      <td>{'type': 'text/html', 'language': None, 'base'...</td>\n",
       "      <td>[{'term': 'Leserdiskussion', 'scheme': None, '...</td>\n",
       "      <td>Leserdiskussion: Was verbinden Sie mit Notre-D...</td>\n",
       "      <td>{'type': 'text/plain', 'language': None, 'base...</td>\n",
       "    </tr>\n",
       "    <tr>\n",
       "      <th>3</th>\n",
       "      <td>Von Klaus Ott</td>\n",
       "      <td>{'name': 'Von Klaus Ott'}</td>\n",
       "      <td>[{'name': 'Von Klaus Ott'}]</td>\n",
       "      <td>Der Ex-VW-Chef habe lange vor Auffliegen des S...</td>\n",
       "      <td>False</td>\n",
       "      <td>1.4410976</td>\n",
       "      <td>https://www.sueddeutsche.de/wirtschaft/winterk...</td>\n",
       "      <td>[{'rel': 'alternate', 'type': 'text/html', 'hr...</td>\n",
       "      <td>Tue, 16 Apr 2019 06:47:11 GMT</td>\n",
       "      <td>(2019, 4, 16, 6, 47, 11, 1, 106, 0)</td>\n",
       "      <td>SZ vom 16.04.2019</td>\n",
       "      <td>{'name': 'SZ vom 16.04.2019'}</td>\n",
       "      <td>&lt;img src=\"https://media-cdn.sueddeutsche.de/im...</td>\n",
       "      <td>{'type': 'text/html', 'language': None, 'base'...</td>\n",
       "      <td>[{'term': 'Automobilindustrie', 'scheme': None...</td>\n",
       "      <td>Anklage gegen Winterkorn: Was einen möglichen ...</td>\n",
       "      <td>{'type': 'text/plain', 'language': None, 'base...</td>\n",
       "    </tr>\n",
       "    <tr>\n",
       "      <th>4</th>\n",
       "      <td>Von Nadia Pantel, Paris, und Xaver Bitz</td>\n",
       "      <td>{'name': 'Von Nadia Pantel, Paris, und Xaver B...</td>\n",
       "      <td>[{'name': 'Von Nadia Pantel, Paris, und Xaver ...</td>\n",
       "      <td>Der Großbrand in dem Wahrzeichen Frankreichs k...</td>\n",
       "      <td>False</td>\n",
       "      <td>1.4411829</td>\n",
       "      <td>https://www.sueddeutsche.de/panorama/notre-dam...</td>\n",
       "      <td>[{'rel': 'alternate', 'type': 'text/html', 'hr...</td>\n",
       "      <td>Tue, 16 Apr 2019 06:44:48 GMT</td>\n",
       "      <td>(2019, 4, 16, 6, 44, 48, 1, 106, 0)</td>\n",
       "      <td>SZ.de/bix</td>\n",
       "      <td>{'name': 'SZ.de/bix'}</td>\n",
       "      <td>&lt;img src=\"https://media-cdn.sueddeutsche.de/im...</td>\n",
       "      <td>{'type': 'text/html', 'language': None, 'base'...</td>\n",
       "      <td>[{'term': 'Brandkatastrophe', 'scheme': None, ...</td>\n",
       "      <td>Brand in Notre-Dame: Kampf um das Herz der Stadt</td>\n",
       "      <td>{'type': 'text/plain', 'language': None, 'base...</td>\n",
       "    </tr>\n",
       "  </tbody>\n",
       "</table>\n",
       "</div>"
      ],
      "text/plain": [
       "                                    author  \\\n",
       "0                                      NaN   \n",
       "1                    Von Michael Moorstedt   \n",
       "2                                      NaN   \n",
       "3                            Von Klaus Ott   \n",
       "4  Von Nadia Pantel, Paris, und Xaver Bitz   \n",
       "\n",
       "                                       author_detail  \\\n",
       "0                                                NaN   \n",
       "1                  {'name': 'Von Michael Moorstedt'}   \n",
       "2                                                NaN   \n",
       "3                          {'name': 'Von Klaus Ott'}   \n",
       "4  {'name': 'Von Nadia Pantel, Paris, und Xaver B...   \n",
       "\n",
       "                                             authors  \\\n",
       "0                                                NaN   \n",
       "1                [{'name': 'Von Michael Moorstedt'}]   \n",
       "2                                                NaN   \n",
       "3                        [{'name': 'Von Klaus Ott'}]   \n",
       "4  [{'name': 'Von Nadia Pantel, Paris, und Xaver ...   \n",
       "\n",
       "                                         dc_abstract  guidislink         id  \\\n",
       "0  Die skandinavischen Staaten gelten als glückli...       False  1.4411850   \n",
       "1  Haben Sie auch brav Ihre Werbung geschaut?  Ei...       False  1.4409540   \n",
       "2  Ein Symbol für Frankreich, ein Wahrzeichen von...       False  1.4411853   \n",
       "3  Der Ex-VW-Chef habe lange vor Auffliegen des S...       False  1.4410976   \n",
       "4  Der Großbrand in dem Wahrzeichen Frankreichs k...       False  1.4411829   \n",
       "\n",
       "                                                link  \\\n",
       "0  https://www.sueddeutsche.de/politik/rechtspopu...   \n",
       "1  https://www.sueddeutsche.de/digital/preshow-we...   \n",
       "2  https://www.sueddeutsche.de/panorama/leserdisk...   \n",
       "3  https://www.sueddeutsche.de/wirtschaft/winterk...   \n",
       "4  https://www.sueddeutsche.de/panorama/notre-dam...   \n",
       "\n",
       "                                               links  \\\n",
       "0  [{'rel': 'alternate', 'type': 'text/html', 'hr...   \n",
       "1  [{'rel': 'alternate', 'type': 'text/html', 'hr...   \n",
       "2  [{'rel': 'alternate', 'type': 'text/html', 'hr...   \n",
       "3  [{'rel': 'alternate', 'type': 'text/html', 'hr...   \n",
       "4  [{'rel': 'alternate', 'type': 'text/html', 'hr...   \n",
       "\n",
       "                       published                     published_parsed  \\\n",
       "0  Tue, 16 Apr 2019 07:06:54 GMT   (2019, 4, 16, 7, 6, 54, 1, 106, 0)   \n",
       "1  Tue, 16 Apr 2019 07:05:22 GMT   (2019, 4, 16, 7, 5, 22, 1, 106, 0)   \n",
       "2  Tue, 16 Apr 2019 07:05:03 GMT    (2019, 4, 16, 7, 5, 3, 1, 106, 0)   \n",
       "3  Tue, 16 Apr 2019 06:47:11 GMT  (2019, 4, 16, 6, 47, 11, 1, 106, 0)   \n",
       "4  Tue, 16 Apr 2019 06:44:48 GMT  (2019, 4, 16, 6, 44, 48, 1, 106, 0)   \n",
       "\n",
       "           publisher               publisher_detail  \\\n",
       "0          SZ.de/hmw          {'name': 'SZ.de/hmw'}   \n",
       "1  SZ vom 15.04.2019  {'name': 'SZ vom 15.04.2019'}   \n",
       "2         SZ.de/wüll         {'name': 'SZ.de/wüll'}   \n",
       "3  SZ vom 16.04.2019  {'name': 'SZ vom 16.04.2019'}   \n",
       "4          SZ.de/bix          {'name': 'SZ.de/bix'}   \n",
       "\n",
       "                                             summary  \\\n",
       "0  <img src=\"https://media-cdn.sueddeutsche.de/im...   \n",
       "1  <img src=\"https://media-cdn.sueddeutsche.de/im...   \n",
       "2  <img src=\"https://media-cdn.sueddeutsche.de/im...   \n",
       "3  <img src=\"https://media-cdn.sueddeutsche.de/im...   \n",
       "4  <img src=\"https://media-cdn.sueddeutsche.de/im...   \n",
       "\n",
       "                                      summary_detail  \\\n",
       "0  {'type': 'text/html', 'language': None, 'base'...   \n",
       "1  {'type': 'text/html', 'language': None, 'base'...   \n",
       "2  {'type': 'text/html', 'language': None, 'base'...   \n",
       "3  {'type': 'text/html', 'language': None, 'base'...   \n",
       "4  {'type': 'text/html', 'language': None, 'base'...   \n",
       "\n",
       "                                                tags  \\\n",
       "0  [{'term': 'Wahl in Finnland', 'scheme': None, ...   \n",
       "1  [{'term': 'Apps', 'scheme': None, 'label': Non...   \n",
       "2  [{'term': 'Leserdiskussion', 'scheme': None, '...   \n",
       "3  [{'term': 'Automobilindustrie', 'scheme': None...   \n",
       "4  [{'term': 'Brandkatastrophe', 'scheme': None, ...   \n",
       "\n",
       "                                               title  \\\n",
       "0  Leserdiskussion: Ist der Rechtspopulismus eine...   \n",
       "1  Start-up Preshow : Gratiskonsum durch den Kons...   \n",
       "2  Leserdiskussion: Was verbinden Sie mit Notre-D...   \n",
       "3  Anklage gegen Winterkorn: Was einen möglichen ...   \n",
       "4   Brand in Notre-Dame: Kampf um das Herz der Stadt   \n",
       "\n",
       "                                        title_detail  \n",
       "0  {'type': 'text/plain', 'language': None, 'base...  \n",
       "1  {'type': 'text/plain', 'language': None, 'base...  \n",
       "2  {'type': 'text/plain', 'language': None, 'base...  \n",
       "3  {'type': 'text/plain', 'language': None, 'base...  \n",
       "4  {'type': 'text/plain', 'language': None, 'base...  "
      ]
     },
     "execution_count": 3,
     "metadata": {},
     "output_type": "execute_result"
    }
   ],
   "source": [
    "entries = feedparser.parse(\"http://rss.sueddeutsche.de/app/service/rss/alles/index.rss?output=rss\")\n",
    "szz = pd.DataFrame(entries.entries)\n",
    "szz.head()"
   ]
  },
  {
   "cell_type": "code",
   "execution_count": 4,
   "metadata": {},
   "outputs": [],
   "source": [
    "szz.drop(['author', 'author_detail', 'authors', 'dc_abstract', 'guidislink', 'id', 'links', 'published_parsed', 'publisher', 'publisher_detail', 'summary_detail', 'tags', 'title_detail'],axis=1, inplace=True)"
   ]
  },
  {
   "cell_type": "code",
   "execution_count": 5,
   "metadata": {},
   "outputs": [
    {
     "data": {
      "text/html": [
       "<div>\n",
       "<style scoped>\n",
       "    .dataframe tbody tr th:only-of-type {\n",
       "        vertical-align: middle;\n",
       "    }\n",
       "\n",
       "    .dataframe tbody tr th {\n",
       "        vertical-align: top;\n",
       "    }\n",
       "\n",
       "    .dataframe thead th {\n",
       "        text-align: right;\n",
       "    }\n",
       "</style>\n",
       "<table border=\"1\" class=\"dataframe\">\n",
       "  <thead>\n",
       "    <tr style=\"text-align: right;\">\n",
       "      <th></th>\n",
       "      <th>link</th>\n",
       "      <th>published</th>\n",
       "      <th>summary</th>\n",
       "      <th>title</th>\n",
       "    </tr>\n",
       "  </thead>\n",
       "  <tbody>\n",
       "    <tr>\n",
       "      <th>0</th>\n",
       "      <td>https://www.sueddeutsche.de/politik/rechtspopu...</td>\n",
       "      <td>Tue, 16 Apr 2019 07:06:54 GMT</td>\n",
       "      <td>&lt;img src=\"https://media-cdn.sueddeutsche.de/im...</td>\n",
       "      <td>Leserdiskussion: Ist der Rechtspopulismus eine...</td>\n",
       "    </tr>\n",
       "    <tr>\n",
       "      <th>1</th>\n",
       "      <td>https://www.sueddeutsche.de/digital/preshow-we...</td>\n",
       "      <td>Tue, 16 Apr 2019 07:05:22 GMT</td>\n",
       "      <td>&lt;img src=\"https://media-cdn.sueddeutsche.de/im...</td>\n",
       "      <td>Start-up Preshow : Gratiskonsum durch den Kons...</td>\n",
       "    </tr>\n",
       "    <tr>\n",
       "      <th>2</th>\n",
       "      <td>https://www.sueddeutsche.de/panorama/leserdisk...</td>\n",
       "      <td>Tue, 16 Apr 2019 07:05:03 GMT</td>\n",
       "      <td>&lt;img src=\"https://media-cdn.sueddeutsche.de/im...</td>\n",
       "      <td>Leserdiskussion: Was verbinden Sie mit Notre-D...</td>\n",
       "    </tr>\n",
       "    <tr>\n",
       "      <th>3</th>\n",
       "      <td>https://www.sueddeutsche.de/wirtschaft/winterk...</td>\n",
       "      <td>Tue, 16 Apr 2019 06:47:11 GMT</td>\n",
       "      <td>&lt;img src=\"https://media-cdn.sueddeutsche.de/im...</td>\n",
       "      <td>Anklage gegen Winterkorn: Was einen möglichen ...</td>\n",
       "    </tr>\n",
       "    <tr>\n",
       "      <th>4</th>\n",
       "      <td>https://www.sueddeutsche.de/panorama/notre-dam...</td>\n",
       "      <td>Tue, 16 Apr 2019 06:44:48 GMT</td>\n",
       "      <td>&lt;img src=\"https://media-cdn.sueddeutsche.de/im...</td>\n",
       "      <td>Brand in Notre-Dame: Kampf um das Herz der Stadt</td>\n",
       "    </tr>\n",
       "  </tbody>\n",
       "</table>\n",
       "</div>"
      ],
      "text/plain": [
       "                                                link  \\\n",
       "0  https://www.sueddeutsche.de/politik/rechtspopu...   \n",
       "1  https://www.sueddeutsche.de/digital/preshow-we...   \n",
       "2  https://www.sueddeutsche.de/panorama/leserdisk...   \n",
       "3  https://www.sueddeutsche.de/wirtschaft/winterk...   \n",
       "4  https://www.sueddeutsche.de/panorama/notre-dam...   \n",
       "\n",
       "                       published  \\\n",
       "0  Tue, 16 Apr 2019 07:06:54 GMT   \n",
       "1  Tue, 16 Apr 2019 07:05:22 GMT   \n",
       "2  Tue, 16 Apr 2019 07:05:03 GMT   \n",
       "3  Tue, 16 Apr 2019 06:47:11 GMT   \n",
       "4  Tue, 16 Apr 2019 06:44:48 GMT   \n",
       "\n",
       "                                             summary  \\\n",
       "0  <img src=\"https://media-cdn.sueddeutsche.de/im...   \n",
       "1  <img src=\"https://media-cdn.sueddeutsche.de/im...   \n",
       "2  <img src=\"https://media-cdn.sueddeutsche.de/im...   \n",
       "3  <img src=\"https://media-cdn.sueddeutsche.de/im...   \n",
       "4  <img src=\"https://media-cdn.sueddeutsche.de/im...   \n",
       "\n",
       "                                               title  \n",
       "0  Leserdiskussion: Ist der Rechtspopulismus eine...  \n",
       "1  Start-up Preshow : Gratiskonsum durch den Kons...  \n",
       "2  Leserdiskussion: Was verbinden Sie mit Notre-D...  \n",
       "3  Anklage gegen Winterkorn: Was einen möglichen ...  \n",
       "4   Brand in Notre-Dame: Kampf um das Herz der Stadt  "
      ]
     },
     "execution_count": 5,
     "metadata": {},
     "output_type": "execute_result"
    }
   ],
   "source": [
    "szz.head()"
   ]
  },
  {
   "cell_type": "code",
   "execution_count": 6,
   "metadata": {},
   "outputs": [],
   "source": [
    "#print ('Number of RSS feeds :', len(entries.entries))\n",
    "\n",
    "#print (faz.title)"
   ]
  },
  {
   "cell_type": "code",
   "execution_count": 7,
   "metadata": {},
   "outputs": [],
   "source": [
    "#print (faz.published)\n",
    "#print('\\n')\n",
    "#print (faz.summary)"
   ]
  },
  {
   "cell_type": "code",
   "execution_count": 8,
   "metadata": {},
   "outputs": [
    {
     "data": {
      "text/plain": [
       "0     <img src=\"https://media-cdn.sueddeutsche.de/im...\n",
       "1     <img src=\"https://media-cdn.sueddeutsche.de/im...\n",
       "2     <img src=\"https://media-cdn.sueddeutsche.de/im...\n",
       "3     <img src=\"https://media-cdn.sueddeutsche.de/im...\n",
       "4     <img src=\"https://media-cdn.sueddeutsche.de/im...\n",
       "5     <img src=\"https://media-cdn.sueddeutsche.de/im...\n",
       "6     <img src=\"https://media-cdn.sueddeutsche.de/im...\n",
       "7     <img src=\"https://media-cdn.sueddeutsche.de/im...\n",
       "8     <img src=\"https://media-cdn.sueddeutsche.de/im...\n",
       "9     <img src=\"https://media-cdn.sueddeutsche.de/im...\n",
       "10    <img src=\"https://media-cdn.sueddeutsche.de/im...\n",
       "11    <img src=\"https://media-cdn.sueddeutsche.de/im...\n",
       "12    <img src=\"https://media-cdn.sueddeutsche.de/im...\n",
       "13    <img src=\"https://media-cdn.sueddeutsche.de/im...\n",
       "14    <img src=\"https://media-cdn.sueddeutsche.de/im...\n",
       "Name: summary, dtype: object"
      ]
     },
     "execution_count": 8,
     "metadata": {},
     "output_type": "execute_result"
    }
   ],
   "source": [
    "test = szz.summary\n",
    "test"
   ]
  },
  {
   "cell_type": "code",
   "execution_count": 9,
   "metadata": {},
   "outputs": [
    {
     "data": {
      "text/plain": [
       "'<img src=\"https://media-cdn.sueddeutsche.de/image/sz.1.4411864/208x156\" alt=\"\" data-portal-copyright=\"AFP\" /><p>Die skandinavischen Staaten gelten als glücklichste Länder der Welt - doch trotzdem beherrschen rechtspopulistische Parteien den Diskurs. Droht jetzt ein Rechtsruck bei den Europawahlen?</p>'"
      ]
     },
     "execution_count": 9,
     "metadata": {},
     "output_type": "execute_result"
    }
   ],
   "source": [
    "test[0]"
   ]
  },
  {
   "cell_type": "code",
   "execution_count": 10,
   "metadata": {},
   "outputs": [],
   "source": [
    "#subtitle_one = test[0].split('title=\"')[1].split('\" alt=')[0] + test[0].split('<p>')[1].split('</p>')[0]"
   ]
  },
  {
   "cell_type": "code",
   "execution_count": 11,
   "metadata": {},
   "outputs": [],
   "source": [
    "#subtitle_one"
   ]
  },
  {
   "cell_type": "code",
   "execution_count": 12,
   "metadata": {},
   "outputs": [],
   "source": [
    "# for suedd\n",
    "description = []\n",
    "\n",
    "for index, text in enumerate(test):\n",
    "    text = test[index].split('<p>')[1].split('</p>')[0]\n",
    "    description.append(text)  "
   ]
  },
  {
   "cell_type": "code",
   "execution_count": 13,
   "metadata": {},
   "outputs": [],
   "source": [
    "subtext = pd.DataFrame((description), columns=['detailed'])"
   ]
  },
  {
   "cell_type": "code",
   "execution_count": 14,
   "metadata": {},
   "outputs": [],
   "source": [
    "#subtext.columns = ['detailed']"
   ]
  },
  {
   "cell_type": "code",
   "execution_count": 15,
   "metadata": {},
   "outputs": [],
   "source": [
    "szz_agg = pd.concat([szz, subtext], axis=1)\n",
    "szz_agg.drop(['summary'], axis=1, inplace=True)"
   ]
  },
  {
   "cell_type": "code",
   "execution_count": 16,
   "metadata": {},
   "outputs": [
    {
     "name": "stdout",
     "output_type": "stream",
     "text": [
      "filename: szz_2019-04-16_09-13-27.883235.csv\n",
      "pathname ../szz/szz_2019-04-16_09-13-27.883235.csv\n"
     ]
    }
   ],
   "source": [
    "def get_filename():\n",
    "    return \"szz_\" + str(datetime.datetime.now()).replace(' ', '_').replace(':', '-') + \".csv\"\n",
    "\n",
    "name = get_filename()\n",
    "print(\"filename:\", name)\n",
    "\n",
    "path = \"../szz/\" + name\n",
    "print(\"pathname\", path)"
   ]
  },
  {
   "cell_type": "code",
   "execution_count": 17,
   "metadata": {},
   "outputs": [],
   "source": [
    "szz_agg.to_csv(path, index=False)"
   ]
  },
  {
   "cell_type": "markdown",
   "metadata": {},
   "source": [
    "---"
   ]
  }
 ],
 "metadata": {
  "kernelspec": {
   "display_name": "Python 3",
   "language": "python",
   "name": "python3"
  },
  "language_info": {
   "codemirror_mode": {
    "name": "ipython",
    "version": 3
   },
   "file_extension": ".py",
   "mimetype": "text/x-python",
   "name": "python",
   "nbconvert_exporter": "python",
   "pygments_lexer": "ipython3",
   "version": "3.6.8"
  }
 },
 "nbformat": 4,
 "nbformat_minor": 2
}
