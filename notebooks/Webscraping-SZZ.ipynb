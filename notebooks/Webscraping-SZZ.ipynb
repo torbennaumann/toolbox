{
 "cells": [
  {
   "cell_type": "markdown",
   "metadata": {},
   "source": [
    "## Create script for SZZ - RSS Feed 'AKTUELLES'"
   ]
  },
  {
   "cell_type": "code",
   "execution_count": 1,
   "metadata": {},
   "outputs": [],
   "source": [
    "import feedparser\n",
    "import pandas as pd\n",
    "import datetime"
   ]
  },
  {
   "cell_type": "code",
   "execution_count": 2,
   "metadata": {},
   "outputs": [],
   "source": [
    "#section = {\n",
    "#1: 'politik',\n",
    "#2: 'wirtschaft',\n",
    "#3: 'finanzen',\n",
    "#4: 'feuilleton',\n",
    "#5: 'sport',\n",
    "#6: 'gesellschaft',\n",
    "#7: 'stil',\n",
    "#8: 'rhein-main',\n",
    "#9: 'technik',\n",
    "#10: 'wissen',\n",
    "#11: 'reise',\n",
    "#12: 'karriere',\n",
    "#13: 'aktuell'\n",
    "#}"
   ]
  },
  {
   "cell_type": "code",
   "execution_count": 3,
   "metadata": {},
   "outputs": [
    {
     "data": {
      "text/html": [
       "<div>\n",
       "<style scoped>\n",
       "    .dataframe tbody tr th:only-of-type {\n",
       "        vertical-align: middle;\n",
       "    }\n",
       "\n",
       "    .dataframe tbody tr th {\n",
       "        vertical-align: top;\n",
       "    }\n",
       "\n",
       "    .dataframe thead th {\n",
       "        text-align: right;\n",
       "    }\n",
       "</style>\n",
       "<table border=\"1\" class=\"dataframe\">\n",
       "  <thead>\n",
       "    <tr style=\"text-align: right;\">\n",
       "      <th></th>\n",
       "      <th>author</th>\n",
       "      <th>author_detail</th>\n",
       "      <th>authors</th>\n",
       "      <th>dc_abstract</th>\n",
       "      <th>guidislink</th>\n",
       "      <th>id</th>\n",
       "      <th>link</th>\n",
       "      <th>links</th>\n",
       "      <th>published</th>\n",
       "      <th>published_parsed</th>\n",
       "      <th>publisher</th>\n",
       "      <th>publisher_detail</th>\n",
       "      <th>summary</th>\n",
       "      <th>summary_detail</th>\n",
       "      <th>tags</th>\n",
       "      <th>title</th>\n",
       "      <th>title_detail</th>\n",
       "    </tr>\n",
       "  </thead>\n",
       "  <tbody>\n",
       "    <tr>\n",
       "      <th>0</th>\n",
       "      <td>NaN</td>\n",
       "      <td>NaN</td>\n",
       "      <td>NaN</td>\n",
       "      <td>Der abstiegsbedrohte Klub reagiert: Hannover w...</td>\n",
       "      <td>False</td>\n",
       "      <td>1.4402820</td>\n",
       "      <td>https://www.sueddeutsche.de/sport/hannover-hel...</td>\n",
       "      <td>[{'rel': 'alternate', 'type': 'text/html', 'hr...</td>\n",
       "      <td>Tue, 09 Apr 2019 11:56:31 GMT</td>\n",
       "      <td>(2019, 4, 9, 11, 56, 31, 1, 99, 0)</td>\n",
       "      <td>SZ.de/dpa</td>\n",
       "      <td>{'name': 'SZ.de/dpa'}</td>\n",
       "      <td>&lt;img src=\"https://media-cdn.sueddeutsche.de/im...</td>\n",
       "      <td>{'type': 'text/html', 'language': None, 'base'...</td>\n",
       "      <td>[{'term': 'Bundesliga', 'scheme': None, 'label...</td>\n",
       "      <td>Entlassung von Horst Heldt: \"Hannover 96 benöt...</td>\n",
       "      <td>{'type': 'text/plain', 'language': None, 'base...</td>\n",
       "    </tr>\n",
       "    <tr>\n",
       "      <th>1</th>\n",
       "      <td>Von Jürgen Schmieder, Los Angeles</td>\n",
       "      <td>{'name': 'Von Jürgen Schmieder, Los Angeles'}</td>\n",
       "      <td>[{'name': 'Von Jürgen Schmieder, Los Angeles'}]</td>\n",
       "      <td>Das gab's noch nie: Nationalstürmer Leon Drais...</td>\n",
       "      <td>False</td>\n",
       "      <td>1.4401122</td>\n",
       "      <td>https://www.sueddeutsche.de/sport/draisaitl-ei...</td>\n",
       "      <td>[{'rel': 'alternate', 'type': 'text/html', 'hr...</td>\n",
       "      <td>Tue, 09 Apr 2019 11:51:48 GMT</td>\n",
       "      <td>(2019, 4, 9, 11, 51, 48, 1, 99, 0)</td>\n",
       "      <td>SZ vom 09.04.2019</td>\n",
       "      <td>{'name': 'SZ vom 09.04.2019'}</td>\n",
       "      <td>&lt;img src=\"https://media-cdn.sueddeutsche.de/im...</td>\n",
       "      <td>{'type': 'text/html', 'language': None, 'base'...</td>\n",
       "      <td>[{'term': 'Eishockey', 'scheme': None, 'label'...</td>\n",
       "      <td>NHL: Draisaitl gehört nun zum höchsten Eishock...</td>\n",
       "      <td>{'type': 'text/plain', 'language': None, 'base...</td>\n",
       "    </tr>\n",
       "    <tr>\n",
       "      <th>2</th>\n",
       "      <td>NaN</td>\n",
       "      <td>NaN</td>\n",
       "      <td>NaN</td>\n",
       "      <td>Die Regierungspartei hatte zunächst eine volls...</td>\n",
       "      <td>False</td>\n",
       "      <td>1.4402944</td>\n",
       "      <td>https://www.sueddeutsche.de/politik/tuerkei-is...</td>\n",
       "      <td>[{'rel': 'alternate', 'type': 'text/html', 'hr...</td>\n",
       "      <td>Tue, 09 Apr 2019 11:48:05 GMT</td>\n",
       "      <td>(2019, 4, 9, 11, 48, 5, 1, 99, 0)</td>\n",
       "      <td>SZ.de/ap/jsa/dayk</td>\n",
       "      <td>{'name': 'SZ.de/ap/jsa/dayk'}</td>\n",
       "      <td>&lt;img src=\"https://media-cdn.sueddeutsche.de/im...</td>\n",
       "      <td>{'type': 'text/html', 'language': None, 'base'...</td>\n",
       "      <td>[{'term': 'Politik Türkei', 'scheme': None, 'l...</td>\n",
       "      <td>Bürgermeisterwahl: AKP will Wahlwiederholung i...</td>\n",
       "      <td>{'type': 'text/plain', 'language': None, 'base...</td>\n",
       "    </tr>\n",
       "    <tr>\n",
       "      <th>3</th>\n",
       "      <td>Von Jannis Brühl</td>\n",
       "      <td>{'name': 'Von Jannis Brühl'}</td>\n",
       "      <td>[{'name': 'Von Jannis Brühl'}]</td>\n",
       "      <td>Polizisten sollen laut einem Gesetzentwurf von...</td>\n",
       "      <td>False</td>\n",
       "      <td>1.4401627</td>\n",
       "      <td>https://www.sueddeutsche.de/digital/passwort-i...</td>\n",
       "      <td>[{'rel': 'alternate', 'type': 'text/html', 'hr...</td>\n",
       "      <td>Tue, 09 Apr 2019 11:44:32 GMT</td>\n",
       "      <td>(2019, 4, 9, 11, 44, 32, 1, 99, 0)</td>\n",
       "      <td>SZ.de</td>\n",
       "      <td>{'name': 'SZ.de'}</td>\n",
       "      <td>&lt;img src=\"https://media-cdn.sueddeutsche.de/im...</td>\n",
       "      <td>{'type': 'text/html', 'language': None, 'base'...</td>\n",
       "      <td>[{'term': 'IT-Sicherheit', 'scheme': None, 'la...</td>\n",
       "      <td>Geplantes IT-Sicherheitsgesetz: Passwort oder ...</td>\n",
       "      <td>{'type': 'text/plain', 'language': None, 'base...</td>\n",
       "    </tr>\n",
       "    <tr>\n",
       "      <th>4</th>\n",
       "      <td>Meldungen im Überblick</td>\n",
       "      <td>{'name': 'Meldungen im Überblick'}</td>\n",
       "      <td>[{'name': 'Meldungen im Überblick'}]</td>\n",
       "      <td>Der ehemalige Nationalspieler könnte \"Leiter S...</td>\n",
       "      <td>False</td>\n",
       "      <td>1.4402823</td>\n",
       "      <td>https://www.sueddeutsche.de/sport/fussball-med...</td>\n",
       "      <td>[{'rel': 'alternate', 'type': 'text/html', 'hr...</td>\n",
       "      <td>Tue, 09 Apr 2019 11:36:06 GMT</td>\n",
       "      <td>(2019, 4, 9, 11, 36, 6, 1, 99, 0)</td>\n",
       "      <td>SZ.de/dpa/sid</td>\n",
       "      <td>{'name': 'SZ.de/dpa/sid'}</td>\n",
       "      <td>&lt;img src=\"https://media-cdn.sueddeutsche.de/im...</td>\n",
       "      <td>{'type': 'text/html', 'language': None, 'base'...</td>\n",
       "      <td>[{'term': 'Bundesliga', 'scheme': None, 'label...</td>\n",
       "      <td>Fußball: Medien: Metzelder in Gesprächen mit L...</td>\n",
       "      <td>{'type': 'text/plain', 'language': None, 'base...</td>\n",
       "    </tr>\n",
       "  </tbody>\n",
       "</table>\n",
       "</div>"
      ],
      "text/plain": [
       "                              author  \\\n",
       "0                                NaN   \n",
       "1  Von Jürgen Schmieder, Los Angeles   \n",
       "2                                NaN   \n",
       "3                   Von Jannis Brühl   \n",
       "4             Meldungen im Überblick   \n",
       "\n",
       "                                   author_detail  \\\n",
       "0                                            NaN   \n",
       "1  {'name': 'Von Jürgen Schmieder, Los Angeles'}   \n",
       "2                                            NaN   \n",
       "3                   {'name': 'Von Jannis Brühl'}   \n",
       "4             {'name': 'Meldungen im Überblick'}   \n",
       "\n",
       "                                           authors  \\\n",
       "0                                              NaN   \n",
       "1  [{'name': 'Von Jürgen Schmieder, Los Angeles'}]   \n",
       "2                                              NaN   \n",
       "3                   [{'name': 'Von Jannis Brühl'}]   \n",
       "4             [{'name': 'Meldungen im Überblick'}]   \n",
       "\n",
       "                                         dc_abstract  guidislink         id  \\\n",
       "0  Der abstiegsbedrohte Klub reagiert: Hannover w...       False  1.4402820   \n",
       "1  Das gab's noch nie: Nationalstürmer Leon Drais...       False  1.4401122   \n",
       "2  Die Regierungspartei hatte zunächst eine volls...       False  1.4402944   \n",
       "3  Polizisten sollen laut einem Gesetzentwurf von...       False  1.4401627   \n",
       "4  Der ehemalige Nationalspieler könnte \"Leiter S...       False  1.4402823   \n",
       "\n",
       "                                                link  \\\n",
       "0  https://www.sueddeutsche.de/sport/hannover-hel...   \n",
       "1  https://www.sueddeutsche.de/sport/draisaitl-ei...   \n",
       "2  https://www.sueddeutsche.de/politik/tuerkei-is...   \n",
       "3  https://www.sueddeutsche.de/digital/passwort-i...   \n",
       "4  https://www.sueddeutsche.de/sport/fussball-med...   \n",
       "\n",
       "                                               links  \\\n",
       "0  [{'rel': 'alternate', 'type': 'text/html', 'hr...   \n",
       "1  [{'rel': 'alternate', 'type': 'text/html', 'hr...   \n",
       "2  [{'rel': 'alternate', 'type': 'text/html', 'hr...   \n",
       "3  [{'rel': 'alternate', 'type': 'text/html', 'hr...   \n",
       "4  [{'rel': 'alternate', 'type': 'text/html', 'hr...   \n",
       "\n",
       "                       published                    published_parsed  \\\n",
       "0  Tue, 09 Apr 2019 11:56:31 GMT  (2019, 4, 9, 11, 56, 31, 1, 99, 0)   \n",
       "1  Tue, 09 Apr 2019 11:51:48 GMT  (2019, 4, 9, 11, 51, 48, 1, 99, 0)   \n",
       "2  Tue, 09 Apr 2019 11:48:05 GMT   (2019, 4, 9, 11, 48, 5, 1, 99, 0)   \n",
       "3  Tue, 09 Apr 2019 11:44:32 GMT  (2019, 4, 9, 11, 44, 32, 1, 99, 0)   \n",
       "4  Tue, 09 Apr 2019 11:36:06 GMT   (2019, 4, 9, 11, 36, 6, 1, 99, 0)   \n",
       "\n",
       "           publisher               publisher_detail  \\\n",
       "0          SZ.de/dpa          {'name': 'SZ.de/dpa'}   \n",
       "1  SZ vom 09.04.2019  {'name': 'SZ vom 09.04.2019'}   \n",
       "2  SZ.de/ap/jsa/dayk  {'name': 'SZ.de/ap/jsa/dayk'}   \n",
       "3              SZ.de              {'name': 'SZ.de'}   \n",
       "4      SZ.de/dpa/sid      {'name': 'SZ.de/dpa/sid'}   \n",
       "\n",
       "                                             summary  \\\n",
       "0  <img src=\"https://media-cdn.sueddeutsche.de/im...   \n",
       "1  <img src=\"https://media-cdn.sueddeutsche.de/im...   \n",
       "2  <img src=\"https://media-cdn.sueddeutsche.de/im...   \n",
       "3  <img src=\"https://media-cdn.sueddeutsche.de/im...   \n",
       "4  <img src=\"https://media-cdn.sueddeutsche.de/im...   \n",
       "\n",
       "                                      summary_detail  \\\n",
       "0  {'type': 'text/html', 'language': None, 'base'...   \n",
       "1  {'type': 'text/html', 'language': None, 'base'...   \n",
       "2  {'type': 'text/html', 'language': None, 'base'...   \n",
       "3  {'type': 'text/html', 'language': None, 'base'...   \n",
       "4  {'type': 'text/html', 'language': None, 'base'...   \n",
       "\n",
       "                                                tags  \\\n",
       "0  [{'term': 'Bundesliga', 'scheme': None, 'label...   \n",
       "1  [{'term': 'Eishockey', 'scheme': None, 'label'...   \n",
       "2  [{'term': 'Politik Türkei', 'scheme': None, 'l...   \n",
       "3  [{'term': 'IT-Sicherheit', 'scheme': None, 'la...   \n",
       "4  [{'term': 'Bundesliga', 'scheme': None, 'label...   \n",
       "\n",
       "                                               title  \\\n",
       "0  Entlassung von Horst Heldt: \"Hannover 96 benöt...   \n",
       "1  NHL: Draisaitl gehört nun zum höchsten Eishock...   \n",
       "2  Bürgermeisterwahl: AKP will Wahlwiederholung i...   \n",
       "3  Geplantes IT-Sicherheitsgesetz: Passwort oder ...   \n",
       "4  Fußball: Medien: Metzelder in Gesprächen mit L...   \n",
       "\n",
       "                                        title_detail  \n",
       "0  {'type': 'text/plain', 'language': None, 'base...  \n",
       "1  {'type': 'text/plain', 'language': None, 'base...  \n",
       "2  {'type': 'text/plain', 'language': None, 'base...  \n",
       "3  {'type': 'text/plain', 'language': None, 'base...  \n",
       "4  {'type': 'text/plain', 'language': None, 'base...  "
      ]
     },
     "execution_count": 3,
     "metadata": {},
     "output_type": "execute_result"
    }
   ],
   "source": [
    "entries = feedparser.parse(\"http://rss.sueddeutsche.de/app/service/rss/alles/index.rss?output=rss\")\n",
    "szz = pd.DataFrame(entries.entries)\n",
    "szz.head()"
   ]
  },
  {
   "cell_type": "code",
   "execution_count": 4,
   "metadata": {},
   "outputs": [],
   "source": [
    "szz.drop(['author', 'author_detail', 'authors', 'dc_abstract', 'guidislink', 'id', 'links', 'published_parsed', 'publisher', 'publisher_detail', 'summary_detail', 'tags', 'title_detail'],axis=1, inplace=True)"
   ]
  },
  {
   "cell_type": "code",
   "execution_count": 5,
   "metadata": {},
   "outputs": [
    {
     "data": {
      "text/html": [
       "<div>\n",
       "<style scoped>\n",
       "    .dataframe tbody tr th:only-of-type {\n",
       "        vertical-align: middle;\n",
       "    }\n",
       "\n",
       "    .dataframe tbody tr th {\n",
       "        vertical-align: top;\n",
       "    }\n",
       "\n",
       "    .dataframe thead th {\n",
       "        text-align: right;\n",
       "    }\n",
       "</style>\n",
       "<table border=\"1\" class=\"dataframe\">\n",
       "  <thead>\n",
       "    <tr style=\"text-align: right;\">\n",
       "      <th></th>\n",
       "      <th>link</th>\n",
       "      <th>published</th>\n",
       "      <th>summary</th>\n",
       "      <th>title</th>\n",
       "    </tr>\n",
       "  </thead>\n",
       "  <tbody>\n",
       "    <tr>\n",
       "      <th>0</th>\n",
       "      <td>https://www.sueddeutsche.de/sport/hannover-hel...</td>\n",
       "      <td>Tue, 09 Apr 2019 11:56:31 GMT</td>\n",
       "      <td>&lt;img src=\"https://media-cdn.sueddeutsche.de/im...</td>\n",
       "      <td>Entlassung von Horst Heldt: \"Hannover 96 benöt...</td>\n",
       "    </tr>\n",
       "    <tr>\n",
       "      <th>1</th>\n",
       "      <td>https://www.sueddeutsche.de/sport/draisaitl-ei...</td>\n",
       "      <td>Tue, 09 Apr 2019 11:51:48 GMT</td>\n",
       "      <td>&lt;img src=\"https://media-cdn.sueddeutsche.de/im...</td>\n",
       "      <td>NHL: Draisaitl gehört nun zum höchsten Eishock...</td>\n",
       "    </tr>\n",
       "    <tr>\n",
       "      <th>2</th>\n",
       "      <td>https://www.sueddeutsche.de/politik/tuerkei-is...</td>\n",
       "      <td>Tue, 09 Apr 2019 11:48:05 GMT</td>\n",
       "      <td>&lt;img src=\"https://media-cdn.sueddeutsche.de/im...</td>\n",
       "      <td>Bürgermeisterwahl: AKP will Wahlwiederholung i...</td>\n",
       "    </tr>\n",
       "    <tr>\n",
       "      <th>3</th>\n",
       "      <td>https://www.sueddeutsche.de/digital/passwort-i...</td>\n",
       "      <td>Tue, 09 Apr 2019 11:44:32 GMT</td>\n",
       "      <td>&lt;img src=\"https://media-cdn.sueddeutsche.de/im...</td>\n",
       "      <td>Geplantes IT-Sicherheitsgesetz: Passwort oder ...</td>\n",
       "    </tr>\n",
       "    <tr>\n",
       "      <th>4</th>\n",
       "      <td>https://www.sueddeutsche.de/sport/fussball-med...</td>\n",
       "      <td>Tue, 09 Apr 2019 11:36:06 GMT</td>\n",
       "      <td>&lt;img src=\"https://media-cdn.sueddeutsche.de/im...</td>\n",
       "      <td>Fußball: Medien: Metzelder in Gesprächen mit L...</td>\n",
       "    </tr>\n",
       "  </tbody>\n",
       "</table>\n",
       "</div>"
      ],
      "text/plain": [
       "                                                link  \\\n",
       "0  https://www.sueddeutsche.de/sport/hannover-hel...   \n",
       "1  https://www.sueddeutsche.de/sport/draisaitl-ei...   \n",
       "2  https://www.sueddeutsche.de/politik/tuerkei-is...   \n",
       "3  https://www.sueddeutsche.de/digital/passwort-i...   \n",
       "4  https://www.sueddeutsche.de/sport/fussball-med...   \n",
       "\n",
       "                       published  \\\n",
       "0  Tue, 09 Apr 2019 11:56:31 GMT   \n",
       "1  Tue, 09 Apr 2019 11:51:48 GMT   \n",
       "2  Tue, 09 Apr 2019 11:48:05 GMT   \n",
       "3  Tue, 09 Apr 2019 11:44:32 GMT   \n",
       "4  Tue, 09 Apr 2019 11:36:06 GMT   \n",
       "\n",
       "                                             summary  \\\n",
       "0  <img src=\"https://media-cdn.sueddeutsche.de/im...   \n",
       "1  <img src=\"https://media-cdn.sueddeutsche.de/im...   \n",
       "2  <img src=\"https://media-cdn.sueddeutsche.de/im...   \n",
       "3  <img src=\"https://media-cdn.sueddeutsche.de/im...   \n",
       "4  <img src=\"https://media-cdn.sueddeutsche.de/im...   \n",
       "\n",
       "                                               title  \n",
       "0  Entlassung von Horst Heldt: \"Hannover 96 benöt...  \n",
       "1  NHL: Draisaitl gehört nun zum höchsten Eishock...  \n",
       "2  Bürgermeisterwahl: AKP will Wahlwiederholung i...  \n",
       "3  Geplantes IT-Sicherheitsgesetz: Passwort oder ...  \n",
       "4  Fußball: Medien: Metzelder in Gesprächen mit L...  "
      ]
     },
     "execution_count": 5,
     "metadata": {},
     "output_type": "execute_result"
    }
   ],
   "source": [
    "szz.head()"
   ]
  },
  {
   "cell_type": "code",
   "execution_count": 6,
   "metadata": {},
   "outputs": [],
   "source": [
    "#print ('Number of RSS feeds :', len(entries.entries))\n",
    "\n",
    "#print (faz.title)"
   ]
  },
  {
   "cell_type": "code",
   "execution_count": 7,
   "metadata": {},
   "outputs": [],
   "source": [
    "#print (faz.published)\n",
    "#print('\\n')\n",
    "#print (faz.summary)"
   ]
  },
  {
   "cell_type": "code",
   "execution_count": 8,
   "metadata": {},
   "outputs": [
    {
     "data": {
      "text/plain": [
       "0     <img src=\"https://media-cdn.sueddeutsche.de/im...\n",
       "1     <img src=\"https://media-cdn.sueddeutsche.de/im...\n",
       "2     <img src=\"https://media-cdn.sueddeutsche.de/im...\n",
       "3     <img src=\"https://media-cdn.sueddeutsche.de/im...\n",
       "4     <img src=\"https://media-cdn.sueddeutsche.de/im...\n",
       "5     <img src=\"https://media-cdn.sueddeutsche.de/im...\n",
       "6     <img src=\"https://media-cdn.sueddeutsche.de/im...\n",
       "7     <p>Am Güterbahnhof München-Laim greift die Pol...\n",
       "8     <img src=\"https://media-cdn.sueddeutsche.de/im...\n",
       "9     <img src=\"https://media-cdn.sueddeutsche.de/im...\n",
       "10    <img src=\"https://media-cdn.sueddeutsche.de/im...\n",
       "11    <img src=\"https://media-cdn.sueddeutsche.de/im...\n",
       "12    <img src=\"https://media-cdn.sueddeutsche.de/im...\n",
       "13    <img src=\"https://media-cdn.sueddeutsche.de/im...\n",
       "14    <img src=\"https://media-cdn.sueddeutsche.de/im...\n",
       "Name: summary, dtype: object"
      ]
     },
     "execution_count": 8,
     "metadata": {},
     "output_type": "execute_result"
    }
   ],
   "source": [
    "test = szz.summary\n",
    "test"
   ]
  },
  {
   "cell_type": "code",
   "execution_count": 9,
   "metadata": {},
   "outputs": [
    {
     "data": {
      "text/plain": [
       "'<img src=\"https://media-cdn.sueddeutsche.de/image/sz.1.4402822/208x156\" alt=\"VfL Wolfsburg - Hannover 96\" data-portal-copyright=\"dpa\" /><p>Der abstiegsbedrohte Klub reagiert: Hannover wirft Manager Heldt raus - Vereinsboss Kind hält ihm vor, die Mannschaft schlecht zusammengestellt zu haben. </p>'"
      ]
     },
     "execution_count": 9,
     "metadata": {},
     "output_type": "execute_result"
    }
   ],
   "source": [
    "test[0]"
   ]
  },
  {
   "cell_type": "code",
   "execution_count": 10,
   "metadata": {},
   "outputs": [],
   "source": [
    "#subtitle_one = test[0].split('title=\"')[1].split('\" alt=')[0] + test[0].split('<p>')[1].split('</p>')[0]"
   ]
  },
  {
   "cell_type": "code",
   "execution_count": 11,
   "metadata": {},
   "outputs": [],
   "source": [
    "#subtitle_one"
   ]
  },
  {
   "cell_type": "code",
   "execution_count": 12,
   "metadata": {},
   "outputs": [],
   "source": [
    "# for suedd\n",
    "description = []\n",
    "\n",
    "for index, text in enumerate(test):\n",
    "    text = test[index].split('<p>')[1].split('</p>')[0]\n",
    "    description.append(text)  "
   ]
  },
  {
   "cell_type": "code",
   "execution_count": 13,
   "metadata": {},
   "outputs": [],
   "source": [
    "subtext = pd.DataFrame((description), columns=['detailed'])"
   ]
  },
  {
   "cell_type": "code",
   "execution_count": 14,
   "metadata": {},
   "outputs": [],
   "source": [
    "#subtext.columns = ['detailed']"
   ]
  },
  {
   "cell_type": "code",
   "execution_count": 15,
   "metadata": {},
   "outputs": [],
   "source": [
    "szz_agg = pd.concat([szz, subtext], axis=1)\n",
    "szz_agg.drop(['summary'], axis=1, inplace=True)"
   ]
  },
  {
   "cell_type": "code",
   "execution_count": 18,
   "metadata": {},
   "outputs": [
    {
     "name": "stdout",
     "output_type": "stream",
     "text": [
      "filename: szz_2019-04-09_14-11-49.433565.csv\n",
      "pathname ../data/aktuell/szz_2019-04-09_14-11-49.433565.csv\n"
     ]
    }
   ],
   "source": [
    "def get_filename():\n",
    "    return \"szz_\" + str(datetime.datetime.now()).replace(' ', '_').replace(':', '-') + \".csv\"\n",
    "\n",
    "name = get_filename()\n",
    "print(\"filename:\", name)\n",
    "\n",
    "path = \"../data/aktuell/\" + name\n",
    "print(\"pathname\", path)"
   ]
  },
  {
   "cell_type": "code",
   "execution_count": 19,
   "metadata": {},
   "outputs": [],
   "source": [
    "szz_agg.to_csv(path, index=False)"
   ]
  },
  {
   "cell_type": "markdown",
   "metadata": {},
   "source": [
    "---"
   ]
  }
 ],
 "metadata": {
  "kernelspec": {
   "display_name": "Python 3",
   "language": "python",
   "name": "python3"
  },
  "language_info": {
   "codemirror_mode": {
    "name": "ipython",
    "version": 3
   },
   "file_extension": ".py",
   "mimetype": "text/x-python",
   "name": "python",
   "nbconvert_exporter": "python",
   "pygments_lexer": "ipython3",
   "version": "3.6.8"
  }
 },
 "nbformat": 4,
 "nbformat_minor": 2
}
