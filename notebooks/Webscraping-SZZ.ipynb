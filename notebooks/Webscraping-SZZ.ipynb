{
 "cells": [
  {
   "cell_type": "markdown",
   "metadata": {},
   "source": [
    "## Create script for SZZ - RSS Feed 'AKTUELLES'"
   ]
  },
  {
   "cell_type": "code",
   "execution_count": 1,
   "metadata": {},
   "outputs": [],
   "source": [
    "import feedparser\n",
    "import pandas as pd\n",
    "import datetime"
   ]
  },
  {
   "cell_type": "code",
   "execution_count": 2,
   "metadata": {},
   "outputs": [],
   "source": [
    "#section = {\n",
    "#1: 'politik',\n",
    "#2: 'wirtschaft',\n",
    "#3: 'finanzen',\n",
    "#4: 'feuilleton',\n",
    "#5: 'sport',\n",
    "#6: 'gesellschaft',\n",
    "#7: 'stil',\n",
    "#8: 'rhein-main',\n",
    "#9: 'technik',\n",
    "#10: 'wissen',\n",
    "#11: 'reise',\n",
    "#12: 'karriere',\n",
    "#13: 'aktuell'\n",
    "#}"
   ]
  },
  {
   "cell_type": "code",
   "execution_count": 3,
   "metadata": {},
   "outputs": [
    {
     "data": {
      "text/html": [
       "<div>\n",
       "<style scoped>\n",
       "    .dataframe tbody tr th:only-of-type {\n",
       "        vertical-align: middle;\n",
       "    }\n",
       "\n",
       "    .dataframe tbody tr th {\n",
       "        vertical-align: top;\n",
       "    }\n",
       "\n",
       "    .dataframe thead th {\n",
       "        text-align: right;\n",
       "    }\n",
       "</style>\n",
       "<table border=\"1\" class=\"dataframe\">\n",
       "  <thead>\n",
       "    <tr style=\"text-align: right;\">\n",
       "      <th></th>\n",
       "      <th>author</th>\n",
       "      <th>author_detail</th>\n",
       "      <th>authors</th>\n",
       "      <th>dc_abstract</th>\n",
       "      <th>guidislink</th>\n",
       "      <th>id</th>\n",
       "      <th>link</th>\n",
       "      <th>links</th>\n",
       "      <th>published</th>\n",
       "      <th>published_parsed</th>\n",
       "      <th>publisher</th>\n",
       "      <th>publisher_detail</th>\n",
       "      <th>summary</th>\n",
       "      <th>summary_detail</th>\n",
       "      <th>tags</th>\n",
       "      <th>title</th>\n",
       "      <th>title_detail</th>\n",
       "    </tr>\n",
       "  </thead>\n",
       "  <tbody>\n",
       "    <tr>\n",
       "      <th>0</th>\n",
       "      <td>Von Konstantin Kaip</td>\n",
       "      <td>{'name': 'Von Konstantin Kaip'}</td>\n",
       "      <td>[{'name': 'Von Konstantin Kaip'}]</td>\n",
       "      <td>Der Wolfratshauser Stadtrat will die Floßrutsc...</td>\n",
       "      <td>False</td>\n",
       "      <td>1.4409206</td>\n",
       "      <td>https://www.sueddeutsche.de/muenchen/wolfratsh...</td>\n",
       "      <td>[{'rel': 'alternate', 'type': 'text/html', 'hr...</td>\n",
       "      <td>Sun, 14 Apr 2019 13:54:24 GMT</td>\n",
       "      <td>(2019, 4, 14, 13, 54, 24, 6, 104, 0)</td>\n",
       "      <td>SZ vom 15.04.2019</td>\n",
       "      <td>{'name': 'SZ vom 15.04.2019'}</td>\n",
       "      <td>&lt;img src=\"https://media-cdn.sueddeutsche.de/im...</td>\n",
       "      <td>{'type': 'text/html', 'language': None, 'base'...</td>\n",
       "      <td>[{'term': 'Alfred Fraas', 'scheme': None, 'lab...</td>\n",
       "      <td>Wolfratshauser Attraktion: Nicht jedem lieb, a...</td>\n",
       "      <td>{'type': 'text/plain', 'language': None, 'base...</td>\n",
       "    </tr>\n",
       "    <tr>\n",
       "      <th>1</th>\n",
       "      <td>Von Max Hägler und Michael Kläsgen</td>\n",
       "      <td>{'name': 'Von Max Hägler und Michael Kläsgen'}</td>\n",
       "      <td>[{'name': 'Von Max Hägler und Michael Kläsgen'}]</td>\n",
       "      <td>Gebrauchte Produkte aufzuarbeiten, liegt im Tr...</td>\n",
       "      <td>False</td>\n",
       "      <td>1.4407923</td>\n",
       "      <td>https://www.sueddeutsche.de/wirtschaft/refurbi...</td>\n",
       "      <td>[{'rel': 'alternate', 'type': 'text/html', 'hr...</td>\n",
       "      <td>Sun, 14 Apr 2019 13:51:24 GMT</td>\n",
       "      <td>(2019, 4, 14, 13, 51, 24, 6, 104, 0)</td>\n",
       "      <td>SZ vom 13.04.2019</td>\n",
       "      <td>{'name': 'SZ vom 13.04.2019'}</td>\n",
       "      <td>&lt;img src=\"https://media-cdn.sueddeutsche.de/im...</td>\n",
       "      <td>{'type': 'text/html', 'language': None, 'base'...</td>\n",
       "      <td>[{'term': 'Nachhaltigkeit', 'scheme': None, 'l...</td>\n",
       "      <td>Erneuerung gebrauchter Produkte: So gut wie neu</td>\n",
       "      <td>{'type': 'text/plain', 'language': None, 'base...</td>\n",
       "    </tr>\n",
       "    <tr>\n",
       "      <th>2</th>\n",
       "      <td>Von Astrid Becker, Berg</td>\n",
       "      <td>{'name': 'Von Astrid Becker, Berg'}</td>\n",
       "      <td>[{'name': 'Von Astrid Becker, Berg'}]</td>\n",
       "      <td></td>\n",
       "      <td>False</td>\n",
       "      <td>1.4409448</td>\n",
       "      <td>https://www.sueddeutsche.de/muenchen/starnberg...</td>\n",
       "      <td>[{'rel': 'alternate', 'type': 'text/html', 'hr...</td>\n",
       "      <td>Sun, 14 Apr 2019 13:49:59 GMT</td>\n",
       "      <td>(2019, 4, 14, 13, 49, 59, 6, 104, 0)</td>\n",
       "      <td>SZ vom 15.04.2019</td>\n",
       "      <td>{'name': 'SZ vom 15.04.2019'}</td>\n",
       "      <td>&lt;p&gt;&lt;/p&gt;</td>\n",
       "      <td>{'type': 'text/html', 'language': None, 'base'...</td>\n",
       "      <td>[{'term': 'Süddeutsche Zeitung Starnberg', 'sc...</td>\n",
       "      <td>17-Jähriger verursacht Unfall in Berg: Ohne Fü...</td>\n",
       "      <td>{'type': 'text/plain', 'language': None, 'base...</td>\n",
       "    </tr>\n",
       "    <tr>\n",
       "      <th>3</th>\n",
       "      <td>Kommentar von Tomas Avenarius</td>\n",
       "      <td>{'name': 'Kommentar von Tomas Avenarius'}</td>\n",
       "      <td>[{'name': 'Kommentar von Tomas Avenarius'}]</td>\n",
       "      <td>Den Herrschern, die im Sudan und in Algerien z...</td>\n",
       "      <td>False</td>\n",
       "      <td>1.4409798</td>\n",
       "      <td>https://www.sueddeutsche.de/politik/sudan-alge...</td>\n",
       "      <td>[{'rel': 'alternate', 'type': 'text/html', 'hr...</td>\n",
       "      <td>Sun, 14 Apr 2019 13:46:40 GMT</td>\n",
       "      <td>(2019, 4, 14, 13, 46, 40, 6, 104, 0)</td>\n",
       "      <td>SZ vom 15.04.2019</td>\n",
       "      <td>{'name': 'SZ vom 15.04.2019'}</td>\n",
       "      <td>&lt;img src=\"https://media-cdn.sueddeutsche.de/im...</td>\n",
       "      <td>{'type': 'text/html', 'language': None, 'base'...</td>\n",
       "      <td>[{'term': 'Politik Afrika', 'scheme': None, 'l...</td>\n",
       "      <td>Libyen, Sudan, Algerien: In Nordafrika wachsen...</td>\n",
       "      <td>{'type': 'text/plain', 'language': None, 'base...</td>\n",
       "    </tr>\n",
       "    <tr>\n",
       "      <th>4</th>\n",
       "      <td>NaN</td>\n",
       "      <td>NaN</td>\n",
       "      <td>NaN</td>\n",
       "      <td>Die Berliner haben nun fünf Spiele in Folge ve...</td>\n",
       "      <td>False</td>\n",
       "      <td>1.4409848</td>\n",
       "      <td>https://www.sueddeutsche.de/sport/bundesliga-h...</td>\n",
       "      <td>[{'rel': 'alternate', 'type': 'text/html', 'hr...</td>\n",
       "      <td>Sun, 14 Apr 2019 13:32:23 GMT</td>\n",
       "      <td>(2019, 4, 14, 13, 32, 23, 6, 104, 0)</td>\n",
       "      <td>SZ.de/sid</td>\n",
       "      <td>{'name': 'SZ.de/sid'}</td>\n",
       "      <td>&lt;img src=\"https://media-cdn.sueddeutsche.de/im...</td>\n",
       "      <td>{'type': 'text/html', 'language': None, 'base'...</td>\n",
       "      <td>[{'term': 'Bundesliga', 'scheme': None, 'label...</td>\n",
       "      <td>Bundesliga: Hoffenheim verschärft Herthas Krise</td>\n",
       "      <td>{'type': 'text/plain', 'language': None, 'base...</td>\n",
       "    </tr>\n",
       "  </tbody>\n",
       "</table>\n",
       "</div>"
      ],
      "text/plain": [
       "                               author  \\\n",
       "0                 Von Konstantin Kaip   \n",
       "1  Von Max Hägler und Michael Kläsgen   \n",
       "2             Von Astrid Becker, Berg   \n",
       "3       Kommentar von Tomas Avenarius   \n",
       "4                                 NaN   \n",
       "\n",
       "                                    author_detail  \\\n",
       "0                 {'name': 'Von Konstantin Kaip'}   \n",
       "1  {'name': 'Von Max Hägler und Michael Kläsgen'}   \n",
       "2             {'name': 'Von Astrid Becker, Berg'}   \n",
       "3       {'name': 'Kommentar von Tomas Avenarius'}   \n",
       "4                                             NaN   \n",
       "\n",
       "                                            authors  \\\n",
       "0                 [{'name': 'Von Konstantin Kaip'}]   \n",
       "1  [{'name': 'Von Max Hägler und Michael Kläsgen'}]   \n",
       "2             [{'name': 'Von Astrid Becker, Berg'}]   \n",
       "3       [{'name': 'Kommentar von Tomas Avenarius'}]   \n",
       "4                                               NaN   \n",
       "\n",
       "                                         dc_abstract  guidislink         id  \\\n",
       "0  Der Wolfratshauser Stadtrat will die Floßrutsc...       False  1.4409206   \n",
       "1  Gebrauchte Produkte aufzuarbeiten, liegt im Tr...       False  1.4407923   \n",
       "2                                                          False  1.4409448   \n",
       "3  Den Herrschern, die im Sudan und in Algerien z...       False  1.4409798   \n",
       "4  Die Berliner haben nun fünf Spiele in Folge ve...       False  1.4409848   \n",
       "\n",
       "                                                link  \\\n",
       "0  https://www.sueddeutsche.de/muenchen/wolfratsh...   \n",
       "1  https://www.sueddeutsche.de/wirtschaft/refurbi...   \n",
       "2  https://www.sueddeutsche.de/muenchen/starnberg...   \n",
       "3  https://www.sueddeutsche.de/politik/sudan-alge...   \n",
       "4  https://www.sueddeutsche.de/sport/bundesliga-h...   \n",
       "\n",
       "                                               links  \\\n",
       "0  [{'rel': 'alternate', 'type': 'text/html', 'hr...   \n",
       "1  [{'rel': 'alternate', 'type': 'text/html', 'hr...   \n",
       "2  [{'rel': 'alternate', 'type': 'text/html', 'hr...   \n",
       "3  [{'rel': 'alternate', 'type': 'text/html', 'hr...   \n",
       "4  [{'rel': 'alternate', 'type': 'text/html', 'hr...   \n",
       "\n",
       "                       published                      published_parsed  \\\n",
       "0  Sun, 14 Apr 2019 13:54:24 GMT  (2019, 4, 14, 13, 54, 24, 6, 104, 0)   \n",
       "1  Sun, 14 Apr 2019 13:51:24 GMT  (2019, 4, 14, 13, 51, 24, 6, 104, 0)   \n",
       "2  Sun, 14 Apr 2019 13:49:59 GMT  (2019, 4, 14, 13, 49, 59, 6, 104, 0)   \n",
       "3  Sun, 14 Apr 2019 13:46:40 GMT  (2019, 4, 14, 13, 46, 40, 6, 104, 0)   \n",
       "4  Sun, 14 Apr 2019 13:32:23 GMT  (2019, 4, 14, 13, 32, 23, 6, 104, 0)   \n",
       "\n",
       "           publisher               publisher_detail  \\\n",
       "0  SZ vom 15.04.2019  {'name': 'SZ vom 15.04.2019'}   \n",
       "1  SZ vom 13.04.2019  {'name': 'SZ vom 13.04.2019'}   \n",
       "2  SZ vom 15.04.2019  {'name': 'SZ vom 15.04.2019'}   \n",
       "3  SZ vom 15.04.2019  {'name': 'SZ vom 15.04.2019'}   \n",
       "4          SZ.de/sid          {'name': 'SZ.de/sid'}   \n",
       "\n",
       "                                             summary  \\\n",
       "0  <img src=\"https://media-cdn.sueddeutsche.de/im...   \n",
       "1  <img src=\"https://media-cdn.sueddeutsche.de/im...   \n",
       "2                                            <p></p>   \n",
       "3  <img src=\"https://media-cdn.sueddeutsche.de/im...   \n",
       "4  <img src=\"https://media-cdn.sueddeutsche.de/im...   \n",
       "\n",
       "                                      summary_detail  \\\n",
       "0  {'type': 'text/html', 'language': None, 'base'...   \n",
       "1  {'type': 'text/html', 'language': None, 'base'...   \n",
       "2  {'type': 'text/html', 'language': None, 'base'...   \n",
       "3  {'type': 'text/html', 'language': None, 'base'...   \n",
       "4  {'type': 'text/html', 'language': None, 'base'...   \n",
       "\n",
       "                                                tags  \\\n",
       "0  [{'term': 'Alfred Fraas', 'scheme': None, 'lab...   \n",
       "1  [{'term': 'Nachhaltigkeit', 'scheme': None, 'l...   \n",
       "2  [{'term': 'Süddeutsche Zeitung Starnberg', 'sc...   \n",
       "3  [{'term': 'Politik Afrika', 'scheme': None, 'l...   \n",
       "4  [{'term': 'Bundesliga', 'scheme': None, 'label...   \n",
       "\n",
       "                                               title  \\\n",
       "0  Wolfratshauser Attraktion: Nicht jedem lieb, a...   \n",
       "1    Erneuerung gebrauchter Produkte: So gut wie neu   \n",
       "2  17-Jähriger verursacht Unfall in Berg: Ohne Fü...   \n",
       "3  Libyen, Sudan, Algerien: In Nordafrika wachsen...   \n",
       "4    Bundesliga: Hoffenheim verschärft Herthas Krise   \n",
       "\n",
       "                                        title_detail  \n",
       "0  {'type': 'text/plain', 'language': None, 'base...  \n",
       "1  {'type': 'text/plain', 'language': None, 'base...  \n",
       "2  {'type': 'text/plain', 'language': None, 'base...  \n",
       "3  {'type': 'text/plain', 'language': None, 'base...  \n",
       "4  {'type': 'text/plain', 'language': None, 'base...  "
      ]
     },
     "execution_count": 3,
     "metadata": {},
     "output_type": "execute_result"
    }
   ],
   "source": [
    "entries = feedparser.parse(\"http://rss.sueddeutsche.de/app/service/rss/alles/index.rss?output=rss\")\n",
    "szz = pd.DataFrame(entries.entries)\n",
    "szz.head()"
   ]
  },
  {
   "cell_type": "code",
   "execution_count": 4,
   "metadata": {},
   "outputs": [],
   "source": [
    "szz.drop(['author', 'author_detail', 'authors', 'dc_abstract', 'guidislink', 'id', 'links', 'published_parsed', 'publisher', 'publisher_detail', 'summary_detail', 'tags', 'title_detail'],axis=1, inplace=True)"
   ]
  },
  {
   "cell_type": "code",
   "execution_count": 5,
   "metadata": {},
   "outputs": [
    {
     "data": {
      "text/html": [
       "<div>\n",
       "<style scoped>\n",
       "    .dataframe tbody tr th:only-of-type {\n",
       "        vertical-align: middle;\n",
       "    }\n",
       "\n",
       "    .dataframe tbody tr th {\n",
       "        vertical-align: top;\n",
       "    }\n",
       "\n",
       "    .dataframe thead th {\n",
       "        text-align: right;\n",
       "    }\n",
       "</style>\n",
       "<table border=\"1\" class=\"dataframe\">\n",
       "  <thead>\n",
       "    <tr style=\"text-align: right;\">\n",
       "      <th></th>\n",
       "      <th>link</th>\n",
       "      <th>published</th>\n",
       "      <th>summary</th>\n",
       "      <th>title</th>\n",
       "    </tr>\n",
       "  </thead>\n",
       "  <tbody>\n",
       "    <tr>\n",
       "      <th>0</th>\n",
       "      <td>https://www.sueddeutsche.de/muenchen/wolfratsh...</td>\n",
       "      <td>Sun, 14 Apr 2019 13:54:24 GMT</td>\n",
       "      <td>&lt;img src=\"https://media-cdn.sueddeutsche.de/im...</td>\n",
       "      <td>Wolfratshauser Attraktion: Nicht jedem lieb, a...</td>\n",
       "    </tr>\n",
       "    <tr>\n",
       "      <th>1</th>\n",
       "      <td>https://www.sueddeutsche.de/wirtschaft/refurbi...</td>\n",
       "      <td>Sun, 14 Apr 2019 13:51:24 GMT</td>\n",
       "      <td>&lt;img src=\"https://media-cdn.sueddeutsche.de/im...</td>\n",
       "      <td>Erneuerung gebrauchter Produkte: So gut wie neu</td>\n",
       "    </tr>\n",
       "    <tr>\n",
       "      <th>2</th>\n",
       "      <td>https://www.sueddeutsche.de/muenchen/starnberg...</td>\n",
       "      <td>Sun, 14 Apr 2019 13:49:59 GMT</td>\n",
       "      <td>&lt;p&gt;&lt;/p&gt;</td>\n",
       "      <td>17-Jähriger verursacht Unfall in Berg: Ohne Fü...</td>\n",
       "    </tr>\n",
       "    <tr>\n",
       "      <th>3</th>\n",
       "      <td>https://www.sueddeutsche.de/politik/sudan-alge...</td>\n",
       "      <td>Sun, 14 Apr 2019 13:46:40 GMT</td>\n",
       "      <td>&lt;img src=\"https://media-cdn.sueddeutsche.de/im...</td>\n",
       "      <td>Libyen, Sudan, Algerien: In Nordafrika wachsen...</td>\n",
       "    </tr>\n",
       "    <tr>\n",
       "      <th>4</th>\n",
       "      <td>https://www.sueddeutsche.de/sport/bundesliga-h...</td>\n",
       "      <td>Sun, 14 Apr 2019 13:32:23 GMT</td>\n",
       "      <td>&lt;img src=\"https://media-cdn.sueddeutsche.de/im...</td>\n",
       "      <td>Bundesliga: Hoffenheim verschärft Herthas Krise</td>\n",
       "    </tr>\n",
       "  </tbody>\n",
       "</table>\n",
       "</div>"
      ],
      "text/plain": [
       "                                                link  \\\n",
       "0  https://www.sueddeutsche.de/muenchen/wolfratsh...   \n",
       "1  https://www.sueddeutsche.de/wirtschaft/refurbi...   \n",
       "2  https://www.sueddeutsche.de/muenchen/starnberg...   \n",
       "3  https://www.sueddeutsche.de/politik/sudan-alge...   \n",
       "4  https://www.sueddeutsche.de/sport/bundesliga-h...   \n",
       "\n",
       "                       published  \\\n",
       "0  Sun, 14 Apr 2019 13:54:24 GMT   \n",
       "1  Sun, 14 Apr 2019 13:51:24 GMT   \n",
       "2  Sun, 14 Apr 2019 13:49:59 GMT   \n",
       "3  Sun, 14 Apr 2019 13:46:40 GMT   \n",
       "4  Sun, 14 Apr 2019 13:32:23 GMT   \n",
       "\n",
       "                                             summary  \\\n",
       "0  <img src=\"https://media-cdn.sueddeutsche.de/im...   \n",
       "1  <img src=\"https://media-cdn.sueddeutsche.de/im...   \n",
       "2                                            <p></p>   \n",
       "3  <img src=\"https://media-cdn.sueddeutsche.de/im...   \n",
       "4  <img src=\"https://media-cdn.sueddeutsche.de/im...   \n",
       "\n",
       "                                               title  \n",
       "0  Wolfratshauser Attraktion: Nicht jedem lieb, a...  \n",
       "1    Erneuerung gebrauchter Produkte: So gut wie neu  \n",
       "2  17-Jähriger verursacht Unfall in Berg: Ohne Fü...  \n",
       "3  Libyen, Sudan, Algerien: In Nordafrika wachsen...  \n",
       "4    Bundesliga: Hoffenheim verschärft Herthas Krise  "
      ]
     },
     "execution_count": 5,
     "metadata": {},
     "output_type": "execute_result"
    }
   ],
   "source": [
    "szz.head()"
   ]
  },
  {
   "cell_type": "code",
   "execution_count": 6,
   "metadata": {},
   "outputs": [],
   "source": [
    "#print ('Number of RSS feeds :', len(entries.entries))\n",
    "\n",
    "#print (faz.title)"
   ]
  },
  {
   "cell_type": "code",
   "execution_count": 7,
   "metadata": {},
   "outputs": [],
   "source": [
    "#print (faz.published)\n",
    "#print('\\n')\n",
    "#print (faz.summary)"
   ]
  },
  {
   "cell_type": "code",
   "execution_count": 8,
   "metadata": {},
   "outputs": [
    {
     "data": {
      "text/plain": [
       "0     <img src=\"https://media-cdn.sueddeutsche.de/im...\n",
       "1     <img src=\"https://media-cdn.sueddeutsche.de/im...\n",
       "2                                               <p></p>\n",
       "3     <img src=\"https://media-cdn.sueddeutsche.de/im...\n",
       "4     <img src=\"https://media-cdn.sueddeutsche.de/im...\n",
       "5     <img src=\"https://media-cdn.sueddeutsche.de/im...\n",
       "6     <img src=\"https://media-cdn.sueddeutsche.de/im...\n",
       "7     <p>Es habe Hinweise auf Drogendelikte gegeben,...\n",
       "8     <img src=\"https://media-cdn.sueddeutsche.de/im...\n",
       "9     <p>Über den kaputten Mietmarkt und geldgierige...\n",
       "10    <img src=\"https://media-cdn.sueddeutsche.de/im...\n",
       "11    <img src=\"https://media-cdn.sueddeutsche.de/im...\n",
       "12    <p>Über Jahrzehnte leisteten Bürgerinitiativen...\n",
       "13    <p>Wie sich die Freiwilligen Feuerwehren und R...\n",
       "14    <img src=\"https://media-cdn.sueddeutsche.de/im...\n",
       "Name: summary, dtype: object"
      ]
     },
     "execution_count": 8,
     "metadata": {},
     "output_type": "execute_result"
    }
   ],
   "source": [
    "test = szz.summary\n",
    "test"
   ]
  },
  {
   "cell_type": "code",
   "execution_count": 9,
   "metadata": {},
   "outputs": [
    {
     "data": {
      "text/plain": [
       "'<img src=\"https://media-cdn.sueddeutsche.de/image/sz.1.4008580/208x156\" alt=\"\" data-portal-copyright=\"Hartmut Pöstges\" /><p>Der Wolfratshauser Stadtrat will die Floßrutsche am Kastenmühlwehr ertüchtigen - obwohl die Flößer sie gar nicht wollen.</p>'"
      ]
     },
     "execution_count": 9,
     "metadata": {},
     "output_type": "execute_result"
    }
   ],
   "source": [
    "test[0]"
   ]
  },
  {
   "cell_type": "code",
   "execution_count": 10,
   "metadata": {},
   "outputs": [],
   "source": [
    "#subtitle_one = test[0].split('title=\"')[1].split('\" alt=')[0] + test[0].split('<p>')[1].split('</p>')[0]"
   ]
  },
  {
   "cell_type": "code",
   "execution_count": 11,
   "metadata": {},
   "outputs": [],
   "source": [
    "#subtitle_one"
   ]
  },
  {
   "cell_type": "code",
   "execution_count": 12,
   "metadata": {},
   "outputs": [],
   "source": [
    "# for suedd\n",
    "description = []\n",
    "\n",
    "for index, text in enumerate(test):\n",
    "    text = test[index].split('<p>')[1].split('</p>')[0]\n",
    "    description.append(text)  "
   ]
  },
  {
   "cell_type": "code",
   "execution_count": 13,
   "metadata": {},
   "outputs": [],
   "source": [
    "subtext = pd.DataFrame((description), columns=['detailed'])"
   ]
  },
  {
   "cell_type": "code",
   "execution_count": 14,
   "metadata": {},
   "outputs": [],
   "source": [
    "#subtext.columns = ['detailed']"
   ]
  },
  {
   "cell_type": "code",
   "execution_count": 15,
   "metadata": {},
   "outputs": [],
   "source": [
    "szz_agg = pd.concat([szz, subtext], axis=1)\n",
    "szz_agg.drop(['summary'], axis=1, inplace=True)"
   ]
  },
  {
   "cell_type": "code",
   "execution_count": 16,
   "metadata": {},
   "outputs": [
    {
     "name": "stdout",
     "output_type": "stream",
     "text": [
      "filename: szz_2019-04-14_16-04-01.958095.csv\n",
      "pathname ../szz/szz_2019-04-14_16-04-01.958095.csv\n"
     ]
    }
   ],
   "source": [
    "def get_filename():\n",
    "    return \"szz_\" + str(datetime.datetime.now()).replace(' ', '_').replace(':', '-') + \".csv\"\n",
    "\n",
    "name = get_filename()\n",
    "print(\"filename:\", name)\n",
    "\n",
    "path = \"../szz/\" + name\n",
    "print(\"pathname\", path)"
   ]
  },
  {
   "cell_type": "code",
   "execution_count": 17,
   "metadata": {},
   "outputs": [],
   "source": [
    "szz_agg.to_csv(path, index=False)"
   ]
  },
  {
   "cell_type": "markdown",
   "metadata": {},
   "source": [
    "---"
   ]
  }
 ],
 "metadata": {
  "kernelspec": {
   "display_name": "Python 3",
   "language": "python",
   "name": "python3"
  },
  "language_info": {
   "codemirror_mode": {
    "name": "ipython",
    "version": 3
   },
   "file_extension": ".py",
   "mimetype": "text/x-python",
   "name": "python",
   "nbconvert_exporter": "python",
   "pygments_lexer": "ipython3",
   "version": "3.6.8"
  }
 },
 "nbformat": 4,
 "nbformat_minor": 2
}
