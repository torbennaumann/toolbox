{
 "cells": [
  {
   "cell_type": "markdown",
   "metadata": {},
   "source": [
    "## Create script for SZZ - RSS Feed 'AKTUELLES'"
   ]
  },
  {
   "cell_type": "code",
   "execution_count": 1,
   "metadata": {},
   "outputs": [],
   "source": [
    "import feedparser\n",
    "import pandas as pd\n",
    "import datetime"
   ]
  },
  {
   "cell_type": "code",
   "execution_count": 2,
   "metadata": {},
   "outputs": [],
   "source": [
    "#section = {\n",
    "#1: 'politik',\n",
    "#2: 'wirtschaft',\n",
    "#3: 'finanzen',\n",
    "#4: 'feuilleton',\n",
    "#5: 'sport',\n",
    "#6: 'gesellschaft',\n",
    "#7: 'stil',\n",
    "#8: 'rhein-main',\n",
    "#9: 'technik',\n",
    "#10: 'wissen',\n",
    "#11: 'reise',\n",
    "#12: 'karriere',\n",
    "#13: 'aktuell'\n",
    "#}"
   ]
  },
  {
   "cell_type": "code",
   "execution_count": 3,
   "metadata": {},
   "outputs": [
    {
     "data": {
      "text/html": [
       "<div>\n",
       "<style scoped>\n",
       "    .dataframe tbody tr th:only-of-type {\n",
       "        vertical-align: middle;\n",
       "    }\n",
       "\n",
       "    .dataframe tbody tr th {\n",
       "        vertical-align: top;\n",
       "    }\n",
       "\n",
       "    .dataframe thead th {\n",
       "        text-align: right;\n",
       "    }\n",
       "</style>\n",
       "<table border=\"1\" class=\"dataframe\">\n",
       "  <thead>\n",
       "    <tr style=\"text-align: right;\">\n",
       "      <th></th>\n",
       "      <th>author</th>\n",
       "      <th>author_detail</th>\n",
       "      <th>authors</th>\n",
       "      <th>dc_abstract</th>\n",
       "      <th>guidislink</th>\n",
       "      <th>id</th>\n",
       "      <th>link</th>\n",
       "      <th>links</th>\n",
       "      <th>published</th>\n",
       "      <th>published_parsed</th>\n",
       "      <th>publisher</th>\n",
       "      <th>publisher_detail</th>\n",
       "      <th>summary</th>\n",
       "      <th>summary_detail</th>\n",
       "      <th>tags</th>\n",
       "      <th>title</th>\n",
       "      <th>title_detail</th>\n",
       "    </tr>\n",
       "  </thead>\n",
       "  <tbody>\n",
       "    <tr>\n",
       "      <th>0</th>\n",
       "      <td>Von Anne-Christin Gröger</td>\n",
       "      <td>{'name': 'Von Anne-Christin Gröger'}</td>\n",
       "      <td>[{'name': 'Von Anne-Christin Gröger'}]</td>\n",
       "      <td>Noch ist unklar, wie das Feuer in der Kathedra...</td>\n",
       "      <td>False</td>\n",
       "      <td>1.4412032</td>\n",
       "      <td>https://www.sueddeutsche.de/wirtschaft/notre-d...</td>\n",
       "      <td>[{'rel': 'alternate', 'type': 'text/html', 'hr...</td>\n",
       "      <td>Wed, 17 Apr 2019 07:07:45 GMT</td>\n",
       "      <td>(2019, 4, 17, 7, 7, 45, 2, 107, 0)</td>\n",
       "      <td>SZ.de</td>\n",
       "      <td>{'name': 'SZ.de'}</td>\n",
       "      <td>&lt;img src=\"https://media-cdn.sueddeutsche.de/im...</td>\n",
       "      <td>{'type': 'text/html', 'language': None, 'base'...</td>\n",
       "      <td>[{'term': 'Brandkatastrophe', 'scheme': None, ...</td>\n",
       "      <td>Brand in Notre-Dame: Warum keine Versicherung ...</td>\n",
       "      <td>{'type': 'text/plain', 'language': None, 'base...</td>\n",
       "    </tr>\n",
       "    <tr>\n",
       "      <th>1</th>\n",
       "      <td>NaN</td>\n",
       "      <td>NaN</td>\n",
       "      <td>NaN</td>\n",
       "      <td>Seit Jahren stritten Apple und der Chip-Herste...</td>\n",
       "      <td>False</td>\n",
       "      <td>1.4413203</td>\n",
       "      <td>https://www.sueddeutsche.de/wirtschaft/apple-q...</td>\n",
       "      <td>[{'rel': 'alternate', 'type': 'text/html', 'hr...</td>\n",
       "      <td>Wed, 17 Apr 2019 07:04:54 GMT</td>\n",
       "      <td>(2019, 4, 17, 7, 4, 54, 2, 107, 0)</td>\n",
       "      <td>SZ.de/dpa</td>\n",
       "      <td>{'name': 'SZ.de/dpa'}</td>\n",
       "      <td>&lt;img src=\"https://media-cdn.sueddeutsche.de/im...</td>\n",
       "      <td>{'type': 'text/html', 'language': None, 'base'...</td>\n",
       "      <td>[{'term': 'Apple', 'scheme': None, 'label': No...</td>\n",
       "      <td>Apple und Qualcomm: Überraschende Einigung im ...</td>\n",
       "      <td>{'type': 'text/plain', 'language': None, 'base...</td>\n",
       "    </tr>\n",
       "    <tr>\n",
       "      <th>2</th>\n",
       "      <td>Von Sven Haist, Barcelona</td>\n",
       "      <td>{'name': 'Von Sven Haist, Barcelona'}</td>\n",
       "      <td>[{'name': 'Von Sven Haist, Barcelona'}]</td>\n",
       "      <td>Lionel Messi agiert beim 3:0 des FC Barcelona ...</td>\n",
       "      <td>False</td>\n",
       "      <td>1.4413202</td>\n",
       "      <td>https://www.sueddeutsche.de/sport/messi-champi...</td>\n",
       "      <td>[{'rel': 'alternate', 'type': 'text/html', 'hr...</td>\n",
       "      <td>Wed, 17 Apr 2019 06:50:11 GMT</td>\n",
       "      <td>(2019, 4, 17, 6, 50, 11, 2, 107, 0)</td>\n",
       "      <td>Sz.de</td>\n",
       "      <td>{'name': 'Sz.de'}</td>\n",
       "      <td>&lt;img src=\"https://media-cdn.sueddeutsche.de/im...</td>\n",
       "      <td>{'type': 'text/html', 'language': None, 'base'...</td>\n",
       "      <td>[{'term': 'Champions League', 'scheme': None, ...</td>\n",
       "      <td>Champions League: Messis große Spielshow</td>\n",
       "      <td>{'type': 'text/plain', 'language': None, 'base...</td>\n",
       "    </tr>\n",
       "    <tr>\n",
       "      <th>3</th>\n",
       "      <td>Interview von Paul Katzenberger, Moskau</td>\n",
       "      <td>{'name': 'Interview von Paul Katzenberger, Mos...</td>\n",
       "      <td>[{'name': 'Interview von Paul Katzenberger, Mo...</td>\n",
       "      <td>Russland will sich vom globalen Internet abkop...</td>\n",
       "      <td>False</td>\n",
       "      <td>1.4411832</td>\n",
       "      <td>https://www.sueddeutsche.de/digital/russland-n...</td>\n",
       "      <td>[{'rel': 'alternate', 'type': 'text/html', 'hr...</td>\n",
       "      <td>Wed, 17 Apr 2019 05:42:04 GMT</td>\n",
       "      <td>(2019, 4, 17, 5, 42, 4, 2, 107, 0)</td>\n",
       "      <td>SZ.de</td>\n",
       "      <td>{'name': 'SZ.de'}</td>\n",
       "      <td>&lt;img src=\"https://media-cdn.sueddeutsche.de/im...</td>\n",
       "      <td>{'type': 'text/html', 'language': None, 'base'...</td>\n",
       "      <td>[{'term': 'Duma', 'scheme': None, 'label': Non...</td>\n",
       "      <td>Interview am Morgen: Internet-Zensur in Russla...</td>\n",
       "      <td>{'type': 'text/plain', 'language': None, 'base...</td>\n",
       "    </tr>\n",
       "    <tr>\n",
       "      <th>4</th>\n",
       "      <td>Von Xaver Bitz</td>\n",
       "      <td>{'name': 'Von Xaver Bitz'}</td>\n",
       "      <td>[{'name': 'Von Xaver Bitz'}]</td>\n",
       "      <td>Was heute wichtig ist und wird.</td>\n",
       "      <td>False</td>\n",
       "      <td>1.4413192</td>\n",
       "      <td>https://www.sueddeutsche.de/politik/nachrichte...</td>\n",
       "      <td>[{'rel': 'alternate', 'type': 'text/html', 'hr...</td>\n",
       "      <td>Wed, 17 Apr 2019 05:30:27 GMT</td>\n",
       "      <td>(2019, 4, 17, 5, 30, 27, 2, 107, 0)</td>\n",
       "      <td>SZ.de</td>\n",
       "      <td>{'name': 'SZ.de'}</td>\n",
       "      <td>&lt;img src=\"https://media-cdn.sueddeutsche.de/im...</td>\n",
       "      <td>{'type': 'text/html', 'language': None, 'base'...</td>\n",
       "      <td>[{'term': 'Andreas Scheuer', 'scheme': None, '...</td>\n",
       "      <td>SZ Espresso: Nachrichten am Morgen - die Übers...</td>\n",
       "      <td>{'type': 'text/plain', 'language': None, 'base...</td>\n",
       "    </tr>\n",
       "  </tbody>\n",
       "</table>\n",
       "</div>"
      ],
      "text/plain": [
       "                                    author  \\\n",
       "0                 Von Anne-Christin Gröger   \n",
       "1                                      NaN   \n",
       "2                Von Sven Haist, Barcelona   \n",
       "3  Interview von Paul Katzenberger, Moskau   \n",
       "4                           Von Xaver Bitz   \n",
       "\n",
       "                                       author_detail  \\\n",
       "0               {'name': 'Von Anne-Christin Gröger'}   \n",
       "1                                                NaN   \n",
       "2              {'name': 'Von Sven Haist, Barcelona'}   \n",
       "3  {'name': 'Interview von Paul Katzenberger, Mos...   \n",
       "4                         {'name': 'Von Xaver Bitz'}   \n",
       "\n",
       "                                             authors  \\\n",
       "0             [{'name': 'Von Anne-Christin Gröger'}]   \n",
       "1                                                NaN   \n",
       "2            [{'name': 'Von Sven Haist, Barcelona'}]   \n",
       "3  [{'name': 'Interview von Paul Katzenberger, Mo...   \n",
       "4                       [{'name': 'Von Xaver Bitz'}]   \n",
       "\n",
       "                                         dc_abstract  guidislink         id  \\\n",
       "0  Noch ist unklar, wie das Feuer in der Kathedra...       False  1.4412032   \n",
       "1  Seit Jahren stritten Apple und der Chip-Herste...       False  1.4413203   \n",
       "2  Lionel Messi agiert beim 3:0 des FC Barcelona ...       False  1.4413202   \n",
       "3  Russland will sich vom globalen Internet abkop...       False  1.4411832   \n",
       "4                    Was heute wichtig ist und wird.       False  1.4413192   \n",
       "\n",
       "                                                link  \\\n",
       "0  https://www.sueddeutsche.de/wirtschaft/notre-d...   \n",
       "1  https://www.sueddeutsche.de/wirtschaft/apple-q...   \n",
       "2  https://www.sueddeutsche.de/sport/messi-champi...   \n",
       "3  https://www.sueddeutsche.de/digital/russland-n...   \n",
       "4  https://www.sueddeutsche.de/politik/nachrichte...   \n",
       "\n",
       "                                               links  \\\n",
       "0  [{'rel': 'alternate', 'type': 'text/html', 'hr...   \n",
       "1  [{'rel': 'alternate', 'type': 'text/html', 'hr...   \n",
       "2  [{'rel': 'alternate', 'type': 'text/html', 'hr...   \n",
       "3  [{'rel': 'alternate', 'type': 'text/html', 'hr...   \n",
       "4  [{'rel': 'alternate', 'type': 'text/html', 'hr...   \n",
       "\n",
       "                       published                     published_parsed  \\\n",
       "0  Wed, 17 Apr 2019 07:07:45 GMT   (2019, 4, 17, 7, 7, 45, 2, 107, 0)   \n",
       "1  Wed, 17 Apr 2019 07:04:54 GMT   (2019, 4, 17, 7, 4, 54, 2, 107, 0)   \n",
       "2  Wed, 17 Apr 2019 06:50:11 GMT  (2019, 4, 17, 6, 50, 11, 2, 107, 0)   \n",
       "3  Wed, 17 Apr 2019 05:42:04 GMT   (2019, 4, 17, 5, 42, 4, 2, 107, 0)   \n",
       "4  Wed, 17 Apr 2019 05:30:27 GMT  (2019, 4, 17, 5, 30, 27, 2, 107, 0)   \n",
       "\n",
       "   publisher       publisher_detail  \\\n",
       "0      SZ.de      {'name': 'SZ.de'}   \n",
       "1  SZ.de/dpa  {'name': 'SZ.de/dpa'}   \n",
       "2      Sz.de      {'name': 'Sz.de'}   \n",
       "3      SZ.de      {'name': 'SZ.de'}   \n",
       "4      SZ.de      {'name': 'SZ.de'}   \n",
       "\n",
       "                                             summary  \\\n",
       "0  <img src=\"https://media-cdn.sueddeutsche.de/im...   \n",
       "1  <img src=\"https://media-cdn.sueddeutsche.de/im...   \n",
       "2  <img src=\"https://media-cdn.sueddeutsche.de/im...   \n",
       "3  <img src=\"https://media-cdn.sueddeutsche.de/im...   \n",
       "4  <img src=\"https://media-cdn.sueddeutsche.de/im...   \n",
       "\n",
       "                                      summary_detail  \\\n",
       "0  {'type': 'text/html', 'language': None, 'base'...   \n",
       "1  {'type': 'text/html', 'language': None, 'base'...   \n",
       "2  {'type': 'text/html', 'language': None, 'base'...   \n",
       "3  {'type': 'text/html', 'language': None, 'base'...   \n",
       "4  {'type': 'text/html', 'language': None, 'base'...   \n",
       "\n",
       "                                                tags  \\\n",
       "0  [{'term': 'Brandkatastrophe', 'scheme': None, ...   \n",
       "1  [{'term': 'Apple', 'scheme': None, 'label': No...   \n",
       "2  [{'term': 'Champions League', 'scheme': None, ...   \n",
       "3  [{'term': 'Duma', 'scheme': None, 'label': Non...   \n",
       "4  [{'term': 'Andreas Scheuer', 'scheme': None, '...   \n",
       "\n",
       "                                               title  \\\n",
       "0  Brand in Notre-Dame: Warum keine Versicherung ...   \n",
       "1  Apple und Qualcomm: Überraschende Einigung im ...   \n",
       "2           Champions League: Messis große Spielshow   \n",
       "3  Interview am Morgen: Internet-Zensur in Russla...   \n",
       "4  SZ Espresso: Nachrichten am Morgen - die Übers...   \n",
       "\n",
       "                                        title_detail  \n",
       "0  {'type': 'text/plain', 'language': None, 'base...  \n",
       "1  {'type': 'text/plain', 'language': None, 'base...  \n",
       "2  {'type': 'text/plain', 'language': None, 'base...  \n",
       "3  {'type': 'text/plain', 'language': None, 'base...  \n",
       "4  {'type': 'text/plain', 'language': None, 'base...  "
      ]
     },
     "execution_count": 3,
     "metadata": {},
     "output_type": "execute_result"
    }
   ],
   "source": [
    "entries = feedparser.parse(\"http://rss.sueddeutsche.de/app/service/rss/alles/index.rss?output=rss\")\n",
    "szz = pd.DataFrame(entries.entries)\n",
    "szz.head()"
   ]
  },
  {
   "cell_type": "code",
   "execution_count": 4,
   "metadata": {},
   "outputs": [],
   "source": [
    "szz.drop(['author', 'author_detail', 'authors', 'dc_abstract', 'guidislink', 'id', 'links', 'published_parsed', 'publisher', 'publisher_detail', 'summary_detail', 'tags', 'title_detail'],axis=1, inplace=True)"
   ]
  },
  {
   "cell_type": "code",
   "execution_count": 5,
   "metadata": {},
   "outputs": [
    {
     "data": {
      "text/html": [
       "<div>\n",
       "<style scoped>\n",
       "    .dataframe tbody tr th:only-of-type {\n",
       "        vertical-align: middle;\n",
       "    }\n",
       "\n",
       "    .dataframe tbody tr th {\n",
       "        vertical-align: top;\n",
       "    }\n",
       "\n",
       "    .dataframe thead th {\n",
       "        text-align: right;\n",
       "    }\n",
       "</style>\n",
       "<table border=\"1\" class=\"dataframe\">\n",
       "  <thead>\n",
       "    <tr style=\"text-align: right;\">\n",
       "      <th></th>\n",
       "      <th>link</th>\n",
       "      <th>published</th>\n",
       "      <th>summary</th>\n",
       "      <th>title</th>\n",
       "    </tr>\n",
       "  </thead>\n",
       "  <tbody>\n",
       "    <tr>\n",
       "      <th>0</th>\n",
       "      <td>https://www.sueddeutsche.de/wirtschaft/notre-d...</td>\n",
       "      <td>Wed, 17 Apr 2019 07:07:45 GMT</td>\n",
       "      <td>&lt;img src=\"https://media-cdn.sueddeutsche.de/im...</td>\n",
       "      <td>Brand in Notre-Dame: Warum keine Versicherung ...</td>\n",
       "    </tr>\n",
       "    <tr>\n",
       "      <th>1</th>\n",
       "      <td>https://www.sueddeutsche.de/wirtschaft/apple-q...</td>\n",
       "      <td>Wed, 17 Apr 2019 07:04:54 GMT</td>\n",
       "      <td>&lt;img src=\"https://media-cdn.sueddeutsche.de/im...</td>\n",
       "      <td>Apple und Qualcomm: Überraschende Einigung im ...</td>\n",
       "    </tr>\n",
       "    <tr>\n",
       "      <th>2</th>\n",
       "      <td>https://www.sueddeutsche.de/sport/messi-champi...</td>\n",
       "      <td>Wed, 17 Apr 2019 06:50:11 GMT</td>\n",
       "      <td>&lt;img src=\"https://media-cdn.sueddeutsche.de/im...</td>\n",
       "      <td>Champions League: Messis große Spielshow</td>\n",
       "    </tr>\n",
       "    <tr>\n",
       "      <th>3</th>\n",
       "      <td>https://www.sueddeutsche.de/digital/russland-n...</td>\n",
       "      <td>Wed, 17 Apr 2019 05:42:04 GMT</td>\n",
       "      <td>&lt;img src=\"https://media-cdn.sueddeutsche.de/im...</td>\n",
       "      <td>Interview am Morgen: Internet-Zensur in Russla...</td>\n",
       "    </tr>\n",
       "    <tr>\n",
       "      <th>4</th>\n",
       "      <td>https://www.sueddeutsche.de/politik/nachrichte...</td>\n",
       "      <td>Wed, 17 Apr 2019 05:30:27 GMT</td>\n",
       "      <td>&lt;img src=\"https://media-cdn.sueddeutsche.de/im...</td>\n",
       "      <td>SZ Espresso: Nachrichten am Morgen - die Übers...</td>\n",
       "    </tr>\n",
       "  </tbody>\n",
       "</table>\n",
       "</div>"
      ],
      "text/plain": [
       "                                                link  \\\n",
       "0  https://www.sueddeutsche.de/wirtschaft/notre-d...   \n",
       "1  https://www.sueddeutsche.de/wirtschaft/apple-q...   \n",
       "2  https://www.sueddeutsche.de/sport/messi-champi...   \n",
       "3  https://www.sueddeutsche.de/digital/russland-n...   \n",
       "4  https://www.sueddeutsche.de/politik/nachrichte...   \n",
       "\n",
       "                       published  \\\n",
       "0  Wed, 17 Apr 2019 07:07:45 GMT   \n",
       "1  Wed, 17 Apr 2019 07:04:54 GMT   \n",
       "2  Wed, 17 Apr 2019 06:50:11 GMT   \n",
       "3  Wed, 17 Apr 2019 05:42:04 GMT   \n",
       "4  Wed, 17 Apr 2019 05:30:27 GMT   \n",
       "\n",
       "                                             summary  \\\n",
       "0  <img src=\"https://media-cdn.sueddeutsche.de/im...   \n",
       "1  <img src=\"https://media-cdn.sueddeutsche.de/im...   \n",
       "2  <img src=\"https://media-cdn.sueddeutsche.de/im...   \n",
       "3  <img src=\"https://media-cdn.sueddeutsche.de/im...   \n",
       "4  <img src=\"https://media-cdn.sueddeutsche.de/im...   \n",
       "\n",
       "                                               title  \n",
       "0  Brand in Notre-Dame: Warum keine Versicherung ...  \n",
       "1  Apple und Qualcomm: Überraschende Einigung im ...  \n",
       "2           Champions League: Messis große Spielshow  \n",
       "3  Interview am Morgen: Internet-Zensur in Russla...  \n",
       "4  SZ Espresso: Nachrichten am Morgen - die Übers...  "
      ]
     },
     "execution_count": 5,
     "metadata": {},
     "output_type": "execute_result"
    }
   ],
   "source": [
    "szz.head()"
   ]
  },
  {
   "cell_type": "code",
   "execution_count": 6,
   "metadata": {},
   "outputs": [],
   "source": [
    "#print ('Number of RSS feeds :', len(entries.entries))\n",
    "\n",
    "#print (faz.title)"
   ]
  },
  {
   "cell_type": "code",
   "execution_count": 7,
   "metadata": {},
   "outputs": [],
   "source": [
    "#print (faz.published)\n",
    "#print('\\n')\n",
    "#print (faz.summary)"
   ]
  },
  {
   "cell_type": "code",
   "execution_count": 8,
   "metadata": {},
   "outputs": [
    {
     "data": {
      "text/plain": [
       "0     <img src=\"https://media-cdn.sueddeutsche.de/im...\n",
       "1     <img src=\"https://media-cdn.sueddeutsche.de/im...\n",
       "2     <img src=\"https://media-cdn.sueddeutsche.de/im...\n",
       "3     <img src=\"https://media-cdn.sueddeutsche.de/im...\n",
       "4     <img src=\"https://media-cdn.sueddeutsche.de/im...\n",
       "5     <img src=\"https://media-cdn.sueddeutsche.de/im...\n",
       "6     <img src=\"https://media-cdn.sueddeutsche.de/im...\n",
       "7     <img src=\"https://media-cdn.sueddeutsche.de/im...\n",
       "8     <img src=\"https://media-cdn.sueddeutsche.de/im...\n",
       "9     <img src=\"https://media-cdn.sueddeutsche.de/im...\n",
       "10    <img src=\"https://media-cdn.sueddeutsche.de/im...\n",
       "11    <img src=\"https://media-cdn.sueddeutsche.de/im...\n",
       "12    <img src=\"https://media-cdn.sueddeutsche.de/im...\n",
       "13    <img src=\"https://media-cdn.sueddeutsche.de/im...\n",
       "14    <img src=\"https://media-cdn.sueddeutsche.de/im...\n",
       "Name: summary, dtype: object"
      ]
     },
     "execution_count": 8,
     "metadata": {},
     "output_type": "execute_result"
    }
   ],
   "source": [
    "test = szz.summary\n",
    "test"
   ]
  },
  {
   "cell_type": "code",
   "execution_count": 9,
   "metadata": {},
   "outputs": [
    {
     "data": {
      "text/plain": [
       "'<img src=\"https://media-cdn.sueddeutsche.de/image/sz.1.4413209/208x156\" alt=\"\" data-portal-copyright=\"AP\" /><p>Noch ist unklar, wie das Feuer in der Kathedrale ausbrach und wer dafür haftet. Klar ist aber: Die Versicherungssumme wird angesichts der Dimensionen in keinem Fall ausreichen.</p>'"
      ]
     },
     "execution_count": 9,
     "metadata": {},
     "output_type": "execute_result"
    }
   ],
   "source": [
    "test[0]"
   ]
  },
  {
   "cell_type": "code",
   "execution_count": 10,
   "metadata": {},
   "outputs": [],
   "source": [
    "#subtitle_one = test[0].split('title=\"')[1].split('\" alt=')[0] + test[0].split('<p>')[1].split('</p>')[0]"
   ]
  },
  {
   "cell_type": "code",
   "execution_count": 11,
   "metadata": {},
   "outputs": [],
   "source": [
    "#subtitle_one"
   ]
  },
  {
   "cell_type": "code",
   "execution_count": 12,
   "metadata": {},
   "outputs": [],
   "source": [
    "# for suedd\n",
    "description = []\n",
    "\n",
    "for index, text in enumerate(test):\n",
    "    text = test[index].split('<p>')[1].split('</p>')[0]\n",
    "    description.append(text)  "
   ]
  },
  {
   "cell_type": "code",
   "execution_count": 13,
   "metadata": {},
   "outputs": [],
   "source": [
    "subtext = pd.DataFrame((description), columns=['detailed'])"
   ]
  },
  {
   "cell_type": "code",
   "execution_count": 14,
   "metadata": {},
   "outputs": [],
   "source": [
    "#subtext.columns = ['detailed']"
   ]
  },
  {
   "cell_type": "code",
   "execution_count": 15,
   "metadata": {},
   "outputs": [],
   "source": [
    "szz_agg = pd.concat([szz, subtext], axis=1)\n",
    "szz_agg.drop(['summary'], axis=1, inplace=True)"
   ]
  },
  {
   "cell_type": "code",
   "execution_count": 16,
   "metadata": {},
   "outputs": [
    {
     "name": "stdout",
     "output_type": "stream",
     "text": [
      "filename: szz_2019-04-17_09-18-59.054707.csv\n",
      "pathname ../szz/szz_2019-04-17_09-18-59.054707.csv\n"
     ]
    }
   ],
   "source": [
    "def get_filename():\n",
    "    return \"szz_\" + str(datetime.datetime.now()).replace(' ', '_').replace(':', '-') + \".csv\"\n",
    "\n",
    "name = get_filename()\n",
    "print(\"filename:\", name)\n",
    "\n",
    "path = \"../szz/\" + name\n",
    "print(\"pathname\", path)"
   ]
  },
  {
   "cell_type": "code",
   "execution_count": 17,
   "metadata": {},
   "outputs": [],
   "source": [
    "szz_agg.to_csv(path, index=False)"
   ]
  },
  {
   "cell_type": "markdown",
   "metadata": {},
   "source": [
    "---"
   ]
  }
 ],
 "metadata": {
  "kernelspec": {
   "display_name": "Python 3",
   "language": "python",
   "name": "python3"
  },
  "language_info": {
   "codemirror_mode": {
    "name": "ipython",
    "version": 3
   },
   "file_extension": ".py",
   "mimetype": "text/x-python",
   "name": "python",
   "nbconvert_exporter": "python",
   "pygments_lexer": "ipython3",
   "version": "3.6.8"
  }
 },
 "nbformat": 4,
 "nbformat_minor": 2
}
