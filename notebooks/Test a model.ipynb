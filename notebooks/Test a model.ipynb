{
 "cells": [
  {
   "cell_type": "markdown",
   "metadata": {},
   "source": [
    "# Load the train and the test data from directory:\n",
    "\n",
    "After loading the data, we want to asssign the variables."
   ]
  },
  {
   "cell_type": "code",
   "execution_count": 1,
   "metadata": {},
   "outputs": [],
   "source": [
    "import pandas as pd\n",
    "import numpy as np\n",
    "from sklearn import linear_model\n",
    "from sklearn import tree, metrics\n",
    "from sklearn.metrics import mean_squared_error, accuracy_score\n",
    "import matplotlib.pyplot as plt\n",
    "\n",
    "from sklearn import neighbors\n",
    "from sklearn.tree import DecisionTreeClassifier\n",
    "from sklearn.ensemble import RandomForestClassifier\n",
    "from sklearn.linear_model import LogisticRegression"
   ]
  },
  {
   "cell_type": "markdown",
   "metadata": {},
   "source": [
    "#### Choose a directory:"
   ]
  },
  {
   "cell_type": "code",
   "execution_count": 2,
   "metadata": {},
   "outputs": [],
   "source": [
    "train = pd.read_csv('../data_frames/wirtschaft/train_data', index_col=None, header=0)\n",
    "test = pd.read_csv('../data_frames/wirtschaft/test_data', index_col=None, header=0)"
   ]
  },
  {
   "cell_type": "markdown",
   "metadata": {},
   "source": [
    "---"
   ]
  },
  {
   "cell_type": "code",
   "execution_count": 3,
   "metadata": {},
   "outputs": [],
   "source": [
    "hot_train_data = train.copy()\n",
    "hot_train_data[hot_train_data > 0] = 1"
   ]
  },
  {
   "cell_type": "code",
   "execution_count": 4,
   "metadata": {},
   "outputs": [],
   "source": [
    "hot_test_data = test.copy()\n",
    "hot_test_data[hot_test_data > 0] = 1"
   ]
  },
  {
   "cell_type": "code",
   "execution_count": 5,
   "metadata": {},
   "outputs": [],
   "source": [
    "y_train = hot_train_data['goal_val']\n",
    "y_test = hot_test_data['goal_val']\n",
    "X_train = hot_train_data.drop(['goal_val'], axis=1)\n",
    "X_test = hot_test_data.drop(['goal_val'], axis=1)"
   ]
  },
  {
   "cell_type": "markdown",
   "metadata": {},
   "source": [
    "---"
   ]
  },
  {
   "cell_type": "markdown",
   "metadata": {},
   "source": [
    "# Test a model and calculate the errors: StochasticGradientDescent"
   ]
  },
  {
   "cell_type": "code",
   "execution_count": 6,
   "metadata": {},
   "outputs": [
    {
     "name": "stdout",
     "output_type": "stream",
     "text": [
      "The TEST prediction is 77.82515991471215 % ACCURATE\n",
      "The TRAIN prediction is 91.10915492957746 % ACCURATE\n"
     ]
    }
   ],
   "source": [
    "sgd = linear_model.SGDClassifier(max_iter=500, tol=1e-3)\n",
    "sgd.fit(X_train, y_train)  \n",
    "\n",
    "prediction_test = sgd.predict(X_test)\n",
    "prediction_train = sgd.predict(X_train)\n",
    "\n",
    "error_test = mean_squared_error(y_test, prediction_test)\n",
    "error_train = mean_squared_error(y_train, prediction_train)\n",
    "    \n",
    "print(f'The TEST prediction is {(1 - error_test)*100} % ACCURATE')\n",
    "\n",
    "print(f'The TRAIN prediction is {(1 - error_train)*100} % ACCURATE')"
   ]
  },
  {
   "cell_type": "markdown",
   "metadata": {},
   "source": [
    "---"
   ]
  },
  {
   "cell_type": "markdown",
   "metadata": {},
   "source": [
    "# Test a model and calculate the errors: RandomForestClassifier"
   ]
  },
  {
   "cell_type": "code",
   "execution_count": 7,
   "metadata": {},
   "outputs": [
    {
     "name": "stdout",
     "output_type": "stream",
     "text": [
      "The TEST prediction is 91.25799573560768 % ACCURATE\n",
      "The TRAIN prediction is 93.39788732394366 % ACCURATE\n"
     ]
    }
   ],
   "source": [
    "rfc = RandomForestClassifier(n_estimators= 50, max_depth = 15, bootstrap = False, max_leaf_nodes=256)\n",
    "rfc.fit(X_train, y_train)\n",
    "\n",
    "prediction_test = rfc.predict(X_test)\n",
    "prediction_train = rfc.predict(X_train)\n",
    "\n",
    "error_test = mean_squared_error(y_test, prediction_test)\n",
    "error_train = mean_squared_error(y_train, prediction_train)\n",
    "    \n",
    "print(f'The TEST prediction is {(1 - error_test)*100} % ACCURATE')\n",
    "\n",
    "print(f'The TRAIN prediction is {(1 - error_train)*100} % ACCURATE')"
   ]
  },
  {
   "cell_type": "markdown",
   "metadata": {},
   "source": [
    "---\n",
    "# Test a model and calculate the errors: LogisticRegression"
   ]
  },
  {
   "cell_type": "code",
   "execution_count": 8,
   "metadata": {},
   "outputs": [
    {
     "name": "stdout",
     "output_type": "stream",
     "text": [
      "The TEST prediction is 91.25799573560768 % ACCURATE\n",
      "The TRAIN prediction is 93.22183098591549 % ACCURATE\n"
     ]
    }
   ],
   "source": [
    "clf = LogisticRegression(solver='lbfgs', multi_class='multinomial')\n",
    "clf.fit(X_train, y_train)\n",
    "\n",
    "prediction_test = clf.predict(X_test)\n",
    "prediction_train = clf.predict(X_train)\n",
    "\n",
    "error_test = mean_squared_error(y_test, prediction_test)\n",
    "error_train = mean_squared_error(y_train, prediction_train)\n",
    "    \n",
    "print(f'The TEST prediction is {(1 - error_test)*100} % ACCURATE')\n",
    "\n",
    "print(f'The TRAIN prediction is {(1 - error_train)*100} % ACCURATE')"
   ]
  },
  {
   "cell_type": "markdown",
   "metadata": {},
   "source": [
    "---\n",
    "# Test a model and calculate the errors: DecisionTreeClassifier"
   ]
  },
  {
   "cell_type": "code",
   "execution_count": 9,
   "metadata": {},
   "outputs": [
    {
     "name": "stdout",
     "output_type": "stream",
     "text": [
      "The TEST prediction is 90.8315565031983 % ACCURATE\n",
      "The TRAIN prediction is 93.13380281690141 % ACCURATE\n"
     ]
    }
   ],
   "source": [
    "dtc = DecisionTreeClassifier(max_depth = 16, min_samples_split = 6)\n",
    "dtc.fit(X_train, y_train)\n",
    "\n",
    "prediction_test = dtc.predict(X_test)\n",
    "prediction_train = dtc.predict(X_train)\n",
    "\n",
    "error_test = mean_squared_error(y_test, prediction_test)\n",
    "error_train = mean_squared_error(y_train, prediction_train)\n",
    "    \n",
    "print(f'The TEST prediction is {(1 - error_test)*100} % ACCURATE')\n",
    "\n",
    "print(f'The TRAIN prediction is {(1 - error_train)*100} % ACCURATE')"
   ]
  },
  {
   "cell_type": "markdown",
   "metadata": {},
   "source": [
    "---\n",
    "# Test a model and calculate the errors: KNN"
   ]
  },
  {
   "cell_type": "code",
   "execution_count": 10,
   "metadata": {},
   "outputs": [
    {
     "name": "stdout",
     "output_type": "stream",
     "text": [
      "The TEST prediction is 91.44598563357683 % ACCURATE\n",
      "The TRAIN prediction is 96.75469483568075 % ACCURATE\n"
     ]
    }
   ],
   "source": [
    "knn = neighbors.KNeighborsRegressor(8, weights='distance')\n",
    "knn.fit(X_train, y_train)\n",
    "\n",
    "prediction_test = knn.predict(X_test)\n",
    "prediction_train = knn.predict(X_train)\n",
    "\n",
    "error_test = mean_squared_error(y_test, prediction_test)\n",
    "error_train = mean_squared_error(y_train, prediction_train)\n",
    "    \n",
    "print(f'The TEST prediction is {(1 - error_test)*100} % ACCURATE')\n",
    "\n",
    "print(f'The TRAIN prediction is {(1 - error_train)*100} % ACCURATE')\n",
    "\n",
    "#error_test = []\n",
    "#error_train = []\n",
    "#\n",
    "#for i in range(1, 50):\n",
    "#    neighbor = i\n",
    "#\n",
    "#    knn = neighbors.KNeighborsRegressor(neighbor, weights='distance')\n",
    "#    model = knn.fit(X_train, y_train)\n",
    "#    y_pred = model.predict(X_test)\n",
    "#    y_train_pred = model.predict(X_train)\n",
    "#    error_test.append(mean_squared_error(y_test, y_pred))\n",
    "#    error_train.append(mean_squared_error(y_train, y_train_pred))"
   ]
  },
  {
   "cell_type": "markdown",
   "metadata": {},
   "source": [
    "---"
   ]
  }
 ],
 "metadata": {
  "kernelspec": {
   "display_name": "Python 3",
   "language": "python",
   "name": "python3"
  },
  "language_info": {
   "codemirror_mode": {
    "name": "ipython",
    "version": 3
   },
   "file_extension": ".py",
   "mimetype": "text/x-python",
   "name": "python",
   "nbconvert_exporter": "python",
   "pygments_lexer": "ipython3",
   "version": "3.6.8"
  }
 },
 "nbformat": 4,
 "nbformat_minor": 2
}
