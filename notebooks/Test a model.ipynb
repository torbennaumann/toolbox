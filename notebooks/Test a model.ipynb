{
 "cells": [
  {
   "cell_type": "markdown",
   "metadata": {},
   "source": [
    "# Load the train and the test data from directory:\n",
    "\n",
    "After loading the data, we want to asssign the variables."
   ]
  },
  {
   "cell_type": "code",
   "execution_count": 1,
   "metadata": {},
   "outputs": [],
   "source": [
    "import pandas as pd\n",
    "import numpy as np\n",
    "from sklearn import linear_model\n",
    "from sklearn import tree, metrics\n",
    "from sklearn.metrics import mean_squared_error, accuracy_score\n",
    "import matplotlib.pyplot as plt\n",
    "from sklearn.model_selection import train_test_split\n",
    "\n",
    "from sklearn.metrics import accuracy_score\n",
    "from sklearn import neighbors\n",
    "from sklearn.tree import DecisionTreeClassifier\n",
    "from sklearn.ensemble import RandomForestClassifier\n",
    "from sklearn.linear_model import LogisticRegression"
   ]
  },
  {
   "cell_type": "markdown",
   "metadata": {},
   "source": [
    "#### Choose a directory:"
   ]
  },
  {
   "cell_type": "code",
   "execution_count": 2,
   "metadata": {},
   "outputs": [],
   "source": [
    "train = pd.read_csv('../data_frames/train_data', index_col=None, header=0)\n",
    "test = pd.read_csv('../data_frames/test_data', index_col=None, header=0)"
   ]
  },
  {
   "cell_type": "markdown",
   "metadata": {},
   "source": [
    "---"
   ]
  },
  {
   "cell_type": "code",
   "execution_count": 3,
   "metadata": {},
   "outputs": [],
   "source": [
    "y_train = train['goal_val']\n",
    "y_test = test['goal_val']\n",
    "X_train = train.drop(['goal_val'], axis=1)\n",
    "X_test = test.drop(['goal_val'], axis=1)"
   ]
  },
  {
   "cell_type": "code",
   "execution_count": 4,
   "metadata": {},
   "outputs": [],
   "source": [
    "hot_X_train = X_train.copy()\n",
    "hot_X_train[hot_X_train > 0] = 1\n",
    "\n",
    "hot_X_test = X_test.copy()\n",
    "hot_X_test[hot_X_test > 0] = 1"
   ]
  },
  {
   "cell_type": "code",
   "execution_count": 5,
   "metadata": {},
   "outputs": [],
   "source": [
    "X_train = hot_X_train\n",
    "X_test =  hot_X_test"
   ]
  },
  {
   "cell_type": "markdown",
   "metadata": {},
   "source": [
    "---"
   ]
  },
  {
   "cell_type": "markdown",
   "metadata": {},
   "source": [
    "# Test a model and calculate the errors: StochasticGradientDescent"
   ]
  },
  {
   "cell_type": "code",
   "execution_count": 6,
   "metadata": {},
   "outputs": [
    {
     "name": "stdout",
     "output_type": "stream",
     "text": [
      "The TEST prediction is 66.66666666666666 % ACCURATE\n",
      "The TRAIN prediction is 97.39542225730071 % ACCURATE\n"
     ]
    }
   ],
   "source": [
    "sgd = linear_model.SGDClassifier(max_iter=500, tol=1e-3)\n",
    "sgd.fit(X_train, y_train)  \n",
    "\n",
    "prediction_test = sgd.predict(X_test)\n",
    "prediction_train = sgd.predict(X_train)\n",
    "\n",
    "train_accuracy = accuracy_score(y_train, prediction_train)\n",
    "test_accuracy = accuracy_score(y_test, prediction_test)\n",
    "\n",
    "print(f'The TEST prediction is {test_accuracy*100} % ACCURATE')\n",
    "\n",
    "print(f'The TRAIN prediction is {train_accuracy*100} % ACCURATE')"
   ]
  },
  {
   "cell_type": "markdown",
   "metadata": {},
   "source": [
    "---"
   ]
  },
  {
   "cell_type": "markdown",
   "metadata": {},
   "source": [
    "# Test a model and calculate the errors: RandomForestClassifier"
   ]
  },
  {
   "cell_type": "code",
   "execution_count": 7,
   "metadata": {},
   "outputs": [
    {
     "name": "stdout",
     "output_type": "stream",
     "text": [
      "The TEST prediction is 63.33333333333333 % ACCURATE\n",
      "The TRAIN prediction is 69.7711128650355 % ACCURATE\n"
     ]
    }
   ],
   "source": [
    "rfc = RandomForestClassifier(n_estimators= 50, max_depth = 15, bootstrap = False, max_leaf_nodes=256)\n",
    "rfc.fit(X_train, y_train)\n",
    "\n",
    "prediction_test = rfc.predict(X_test)\n",
    "prediction_train = rfc.predict(X_train)\n",
    "\n",
    "train_accuracy = accuracy_score(y_train, prediction_train)\n",
    "test_accuracy = accuracy_score(y_test, prediction_test)\n",
    "\n",
    "print(f'The TEST prediction is {test_accuracy*100} % ACCURATE')\n",
    "\n",
    "print(f'The TRAIN prediction is {train_accuracy*100} % ACCURATE')"
   ]
  },
  {
   "cell_type": "markdown",
   "metadata": {},
   "source": [
    "---\n",
    "# Test a model and calculate the errors: LogisticRegression"
   ]
  },
  {
   "cell_type": "code",
   "execution_count": 8,
   "metadata": {},
   "outputs": [
    {
     "name": "stdout",
     "output_type": "stream",
     "text": [
      "The TEST prediction is 68.54166666666667 % ACCURATE\n",
      "The TRAIN prediction is 92.50197316495658 % ACCURATE\n"
     ]
    }
   ],
   "source": [
    "clf = LogisticRegression(solver='lbfgs', multi_class='multinomial')\n",
    "clf.fit(X_train, y_train)\n",
    "\n",
    "prediction_test = clf.predict(X_test)\n",
    "prediction_train = clf.predict(X_train)\n",
    "\n",
    "train_accuracy = accuracy_score(y_train, prediction_train)\n",
    "test_accuracy = accuracy_score(y_test, prediction_test)\n",
    "\n",
    "print(f'The TEST prediction is {test_accuracy*100} % ACCURATE')\n",
    "\n",
    "print(f'The TRAIN prediction is {train_accuracy*100} % ACCURATE')"
   ]
  },
  {
   "cell_type": "markdown",
   "metadata": {},
   "source": [
    "---\n",
    "# Test a model and calculate the errors: DecisionTreeClassifier"
   ]
  },
  {
   "cell_type": "code",
   "execution_count": 9,
   "metadata": {},
   "outputs": [
    {
     "name": "stdout",
     "output_type": "stream",
     "text": [
      "The TEST prediction is 61.458333333333336 % ACCURATE\n",
      "The TRAIN prediction is 63.93054459352802 % ACCURATE\n"
     ]
    }
   ],
   "source": [
    "dtc = DecisionTreeClassifier(max_depth = 16, min_samples_split = 6)\n",
    "dtc.fit(X_train, y_train)\n",
    "\n",
    "prediction_test = dtc.predict(X_test)\n",
    "prediction_train = dtc.predict(X_train)\n",
    "\n",
    "train_accuracy = accuracy_score(y_train, prediction_train)\n",
    "test_accuracy = accuracy_score(y_test, prediction_test)\n",
    "\n",
    "print(f'The TEST prediction is {test_accuracy*100} % ACCURATE')\n",
    "\n",
    "print(f'The TRAIN prediction is {train_accuracy*100} % ACCURATE')"
   ]
  },
  {
   "cell_type": "markdown",
   "metadata": {},
   "source": [
    "---\n",
    "## Hyperparameter Optimization for KNN"
   ]
  },
  {
   "cell_type": "code",
   "execution_count": 10,
   "metadata": {},
   "outputs": [],
   "source": [
    "#X_val, X_train, y_val, y_train = train_test_split(X_train, y_train, test_size=0.7)"
   ]
  },
  {
   "cell_type": "code",
   "execution_count": 11,
   "metadata": {},
   "outputs": [],
   "source": [
    "#errors_val = []\n",
    "#errors_test = []\n",
    "#errors_train = []\n",
    "#for n in range(1,50):\n",
    "#    knn = neighbors.KNeighborsRegressor(n, weights='distance')\n",
    "#    knn.fit(X_train, y_train)  \n",
    "#    \n",
    "#    prediction_val = knn.predict(X_val)\n",
    "#    prediction_test = knn.predict(X_test)\n",
    "#    prediction_train = knn.predict(X_train)\n",
    "#    \n",
    "#    err_val = (y_val != prediction_val).mean()\n",
    "#    err_test = (y_test != prediction_test).mean()\n",
    "#    err_train = (y_train != prediction_train).mean()\n",
    "#    \n",
    "#    errors_val.append(err_val)\n",
    "#    errors_test.append(err_test)\n",
    "#    errors_train.append(err_train)"
   ]
  },
  {
   "cell_type": "code",
   "execution_count": 12,
   "metadata": {},
   "outputs": [],
   "source": [
    "#plt.plot(list(range(1,50)), errors_val, color='DarkBlue')\n",
    "#plt.plot(list(range(1,50)), errors_test, color='crimson');\n",
    "#plt.plot(list(range(1,50)), errors_train, color='g');"
   ]
  },
  {
   "cell_type": "markdown",
   "metadata": {},
   "source": [
    "---\n",
    "# Test a model and calculate the errors: KNN"
   ]
  },
  {
   "cell_type": "code",
   "execution_count": 16,
   "metadata": {},
   "outputs": [
    {
     "name": "stdout",
     "output_type": "stream",
     "text": [
      "The TEST prediction is 22.083333333333332 % ACCURATE\n",
      "The TRAIN prediction is 94.63299131807419 % ACCURATE\n"
     ]
    }
   ],
   "source": [
    "knn = neighbors.KNeighborsRegressor(16, weights='distance')\n",
    "knn.fit(X_train, y_train)\n",
    "\n",
    "prediction_test = knn.predict(X_test)\n",
    "prediction_train = knn.predict(X_train)\n",
    "\n",
    "err_test = (y_test != prediction_test).mean()\n",
    "err_train = (y_train != prediction_train).mean()\n",
    "\n",
    "print(f'The TEST prediction is {(1-err_test)*100} % ACCURATE')\n",
    "\n",
    "print(f'The TRAIN prediction is {(1-err_train)*100} % ACCURATE')"
   ]
  },
  {
   "cell_type": "markdown",
   "metadata": {},
   "source": [
    "---"
   ]
  }
 ],
 "metadata": {
  "kernelspec": {
   "display_name": "Python 3",
   "language": "python",
   "name": "python3"
  },
  "language_info": {
   "codemirror_mode": {
    "name": "ipython",
    "version": 3
   },
   "file_extension": ".py",
   "mimetype": "text/x-python",
   "name": "python",
   "nbconvert_exporter": "python",
   "pygments_lexer": "ipython3",
   "version": "3.6.8"
  }
 },
 "nbformat": 4,
 "nbformat_minor": 2
}
