{
 "cells": [
  {
   "cell_type": "markdown",
   "metadata": {},
   "source": [
    "# Load the train and the test data from directory:\n",
    "\n",
    "After loading the data, we want to asssign the variables."
   ]
  },
  {
   "cell_type": "code",
   "execution_count": 1,
   "metadata": {},
   "outputs": [],
   "source": [
    "import pandas as pd\n",
    "from sklearn import linear_model\n",
    "from sklearn import tree, metrics\n",
    "from sklearn.metrics import mean_squared_error, accuracy_score\n",
    "import matplotlib.pyplot as plt\n",
    "\n",
    "from sklearn.tree import DecisionTreeClassifier\n",
    "from sklearn.ensemble import RandomForestClassifier\n",
    "from sklearn.linear_model import LogisticRegression"
   ]
  },
  {
   "cell_type": "code",
   "execution_count": 2,
   "metadata": {},
   "outputs": [],
   "source": [
    "train = pd.read_csv('../data_frames/train_data', index_col=None, header=0)\n",
    "test = pd.read_csv('../data_frames/test_data', index_col=None, header=0)"
   ]
  },
  {
   "cell_type": "code",
   "execution_count": 3,
   "metadata": {},
   "outputs": [],
   "source": [
    "hot_train_data = train.copy()\n",
    "hot_train_data[hot_train_data > 0] = 1"
   ]
  },
  {
   "cell_type": "code",
   "execution_count": 4,
   "metadata": {},
   "outputs": [],
   "source": [
    "hot_test_data = test.copy()\n",
    "hot_test_data[hot_test_data > 0] = 1"
   ]
  },
  {
   "cell_type": "code",
   "execution_count": 5,
   "metadata": {},
   "outputs": [],
   "source": [
    "y_train = hot_train_data['goal_val']\n",
    "y_test = hot_test_data['goal_val']\n",
    "X_train = hot_train_data.drop(['goal_val'], axis=1)\n",
    "X_test = hot_test_data.drop(['goal_val'], axis=1)"
   ]
  },
  {
   "cell_type": "markdown",
   "metadata": {},
   "source": [
    "---"
   ]
  },
  {
   "cell_type": "markdown",
   "metadata": {},
   "source": [
    "# Test a model and calculate the errors: StochasticGradientDescent"
   ]
  },
  {
   "cell_type": "code",
   "execution_count": 6,
   "metadata": {},
   "outputs": [
    {
     "name": "stdout",
     "output_type": "stream",
     "text": [
      "The TEST prediction is 88.91752577319588 % ACCURATE\n",
      "The TRAIN prediction is 87.58967001434719 % ACCURATE\n"
     ]
    }
   ],
   "source": [
    "sgd = linear_model.SGDClassifier(max_iter=500, tol=1e-3)\n",
    "sgd.fit(X_train, y_train)  \n",
    "\n",
    "prediction_test = sgd.predict(X_test)\n",
    "prediction_train = sgd.predict(X_train)\n",
    "\n",
    "error_test = mean_squared_error(y_test, prediction_test)\n",
    "error_train = mean_squared_error(y_train, prediction_train)\n",
    "    \n",
    "print(f'The TEST prediction is {(1 - error_test)*100} % ACCURATE')\n",
    "\n",
    "print(f'The TRAIN prediction is {(1 - error_train)*100} % ACCURATE')"
   ]
  },
  {
   "cell_type": "markdown",
   "metadata": {},
   "source": [
    "---"
   ]
  },
  {
   "cell_type": "markdown",
   "metadata": {},
   "source": [
    "# Test a model and calculate the errors: RandomForestClassifier"
   ]
  },
  {
   "cell_type": "code",
   "execution_count": 7,
   "metadata": {},
   "outputs": [
    {
     "name": "stdout",
     "output_type": "stream",
     "text": [
      "The TEST prediction is 90.20618556701031 % ACCURATE\n",
      "The TRAIN prediction is 87.58967001434719 % ACCURATE\n"
     ]
    }
   ],
   "source": [
    "rfc = RandomForestClassifier(n_estimators= 50, max_depth = 15, bootstrap = False, max_leaf_nodes=256)\n",
    "rfc.fit(X_train, y_train)\n",
    "\n",
    "prediction_test = rfc.predict(X_test)\n",
    "prediction_train = rfc.predict(X_train)\n",
    "\n",
    "error_test = mean_squared_error(y_test, prediction_test)\n",
    "error_train = mean_squared_error(y_train, prediction_train)\n",
    "    \n",
    "print(f'The TEST prediction is {(1 - error_test)*100} % ACCURATE')\n",
    "\n",
    "print(f'The TRAIN prediction is {(1 - error_train)*100} % ACCURATE')"
   ]
  },
  {
   "cell_type": "markdown",
   "metadata": {},
   "source": [
    "---\n",
    "# Test a model and calculate the errors: LogisticRegression"
   ]
  },
  {
   "cell_type": "code",
   "execution_count": 8,
   "metadata": {},
   "outputs": [
    {
     "name": "stdout",
     "output_type": "stream",
     "text": [
      "The TEST prediction is 89.69072164948454 % ACCURATE\n",
      "The TRAIN prediction is 87.30272596843616 % ACCURATE\n"
     ]
    }
   ],
   "source": [
    "clf = LogisticRegression(solver='lbfgs', multi_class='multinomial')\n",
    "clf.fit(X_train, y_train)\n",
    "\n",
    "prediction_test = clf.predict(X_test)\n",
    "prediction_train = clf.predict(X_train)\n",
    "\n",
    "error_test = mean_squared_error(y_test, prediction_test)\n",
    "error_train = mean_squared_error(y_train, prediction_train)\n",
    "    \n",
    "print(f'The TEST prediction is {(1 - error_test)*100} % ACCURATE')\n",
    "\n",
    "print(f'The TRAIN prediction is {(1 - error_train)*100} % ACCURATE')"
   ]
  },
  {
   "cell_type": "markdown",
   "metadata": {},
   "source": [
    "---\n",
    "# Test a model and calculate the errors: DecisionTreeClassifier"
   ]
  },
  {
   "cell_type": "code",
   "execution_count": 9,
   "metadata": {},
   "outputs": [
    {
     "name": "stdout",
     "output_type": "stream",
     "text": [
      "The TEST prediction is 90.20618556701031 % ACCURATE\n",
      "The TRAIN prediction is 87.58967001434719 % ACCURATE\n"
     ]
    }
   ],
   "source": [
    "dtc = DecisionTreeClassifier(max_depth = 16, min_samples_split = 6)\n",
    "dtc.fit(X_train, y_train)\n",
    "\n",
    "prediction_test = dtc.predict(X_test)\n",
    "prediction_train = dtc.predict(X_train)\n",
    "\n",
    "error_test = mean_squared_error(y_test, prediction_test)\n",
    "error_train = mean_squared_error(y_train, prediction_train)\n",
    "    \n",
    "print(f'The TEST prediction is {(1 - error_test)*100} % ACCURATE')\n",
    "\n",
    "print(f'The TRAIN prediction is {(1 - error_train)*100} % ACCURATE')"
   ]
  }
 ],
 "metadata": {
  "kernelspec": {
   "display_name": "Python 3",
   "language": "python",
   "name": "python3"
  },
  "language_info": {
   "codemirror_mode": {
    "name": "ipython",
    "version": 3
   },
   "file_extension": ".py",
   "mimetype": "text/x-python",
   "name": "python",
   "nbconvert_exporter": "python",
   "pygments_lexer": "ipython3",
   "version": "3.6.8"
  }
 },
 "nbformat": 4,
 "nbformat_minor": 2
}
