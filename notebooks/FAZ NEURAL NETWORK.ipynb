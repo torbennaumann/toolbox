{
 "cells": [
  {
   "cell_type": "markdown",
   "metadata": {},
   "source": [
    "# import the preprocessed datasets"
   ]
  },
  {
   "cell_type": "code",
   "execution_count": 1,
   "metadata": {},
   "outputs": [],
   "source": [
    "import pandas as pd\n",
    "import numpy as np\n",
    "from sklearn import linear_model\n",
    "from sklearn import tree, metrics\n",
    "from sklearn.metrics import mean_squared_error, accuracy_score\n",
    "import matplotlib.pyplot as plt\n",
    "from sklearn.model_selection import train_test_split\n",
    "\n",
    "\n",
    "import torch\n",
    "import torch.nn as nn"
   ]
  },
  {
   "cell_type": "code",
   "execution_count": 2,
   "metadata": {},
   "outputs": [],
   "source": [
    "train = pd.read_csv('../data_frames/politik/train_data', index_col=None, header=0)\n",
    "test = pd.read_csv('../data_frames/politik/test_data', index_col=None, header=0)"
   ]
  },
  {
   "cell_type": "code",
   "execution_count": 3,
   "metadata": {},
   "outputs": [],
   "source": [
    "hot_train_data = train.copy()\n",
    "hot_train_data[hot_train_data > 0] = 1"
   ]
  },
  {
   "cell_type": "code",
   "execution_count": 4,
   "metadata": {},
   "outputs": [],
   "source": [
    "hot_test_data = test.copy()\n",
    "hot_test_data[hot_test_data > 0] = 1"
   ]
  },
  {
   "cell_type": "markdown",
   "metadata": {},
   "source": [
    "## assign data to variables"
   ]
  },
  {
   "cell_type": "code",
   "execution_count": 5,
   "metadata": {},
   "outputs": [],
   "source": [
    "y_train = hot_train_data['goal_val'].values\n",
    "y_test = hot_test_data['goal_val'].values\n",
    "X_train = hot_train_data.drop(['goal_val'], axis=1).values\n",
    "X_test = hot_test_data.drop(['goal_val'], axis=1).values"
   ]
  },
  {
   "cell_type": "code",
   "execution_count": 6,
   "metadata": {},
   "outputs": [],
   "source": [
    "X_val, X_test, y_val, y_test = train_test_split(X_test, y_test, test_size=0.5)"
   ]
  },
  {
   "cell_type": "code",
   "execution_count": 7,
   "metadata": {},
   "outputs": [],
   "source": [
    "dtype = torch.float\n",
    "device = torch.device(\"cpu\")"
   ]
  },
  {
   "cell_type": "code",
   "execution_count": 8,
   "metadata": {},
   "outputs": [],
   "source": [
    "x_torch_train = torch.tensor(X_train, device=device, dtype=dtype)\n",
    "\n",
    "y_torch_train = torch.tensor(y_train, device=device, dtype=torch.long)\n",
    "\n",
    "x_torch_val = torch.tensor(X_val, device=device, dtype=dtype)\n",
    "\n",
    "y_torch_val = torch.tensor(y_val, device=device, dtype=torch.long)"
   ]
  },
  {
   "cell_type": "code",
   "execution_count": 9,
   "metadata": {},
   "outputs": [
    {
     "data": {
      "text/plain": [
       "torch.Size([1136, 400])"
      ]
     },
     "execution_count": 9,
     "metadata": {},
     "output_type": "execute_result"
    }
   ],
   "source": [
    "x_torch_train.shape"
   ]
  },
  {
   "cell_type": "code",
   "execution_count": 10,
   "metadata": {},
   "outputs": [
    {
     "data": {
      "text/plain": [
       "torch.Size([1136])"
      ]
     },
     "execution_count": 10,
     "metadata": {},
     "output_type": "execute_result"
    }
   ],
   "source": [
    "y_torch_train.shape"
   ]
  },
  {
   "cell_type": "markdown",
   "metadata": {},
   "source": [
    "---"
   ]
  },
  {
   "cell_type": "code",
   "execution_count": 11,
   "metadata": {},
   "outputs": [],
   "source": [
    "# N sind die Anzahl der Datenpunkte \n",
    "# D_in ist die Input-Dimension\n",
    "# D_out ist die Output-Dimension\n",
    "D_in, N_classes = 400, 50\n",
    "H = 256"
   ]
  },
  {
   "cell_type": "code",
   "execution_count": 12,
   "metadata": {},
   "outputs": [],
   "source": [
    "### 2-Layer-Network\n",
    "model = torch.nn.Sequential(   \n",
    "    nn.Linear(D_in, H),\n",
    "    nn.ReLU(),\n",
    "    #nn.Linear(H, H2),\n",
    "    #nn.ReLU(),\n",
    "    nn.Linear(H, N_classes)\n",
    ")"
   ]
  },
  {
   "cell_type": "code",
   "execution_count": 13,
   "metadata": {},
   "outputs": [],
   "source": [
    "learning_rate = 0.001\n",
    "weight_decay = 0.01"
   ]
  },
  {
   "cell_type": "code",
   "execution_count": 14,
   "metadata": {},
   "outputs": [],
   "source": [
    "criterion = nn.CrossEntropyLoss() \n",
    "optimizer = torch.optim.Adam(model.parameters(), lr=learning_rate, weight_decay = weight_decay)"
   ]
  },
  {
   "cell_type": "code",
   "execution_count": 15,
   "metadata": {},
   "outputs": [],
   "source": [
    "loss_hist = []\n",
    "val_loss_hist = []"
   ]
  },
  {
   "cell_type": "code",
   "execution_count": 16,
   "metadata": {},
   "outputs": [],
   "source": [
    "# Train\n",
    "for t in range(1000):\n",
    "    # Berechne die Vorhersage (foward step)\n",
    "    outputs = model(x_torch_train)\n",
    "    val_outputs = model(x_torch_val) \n",
    "    # Berechne den Fehler (Ausgabe des Fehlers alle 100 Iterationen)\n",
    "    loss = criterion(outputs, y_torch_train)\n",
    "    val_loss = criterion(val_outputs, y_torch_val)\n",
    "    # Berechne die Gradienten und Aktualisiere die Gewichte (backward step)\n",
    "    optimizer.zero_grad()\n",
    "    loss.backward()\n",
    "    optimizer.step()\n",
    "    \n",
    "    # Berechne den Fehler (Ausgabe des Fehlers alle 100 Iterationen)\n",
    "    #if t % 1000 == 0:\n",
    "    loss_hist.append(loss.item())\n",
    "    val_loss_hist.append(val_loss.item())\n",
    "    #    print(t, loss.item())"
   ]
  },
  {
   "cell_type": "code",
   "execution_count": 17,
   "metadata": {},
   "outputs": [
    {
     "data": {
      "image/png": "[encoded data removed]",
      "text/plain": [
       "<Figure size 1080x720 with 1 Axes>"
      ]
     },
     "metadata": {
      "needs_background": "light"
     },
     "output_type": "display_data"
    }
   ],
   "source": [
    "plt.figure(1, figsize=(15,10))\n",
    "plt.plot(val_loss_hist, color='m', lw=1.5)\n",
    "plt.plot(loss_hist, color='grey', lw=1.5, linestyle='--')\n",
    "plt.title('Train and Validation Error - NN')\n",
    "plt.show();"
   ]
  },
  {
   "cell_type": "code",
   "execution_count": 18,
   "metadata": {},
   "outputs": [
    {
     "data": {
      "text/plain": [
       "(tensor([6.7197, 7.6551, 8.0468,  ..., 9.0374, 9.0955, 8.2257],\n",
       "        grad_fn=<MaxBackward0>), tensor([1, 1, 1,  ..., 0, 0, 0]))"
      ]
     },
     "execution_count": 18,
     "metadata": {},
     "output_type": "execute_result"
    }
   ],
   "source": [
    "torch.max(model(x_torch_train), 1)"
   ]
  },
  {
   "cell_type": "markdown",
   "metadata": {},
   "source": [
    "---"
   ]
  },
  {
   "cell_type": "code",
   "execution_count": 19,
   "metadata": {},
   "outputs": [],
   "source": [
    "x_torch_test = torch.tensor(X_test, device=device, dtype=dtype)\n",
    "\n",
    "y_torch_test = torch.tensor(y_test,device=device, dtype=torch.long)"
   ]
  },
  {
   "cell_type": "code",
   "execution_count": 20,
   "metadata": {},
   "outputs": [
    {
     "name": "stderr",
     "output_type": "stream",
     "text": [
      "/anaconda3/envs/toolbox/lib/python3.6/site-packages/ipykernel_launcher.py:3: UserWarning: Implicit dimension choice for softmax has been deprecated. Change the call to include dim=X as an argument.\n",
      "  This is separate from the ipykernel package so we can avoid doing imports until\n"
     ]
    }
   ],
   "source": [
    "softmax = torch.nn.Softmax()\n",
    "\n",
    "y_test_pred = softmax(model(x_torch_test)).argmax(1)"
   ]
  },
  {
   "cell_type": "code",
   "execution_count": 21,
   "metadata": {},
   "outputs": [],
   "source": [
    "test_error = mean_squared_error (y_torch_test, y_test_pred)"
   ]
  },
  {
   "cell_type": "code",
   "execution_count": 22,
   "metadata": {},
   "outputs": [
    {
     "name": "stdout",
     "output_type": "stream",
     "text": [
      "The TEST prediction is 88.51063829787233 % ACCURATE\n"
     ]
    }
   ],
   "source": [
    "test_error\n",
    "print(f'The TEST prediction is {(1 - test_error)*100} % ACCURATE')"
   ]
  },
  {
   "cell_type": "markdown",
   "metadata": {},
   "source": [
    "---"
   ]
  }
 ],
 "metadata": {
  "kernelspec": {
   "display_name": "Python 3",
   "language": "python",
   "name": "python3"
  },
  "language_info": {
   "codemirror_mode": {
    "name": "ipython",
    "version": 3
   },
   "file_extension": ".py",
   "mimetype": "text/x-python",
   "name": "python",
   "nbconvert_exporter": "python",
   "pygments_lexer": "ipython3",
   "version": "3.6.8"
  }
 },
 "nbformat": 4,
 "nbformat_minor": 2
}
