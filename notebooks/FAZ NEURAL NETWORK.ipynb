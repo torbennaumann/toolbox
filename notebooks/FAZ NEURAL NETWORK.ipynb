{
 "cells": [
  {
   "cell_type": "markdown",
   "metadata": {},
   "source": [
    "# import the preprocessed datasets"
   ]
  },
  {
   "cell_type": "code",
   "execution_count": 1,
   "metadata": {},
   "outputs": [],
   "source": [
    "import pandas as pd\n",
    "import numpy as np\n",
    "from sklearn import linear_model\n",
    "from sklearn import tree, metrics\n",
    "from sklearn.metrics import mean_squared_error, accuracy_score\n",
    "import matplotlib.pyplot as plt\n",
    "from sklearn.model_selection import train_test_split\n",
    "import torch.nn.functional as F\n",
    "from sklearn.metrics import accuracy_score\n",
    "\n",
    "import torch\n",
    "import torch.nn as nn"
   ]
  },
  {
   "cell_type": "code",
   "execution_count": 2,
   "metadata": {},
   "outputs": [],
   "source": [
    "train = pd.read_csv('../data_frames/train_data', index_col=None, header=0)\n",
    "test = pd.read_csv('../data_frames/test_data', index_col=None, header=0)"
   ]
  },
  {
   "cell_type": "code",
   "execution_count": 3,
   "metadata": {},
   "outputs": [],
   "source": [
    "y_train = train['goal_val'].values\n",
    "y_test = test['goal_val'].values\n",
    "X_train = train.drop(['goal_val'], axis=1).values\n",
    "X_test = test.drop(['goal_val'], axis=1).values"
   ]
  },
  {
   "cell_type": "code",
   "execution_count": 4,
   "metadata": {},
   "outputs": [],
   "source": [
    "hot_X_train = X_train.copy()\n",
    "hot_X_train[hot_X_train > 0] = 1\n",
    "\n",
    "hot_X_test = X_test.copy()\n",
    "hot_X_test[hot_X_test > 0] = 1"
   ]
  },
  {
   "cell_type": "code",
   "execution_count": 5,
   "metadata": {},
   "outputs": [],
   "source": [
    "X_train = hot_X_train\n",
    "X_test =  hot_X_test"
   ]
  },
  {
   "cell_type": "markdown",
   "metadata": {},
   "source": [
    "## assign data to variables"
   ]
  },
  {
   "cell_type": "code",
   "execution_count": 6,
   "metadata": {},
   "outputs": [],
   "source": [
    "X_val, X_train, y_val, y_train = train_test_split(X_train, y_train, test_size=0.7)"
   ]
  },
  {
   "cell_type": "code",
   "execution_count": 7,
   "metadata": {},
   "outputs": [],
   "source": [
    "dtype = torch.float\n",
    "device = torch.device(\"cpu\")"
   ]
  },
  {
   "cell_type": "code",
   "execution_count": 8,
   "metadata": {},
   "outputs": [],
   "source": [
    "x_torch_train = torch.tensor(X_train, device=device, dtype=dtype)\n",
    "\n",
    "y_torch_train = torch.tensor(y_train, device=device, dtype=torch.long)\n",
    "\n",
    "x_torch_val = torch.tensor(X_val, device=device, dtype=dtype)\n",
    "\n",
    "y_torch_val = torch.tensor(y_val, device=device, dtype=torch.long)"
   ]
  },
  {
   "cell_type": "code",
   "execution_count": 9,
   "metadata": {},
   "outputs": [
    {
     "data": {
      "text/plain": [
       "torch.Size([887, 1000])"
      ]
     },
     "execution_count": 9,
     "metadata": {},
     "output_type": "execute_result"
    }
   ],
   "source": [
    "x_torch_train.shape"
   ]
  },
  {
   "cell_type": "code",
   "execution_count": 10,
   "metadata": {},
   "outputs": [
    {
     "data": {
      "text/plain": [
       "torch.Size([887])"
      ]
     },
     "execution_count": 10,
     "metadata": {},
     "output_type": "execute_result"
    }
   ],
   "source": [
    "y_torch_train.shape"
   ]
  },
  {
   "cell_type": "markdown",
   "metadata": {},
   "source": [
    "---"
   ]
  },
  {
   "cell_type": "code",
   "execution_count": 11,
   "metadata": {},
   "outputs": [],
   "source": [
    "# N sind die Anzahl der Datenpunkte \n",
    "# D_in ist die Input-Dimension\n",
    "# D_out ist die Output-Dimension\n",
    "D_in, N_classes = 1000, 50\n",
    "H = 512\n",
    "#H2 = 256\n",
    "#H3 = 128"
   ]
  },
  {
   "cell_type": "code",
   "execution_count": 12,
   "metadata": {},
   "outputs": [],
   "source": [
    "### 2-Layer-Network\n",
    "model = torch.nn.Sequential(   \n",
    "    nn.Linear(D_in, H),\n",
    "    nn.ReLU(),\n",
    "    #nn.Linear(H, H2),\n",
    "    #nn.ReLU(),\n",
    "    #nn.Linear(H2, H3),\n",
    "    #nn.ReLU(),\n",
    "    nn.Linear(H, N_classes)\n",
    ")"
   ]
  },
  {
   "cell_type": "code",
   "execution_count": 13,
   "metadata": {},
   "outputs": [],
   "source": [
    "learning_rate = 0.001\n",
    "weight_decay = 0.01"
   ]
  },
  {
   "cell_type": "code",
   "execution_count": 14,
   "metadata": {},
   "outputs": [],
   "source": [
    "criterion = nn.CrossEntropyLoss() \n",
    "optimizer = torch.optim.Adam(model.parameters(), lr=learning_rate, weight_decay = weight_decay)"
   ]
  },
  {
   "cell_type": "code",
   "execution_count": 15,
   "metadata": {},
   "outputs": [],
   "source": [
    "loss_hist = []\n",
    "val_loss_hist = []"
   ]
  },
  {
   "cell_type": "code",
   "execution_count": 16,
   "metadata": {},
   "outputs": [],
   "source": [
    "# Train\n",
    "for t in range(1000):\n",
    "    # Berechne die Vorhersage (foward step)\n",
    "    outputs = model(x_torch_train)\n",
    "    val_outputs = model(x_torch_val) \n",
    "    # Berechne den Fehler (Ausgabe des Fehlers alle 100 Iterationen)\n",
    "    loss = criterion(outputs, y_torch_train)\n",
    "    val_loss = criterion(val_outputs, y_torch_val)\n",
    "    # Berechne die Gradienten und Aktualisiere die Gewichte (backward step)\n",
    "    optimizer.zero_grad()\n",
    "    loss.backward()\n",
    "    optimizer.step()\n",
    "    \n",
    "    # Berechne den Fehler (Ausgabe des Fehlers alle 100 Iterationen)\n",
    "    #if t % 1000 == 0:\n",
    "    loss_hist.append(loss.item())\n",
    "    val_loss_hist.append(val_loss.item())\n",
    "    #    print(t, loss.item())"
   ]
  },
  {
   "cell_type": "code",
   "execution_count": 17,
   "metadata": {},
   "outputs": [
    {
     "data": {
      "image/png": "[encoded data removed]",
      "text/plain": [
       "<Figure size 1080x720 with 1 Axes>"
      ]
     },
     "metadata": {
      "needs_background": "light"
     },
     "output_type": "display_data"
    }
   ],
   "source": [
    "plt.figure(1, figsize=(15,10))\n",
    "plt.plot(val_loss_hist, color='m', lw=1.5)\n",
    "plt.plot(loss_hist, color='grey', lw=1.5, linestyle='--')\n",
    "plt.title('Train and Validation Error - NN')\n",
    "plt.show();"
   ]
  },
  {
   "cell_type": "code",
   "execution_count": 18,
   "metadata": {},
   "outputs": [
    {
     "data": {
      "text/plain": [
       "(tensor([ 8.4777,  7.9799,  6.0364,  7.3885,  7.1199,  7.0275,  5.6144,  7.8276,\n",
       "          6.4891,  7.2000,  6.6759,  7.7390,  5.7317,  7.0637,  8.7738,  7.1218,\n",
       "          6.9366,  8.3065,  7.2660,  6.8928,  6.1931,  7.6859,  6.7866,  7.1826,\n",
       "          7.9400,  6.3650, 10.2348,  6.1875,  5.9105,  6.9055,  8.1195,  7.5628,\n",
       "          5.9806,  6.4075,  9.2387,  7.6873,  6.1367,  6.1426,  7.4236,  7.2735,\n",
       "          6.9823,  7.4621,  7.8481,  8.4654,  6.7546,  6.4751,  5.9485,  7.5442,\n",
       "          6.2112,  8.4654,  8.0222,  5.9091,  8.3983,  6.1867,  6.9191,  7.9670,\n",
       "          7.6233,  6.4580,  5.9799,  7.0271,  6.4710,  8.5471,  6.7018,  8.6714,\n",
       "          7.8134,  7.5652,  7.1456,  6.8197,  6.2239,  7.7714,  9.9835,  8.1857,\n",
       "          6.5733,  6.6645,  6.2776,  8.8543,  7.1282,  7.0727,  9.9625,  7.6445,\n",
       "          6.8995,  6.9699,  6.1931,  7.1574,  8.3036,  8.0854,  7.3851,  7.5156,\n",
       "          7.9506,  7.9270,  8.4351,  7.9004,  7.6233,  7.2171,  7.4219, 10.9593,\n",
       "          6.8653,  8.6450,  8.9178,  5.8772,  7.7548,  8.3669,  8.1173,  7.4977,\n",
       "          7.8258,  7.6465,  7.4017,  6.1937,  5.7212,  7.6971,  6.8467,  8.9266,\n",
       "          8.6705,  5.4703,  7.5965,  7.5646,  6.0474,  7.4236,  6.1248,  6.9533,\n",
       "          7.7366,  6.2325,  8.0600,  7.0575,  5.8366,  8.1845,  8.3381,  7.4372,\n",
       "          7.7631,  5.3027,  9.6582,  7.4998,  7.7549,  7.5320,  7.6348,  7.4164,\n",
       "          8.3460,  6.0982,  8.2031,  7.4104,  6.2582,  6.4414,  8.4038,  6.3248,\n",
       "          8.8851,  7.0194,  9.9790,  7.2371,  7.5057,  6.8222,  6.1301,  6.4255,\n",
       "          6.0982,  6.8173,  7.3194,  6.9381,  7.4385,  7.8096,  9.7086,  5.4497,\n",
       "          7.5325,  8.1219,  8.8884,  8.4386,  7.9244,  8.1173,  7.8117,  8.0452,\n",
       "          8.3433,  7.2534,  7.1670,  8.5011,  8.1403,  7.1168,  6.9473,  6.6685,\n",
       "          7.3460, 10.1248,  6.6441,  7.1659,  7.6384,  7.4765,  6.6645,  7.5437,\n",
       "          7.3569,  9.8567,  7.3569,  7.8243,  6.6155,  6.1420,  6.2853,  5.9806,\n",
       "          7.2245,  6.4249,  6.0379,  6.1907,  6.7184,  6.9114,  6.8938,  7.8613,\n",
       "          5.7403,  6.2811,  7.2721,  6.8815,  6.8798,  5.9766,  8.0887,  5.9806,\n",
       "          6.2788,  8.9695,  7.8155,  6.2289,  7.9270,  6.3897,  8.5278,  7.3028,\n",
       "          7.8481,  6.3942,  7.1238,  7.4998,  8.6107,  7.1066,  6.1931,  6.9422,\n",
       "          7.5029,  8.4561,  6.8475,  7.8105,  8.5624,  7.9608,  6.3799,  8.3939,\n",
       "          7.4018,  7.6226,  8.1886,  7.1848,  6.3218,  7.8480,  8.5885,  8.0401,\n",
       "          7.1253,  6.3742,  6.6594,  6.2859,  6.0133,  7.3845,  6.9507,  6.1420,\n",
       "          8.3683,  6.3282,  7.9004,  5.6655,  5.5700,  6.5623,  6.0215,  8.0841,\n",
       "          7.4352,  8.0870,  7.9838,  8.4813,  7.6693,  7.4889,  5.8973,  5.6560,\n",
       "          8.9486,  6.7587,  6.3684, 10.0396,  6.3510,  7.0459,  7.2033,  8.6043,\n",
       "          6.5052,  5.8073,  5.3871,  7.2475,  6.1716,  7.6621,  5.7048,  9.5280,\n",
       "          6.8685,  9.5883,  6.4795,  7.6725,  8.2847,  5.8287,  6.7308,  6.8424,\n",
       "          7.6445,  8.9958,  7.3873,  6.9145,  7.8844,  8.5117,  7.8879,  7.2098,\n",
       "          7.6320,  7.5098,  7.7544,  6.2652,  6.1011,  7.9553,  6.1931,  9.0176,\n",
       "          8.0409,  9.1754,  8.0107,  7.7123,  7.9156,  7.4987,  6.8502,  7.7680,\n",
       "          6.9384,  6.7373,  7.0977,  9.1682,  7.9670,  7.4206,  7.7232,  7.0832,\n",
       "          7.7468,  6.3253,  7.4038,  6.3863,  6.7308,  7.7714, 10.3850,  7.0900,\n",
       "          8.5578,  5.9384,  8.4561,  5.8924,  7.5320,  8.8030,  7.9775,  6.9152,\n",
       "          9.8821,  7.9912,  8.1382,  6.0123,  6.7320,  5.5885,  7.7368,  6.9121,\n",
       "         10.2348,  6.1931,  5.6946,  7.9153,  6.7762,  6.9812,  7.3108,  7.2903,\n",
       "          7.1308,  5.4159,  6.0235,  6.4768,  6.8525,  6.6894,  8.5979,  9.6357,\n",
       "          6.3499,  7.5742,  7.2903,  8.7438,  6.3072,  6.5506,  7.0853,  7.7763,\n",
       "          7.8208,  7.3632,  7.3714,  7.5452,  7.0269,  7.1849,  7.3913,  5.9703,\n",
       "          7.3435,  7.8095,  6.5435,  6.7986,  7.1845,  6.1931,  6.3448,  7.7123,\n",
       "          6.8502,  6.7807,  6.2550,  6.8678, 10.2348,  7.8259,  8.1195, 10.9593,\n",
       "          5.7934,  6.8747,  5.6167,  9.5368,  7.0224,  6.9384,  8.0496,  5.9474,\n",
       "          6.5469,  5.6429,  6.3049,  7.6457,  7.0170,  7.9616,  6.1931,  6.7603,\n",
       "          7.9635,  7.8073,  5.9799,  6.6565,  6.9153,  6.1298,  6.3647,  7.9560,\n",
       "          6.2026,  6.4837,  7.1512,  6.4075,  7.5325,  6.9992,  6.1693,  6.6747,\n",
       "          7.6109,  7.2620,  8.2031,  8.0203,  7.4765,  7.5724,  7.0149,  6.7593,\n",
       "          7.7680,  5.4529,  8.0338,  7.2615,  7.7366,  9.1980,  6.2853,  7.6672,\n",
       "          8.3683,  8.4119,  6.3937,  7.2332,  7.9813,  7.2981,  6.0113,  7.2469,\n",
       "          6.4133,  7.2404,  8.6356,  9.0246,  9.9112,  7.1295,  6.9191,  6.3722,\n",
       "          6.8475,  7.4219,  6.8038,  5.4691,  9.6008,  8.0887,  6.1931,  8.6043,\n",
       "          8.0088,  7.9233,  7.6755,  6.5545,  8.3472,  7.3635,  6.0597,  6.0770,\n",
       "          6.1931,  8.9266,  5.4416,  9.2593,  5.7664,  5.8892,  7.6725,  7.1344,\n",
       "          6.6130,  5.7709,  7.2335,  5.5446,  6.9471,  7.0400,  8.5892,  7.2267,\n",
       "          7.2033,  8.9672,  6.1605,  9.5241,  8.4386,  8.4561,  8.2049,  6.8993,\n",
       "          6.8038,  6.0193,  7.1511,  6.9266,  7.3823, 11.0222,  8.1734,  6.4814,\n",
       "          7.8912,  5.8286,  6.9386,  7.5784,  7.0968,  8.1686,  8.6523,  5.9475,\n",
       "          6.2788,  9.3252,  5.8777,  8.0600,  8.3943,  7.4690,  9.1682,  7.2735,\n",
       "          6.8227,  7.8955,  7.6732,  6.1931,  7.6308,  6.5619,  7.2361,  7.8519,\n",
       "          8.8847,  6.3573,  8.4297,  8.0813,  8.3472,  5.4395,  6.7293,  7.5029,\n",
       "          8.0600,  6.5765,  8.8028,  6.4831,  7.8574,  8.5249,  6.9356,  7.1450,\n",
       "          6.8733,  8.5977,  9.0471,  8.6211,  8.0813,  7.3802,  8.2847,  6.2186,\n",
       "          7.0366,  6.3456,  8.9486,  8.1480,  8.6531,  8.1438,  6.3432,  9.3665,\n",
       "          7.9670,  6.6679,  7.4829,  8.6107,  6.2322,  6.0474,  7.3374,  7.2534,\n",
       "          6.5969,  7.1456,  9.9112,  7.5994,  7.1827,  7.6233,  6.6054,  8.6107,\n",
       "          8.8847,  7.1347,  7.8800,  9.6582,  5.9485,  7.7466,  5.4447,  6.3456,\n",
       "          7.3043,  7.2335,  7.6324,  7.0400,  7.5048,  8.2294,  6.7788,  5.5243,\n",
       "          7.1746,  7.6693,  7.2113,  6.1931,  7.0641,  6.8288,  7.2822,  8.5117,\n",
       "          7.2371,  8.5578,  6.9436,  5.9106,  9.2387,  7.4046,  6.2853,  7.9902,\n",
       "          6.5520,  7.5203,  8.1686,  7.1387,  7.3337,  8.4391,  6.6265,  7.7549,\n",
       "          7.6533,  6.2763,  6.5127,  7.8121,  6.1931,  6.9533,  8.5622,  7.0492,\n",
       "          9.8614,  7.3436,  6.9823,  6.9866,  7.4829,  6.1931,  6.9902,  6.0558,\n",
       "          7.2124,  6.8206, 10.5261,  8.8563,  6.1931,  7.6528,  8.5624,  6.1931,\n",
       "          6.8222,  6.7762,  9.5619,  5.8599,  8.4521,  6.8218,  6.9091,  6.1931,\n",
       "          6.6130,  8.1382,  6.1931,  7.1126,  7.2895,  7.0092,  8.2487,  7.8719,\n",
       "          7.5208,  6.5798,  7.3317,  7.3598,  5.7894,  6.1931,  9.2026,  7.0271,\n",
       "          9.5630, 11.3198,  5.9805,  7.1361,  6.6415,  7.3538,  5.6791,  7.2362,\n",
       "          7.5936,  6.9780,  5.6287,  7.3023,  7.9005,  7.5265,  6.1298,  8.3358,\n",
       "         10.5912,  8.1382,  6.7805,  7.8800,  7.6493,  8.6714,  5.6963,  7.0250,\n",
       "          6.5207,  6.9866,  9.6398,  6.3949,  8.3609,  6.8666,  6.5465,  7.4844,\n",
       "          6.1443,  6.7953,  7.7366,  6.3223,  7.1372,  7.5193,  5.9503,  7.1207,\n",
       "          7.1772,  9.5280,  7.2192,  7.1456,  6.7891,  7.1457,  6.7554,  8.8847,\n",
       "          8.9572,  5.5616,  6.7035,  9.4391,  7.1849,  7.1937,  7.5588,  7.5109,\n",
       "          7.4159,  8.8028,  6.4916,  6.9802,  6.7468,  8.3126,  6.2245,  6.4600,\n",
       "          6.5449,  8.0158,  7.9912,  8.0203,  7.3503,  7.9433,  6.8678,  8.4321,\n",
       "          5.6391,  7.7221,  5.7743,  6.4534,  6.0270,  6.7942,  7.4063,  6.3442,\n",
       "          5.6795,  7.1986,  8.0295,  6.3510,  8.3330,  8.0685,  8.0295,  6.7811,\n",
       "          6.6201,  7.7141,  7.8408,  7.2830,  8.9486,  7.4958,  8.1734,  7.1917,\n",
       "          7.2376,  6.6688,  6.4532,  7.5098,  6.6663,  7.8358,  6.1931,  6.0448,\n",
       "          7.3048,  8.0661,  6.5153,  7.4352,  7.0900,  7.0832,  7.8105,  7.0386,\n",
       "          6.9816,  6.5140,  7.0695,  5.5279,  7.9823,  9.6099,  8.5471,  7.4159,\n",
       "          6.1931,  6.2462,  9.5630,  6.0766,  7.2660,  6.2184,  7.0774,  6.8848,\n",
       "          6.8798,  7.9842,  7.0224,  6.8913,  7.3043,  8.5011,  7.3971,  7.3845,\n",
       "          7.4198,  7.7055,  6.4654,  6.0106,  8.4831,  8.0011,  6.8270,  7.4680,\n",
       "          6.9753,  8.6727,  7.6091,  7.5628,  7.2704,  9.2715,  5.8995,  6.5699,\n",
       "          7.9616,  7.5156,  7.9616,  6.0106,  6.1931,  6.8173,  5.3590,  8.0841,\n",
       "          6.6941,  6.0565,  8.4283,  8.2254,  5.8777,  7.9531,  8.1859,  6.8397,\n",
       "          7.4990,  6.5219,  6.7590,  8.4073,  6.8508,  6.1800,  7.5360,  6.6162,\n",
       "          5.8765,  7.7191,  8.0354,  7.9635,  7.1988,  7.8847,  6.9910,  7.6659,\n",
       "          6.6757,  9.1061,  6.6346,  9.5171,  7.4977,  8.1195,  7.0938,  9.8793,\n",
       "          9.5027,  7.8464,  7.5400,  6.5819,  6.8926,  6.8666,  8.0222,  6.4141,\n",
       "          7.1968,  5.8761,  7.7620,  8.7738,  6.2731,  6.2289,  8.6705,  8.5830,\n",
       "          6.3471,  7.7763,  8.3875,  7.9411,  6.4158,  7.2735,  6.9655,  7.0283,\n",
       "          7.4809,  6.8629,  6.2718,  6.1931,  6.6034,  7.0588,  6.8574],\n",
       "        grad_fn=<MaxBackward0>),\n",
       " tensor([2, 1, 3, 2, 0, 3, 0, 2, 0, 0, 3, 0, 0, 2, 0, 1, 0, 1, 2, 2, 0, 2, 0, 1,\n",
       "         0, 0, 1, 2, 0, 1, 0, 1, 0, 0, 1, 0, 1, 1, 1, 0, 0, 0, 1, 2, 0, 1, 0, 0,\n",
       "         3, 2, 2, 2, 1, 0, 0, 0, 0, 0, 2, 1, 0, 1, 0, 0, 1, 2, 0, 0, 3, 2, 1, 1,\n",
       "         0, 0, 1, 2, 3, 0, 1, 2, 2, 1, 0, 0, 0, 3, 0, 0, 1, 0, 0, 0, 0, 1, 2, 1,\n",
       "         0, 2, 2, 0, 0, 0, 1, 0, 0, 0, 0, 3, 0, 1, 2, 2, 1, 0, 1, 2, 3, 1, 0, 3,\n",
       "         0, 3, 1, 0, 1, 0, 0, 0, 0, 0, 1, 0, 1, 3, 1, 0, 0, 0, 1, 2, 1, 0, 0, 0,\n",
       "         0, 0, 2, 0, 0, 0, 0, 0, 0, 0, 2, 0, 3, 2, 2, 3, 0, 2, 2, 1, 0, 1, 2, 2,\n",
       "         2, 1, 2, 2, 2, 3, 0, 0, 2, 2, 0, 1, 0, 1, 0, 1, 0, 1, 0, 0, 2, 0, 3, 0,\n",
       "         0, 1, 2, 1, 1, 1, 2, 0, 0, 0, 0, 0, 1, 2, 0, 0, 0, 1, 1, 0, 0, 0, 0, 2,\n",
       "         1, 2, 0, 0, 0, 0, 0, 0, 0, 0, 0, 0, 0, 0, 3, 0, 2, 1, 2, 0, 1, 0, 1, 0,\n",
       "         2, 3, 2, 0, 2, 0, 0, 0, 0, 0, 0, 3, 3, 0, 3, 0, 0, 1, 2, 2, 1, 2, 2, 1,\n",
       "         2, 0, 1, 1, 1, 3, 0, 3, 3, 0, 1, 2, 2, 2, 0, 0, 0, 2, 3, 0, 2, 0, 0, 0,\n",
       "         2, 2, 2, 1, 2, 2, 1, 1, 1, 1, 2, 3, 0, 0, 0, 1, 1, 2, 0, 0, 2, 0, 0, 0,\n",
       "         3, 0, 0, 1, 0, 2, 1, 0, 2, 2, 1, 2, 0, 2, 2, 0, 0, 0, 0, 3, 3, 1, 1, 0,\n",
       "         0, 1, 0, 0, 3, 1, 0, 0, 1, 0, 1, 2, 0, 3, 0, 3, 0, 3, 3, 2, 1, 0, 1, 2,\n",
       "         0, 2, 3, 2, 3, 0, 2, 1, 2, 2, 2, 1, 0, 0, 0, 3, 0, 2, 2, 1, 0, 0, 1, 0,\n",
       "         0, 0, 3, 3, 1, 1, 0, 1, 0, 2, 3, 2, 0, 3, 0, 0, 2, 1, 0, 1, 1, 0, 0, 0,\n",
       "         1, 0, 2, 0, 3, 0, 3, 0, 1, 0, 0, 0, 0, 1, 0, 0, 1, 0, 1, 3, 1, 1, 1, 2,\n",
       "         0, 0, 1, 0, 0, 1, 3, 2, 0, 1, 3, 1, 1, 0, 1, 0, 0, 0, 0, 0, 2, 0, 0, 0,\n",
       "         0, 2, 0, 1, 1, 0, 0, 3, 0, 0, 1, 0, 0, 0, 1, 0, 0, 2, 2, 1, 2, 0, 0, 0,\n",
       "         0, 3, 0, 3, 1, 1, 2, 1, 0, 1, 0, 2, 1, 0, 2, 0, 0, 3, 2, 2, 0, 2, 2, 3,\n",
       "         2, 1, 1, 1, 0, 1, 0, 0, 0, 1, 1, 1, 0, 0, 1, 0, 1, 0, 0, 0, 0, 0, 1, 1,\n",
       "         2, 1, 2, 3, 0, 2, 1, 0, 1, 3, 1, 1, 1, 0, 3, 1, 0, 0, 1, 2, 3, 0, 2, 3,\n",
       "         1, 1, 2, 1, 1, 0, 1, 1, 0, 0, 2, 0, 0, 3, 3, 1, 1, 0, 2, 3, 1, 0, 0, 0,\n",
       "         2, 0, 0, 1, 0, 0, 0, 1, 0, 0, 1, 1, 0, 2, 0, 3, 0, 1, 1, 0, 1, 0, 0, 2,\n",
       "         0, 0, 2, 3, 1, 1, 3, 1, 1, 2, 1, 0, 2, 0, 2, 1, 1, 0, 3, 0, 0, 3, 0, 0,\n",
       "         1, 2, 0, 2, 2, 0, 0, 3, 0, 0, 2, 1, 0, 2, 0, 0, 0, 0, 0, 2, 2, 0, 1, 0,\n",
       "         0, 0, 0, 0, 0, 0, 1, 2, 0, 0, 0, 0, 3, 0, 0, 1, 2, 1, 2, 0, 0, 0, 0, 0,\n",
       "         2, 2, 0, 0, 2, 1, 0, 2, 1, 0, 0, 0, 0, 0, 0, 0, 1, 2, 1, 0, 1, 0, 0, 0,\n",
       "         1, 0, 0, 3, 0, 2, 1, 3, 1, 0, 0, 0, 3, 0, 3, 2, 0, 2, 0, 2, 0, 2, 2, 0,\n",
       "         3, 1, 1, 1, 3, 0, 0, 1, 3, 2, 1, 3, 0, 2, 3, 2, 0, 0, 1, 1, 2, 0, 1, 0,\n",
       "         0, 0, 0, 1, 1, 1, 0, 2, 1, 1, 3, 0, 2, 2, 2, 0, 0, 0, 2, 1, 1, 0, 0, 2,\n",
       "         2, 2, 3, 0, 0, 0, 0, 0, 0, 2, 3, 2, 0, 1, 1, 3, 0, 0, 2, 1, 2, 2, 0, 2,\n",
       "         1, 2, 0, 2, 0, 2, 0, 0, 1, 2, 1, 0, 1, 1, 0, 1, 0, 0, 1, 1, 0, 1, 0, 1,\n",
       "         1, 0, 0, 0, 0, 0, 0, 0, 0, 3, 2, 2, 1, 0, 1, 0, 2, 2, 0, 2, 1, 0, 1, 3,\n",
       "         2, 0, 2, 1, 2, 1, 0, 2, 0, 2, 0, 2, 0, 0, 0, 2, 0, 2, 1, 1, 0, 1, 2, 3,\n",
       "         0, 0, 0, 0, 3, 0, 1, 1, 0, 1, 1, 0, 2, 0, 0, 0, 2, 2, 2, 0, 3, 1, 1]))"
      ]
     },
     "execution_count": 18,
     "metadata": {},
     "output_type": "execute_result"
    }
   ],
   "source": [
    "torch.max(model(x_torch_train), 1)"
   ]
  },
  {
   "cell_type": "markdown",
   "metadata": {},
   "source": [
    "---"
   ]
  },
  {
   "cell_type": "code",
   "execution_count": 19,
   "metadata": {},
   "outputs": [],
   "source": [
    "x_torch_test = torch.tensor(X_test, device=device, dtype=dtype)\n",
    "\n",
    "y_torch_test = torch.tensor(y_test,device=device, dtype=torch.long)"
   ]
  },
  {
   "cell_type": "code",
   "execution_count": 20,
   "metadata": {},
   "outputs": [
    {
     "name": "stderr",
     "output_type": "stream",
     "text": [
      "/anaconda3/envs/toolbox/lib/python3.6/site-packages/ipykernel_launcher.py:3: UserWarning: Implicit dimension choice for softmax has been deprecated. Change the call to include dim=X as an argument.\n",
      "  This is separate from the ipykernel package so we can avoid doing imports until\n",
      "/anaconda3/envs/toolbox/lib/python3.6/site-packages/ipykernel_launcher.py:4: UserWarning: Implicit dimension choice for softmax has been deprecated. Change the call to include dim=X as an argument.\n",
      "  after removing the cwd from sys.path.\n"
     ]
    }
   ],
   "source": [
    "softmax = torch.nn.Softmax()\n",
    "\n",
    "y_test_pred = softmax(model(x_torch_test)).argmax(1)\n",
    "y_train_pred = softmax(model(x_torch_train)).argmax(1)"
   ]
  },
  {
   "cell_type": "code",
   "execution_count": 21,
   "metadata": {},
   "outputs": [],
   "source": [
    "train_accuracy = accuracy_score(y_torch_train, y_train_pred)\n",
    "test_accuracy = accuracy_score(y_torch_test, y_test_pred)"
   ]
  },
  {
   "cell_type": "code",
   "execution_count": 22,
   "metadata": {},
   "outputs": [
    {
     "name": "stdout",
     "output_type": "stream",
     "text": [
      "The TRAIN prediction is 94.47576099210822 % ACCURATE\n",
      "The TEST prediction is 66.45833333333333 % ACCURATE\n"
     ]
    }
   ],
   "source": [
    "print(f'The TRAIN prediction is {train_accuracy*100} % ACCURATE')\n",
    "print(f'The TEST prediction is {test_accuracy*100} % ACCURATE')"
   ]
  },
  {
   "cell_type": "markdown",
   "metadata": {},
   "source": [
    "---"
   ]
  }
 ],
 "metadata": {
  "kernelspec": {
   "display_name": "Python 3",
   "language": "python",
   "name": "python3"
  },
  "language_info": {
   "codemirror_mode": {
    "name": "ipython",
    "version": 3
   },
   "file_extension": ".py",
   "mimetype": "text/x-python",
   "name": "python",
   "nbconvert_exporter": "python",
   "pygments_lexer": "ipython3",
   "version": "3.6.8"
  }
 },
 "nbformat": 4,
 "nbformat_minor": 2
}
