{
 "cells": [
  {
   "cell_type": "markdown",
   "metadata": {},
   "source": [
    "# Pull website data with BeautifulSoup4 \n",
    "\n",
    "BeautifulSoup helps us to scrape (clean) textbodies etc. from webpages. First we want to implement a python script that executes the scraping command for one source (e.g. Faz.net/rss/...). Cronjob can later execute this script autonomously on a regular basis - say every three hours. THis way we collect the mosdt up to date data."
   ]
  },
  {
   "cell_type": "markdown",
   "metadata": {},
   "source": [
    "---"
   ]
  },
  {
   "cell_type": "markdown",
   "metadata": {},
   "source": [
    "useful video tuts: https://www.youtube.com/watch?v=sAuGH1Kto2I"
   ]
  },
  {
   "cell_type": "markdown",
   "metadata": {},
   "source": [
    "---"
   ]
  },
  {
   "cell_type": "markdown",
   "metadata": {},
   "source": [
    "## Import the necessary packages and modules to build a soup-script"
   ]
  },
  {
   "cell_type": "code",
   "execution_count": 1,
   "metadata": {},
   "outputs": [],
   "source": [
    "import bs4 as bs\n",
    "import urllib.request\n",
    "import pandas as pd"
   ]
  },
  {
   "cell_type": "code",
   "execution_count": 2,
   "metadata": {},
   "outputs": [],
   "source": [
    "sauce = urllib.request.urlopen('https://www.faz.net/aktuell/').read()\n",
    "soup = bs.BeautifulSoup(sauce, 'lxml')"
   ]
  },
  {
   "cell_type": "code",
   "execution_count": 3,
   "metadata": {},
   "outputs": [],
   "source": [
    "dfs = pd.read_html('https://www.faz.net/aktuell/')"
   ]
  },
  {
   "cell_type": "code",
   "execution_count": 4,
   "metadata": {},
   "outputs": [
    {
     "name": "stdout",
     "output_type": "stream",
     "text": [
      "                                        Meistgeteilt  \\\n",
      "0  Deutscher Pianistenpreis  : Die Besten ihres F...   \n",
      "1  FAZ Plus Artikel:  Stickoxid-Debatte  : Teufel...   \n",
      "2  Bankenmarkt  : Sparkassen und Volksbanken grab...   \n",
      "\n",
      "                                        Meistgelesen  \\\n",
      "0  FAZ Plus Artikel:  Mobilitätswende  : Mit Voll...   \n",
      "1  Leichen bei Egelsbach geborgen  : Klärung des ...   \n",
      "2  TV-Kritik „Anne Will“  : Greta und der Geist d...   \n",
      "\n",
      "                                    Meistkommentiert  \n",
      "0  FAZ Plus Artikel:  Mobilitätswende  : Mit Voll...  \n",
      "1  TV-Kritik „Anne Will“  : Greta und der Geist d...  \n",
      "2  Nach Mord-Urteil gegen Raser  : Wie aggressive...  \n"
     ]
    }
   ],
   "source": [
    "for df in dfs:\n",
    "    print(df)"
   ]
  },
  {
   "cell_type": "code",
   "execution_count": 5,
   "metadata": {},
   "outputs": [
    {
     "data": {
      "text/html": [
       "<div>\n",
       "<style scoped>\n",
       "    .dataframe tbody tr th:only-of-type {\n",
       "        vertical-align: middle;\n",
       "    }\n",
       "\n",
       "    .dataframe tbody tr th {\n",
       "        vertical-align: top;\n",
       "    }\n",
       "\n",
       "    .dataframe thead th {\n",
       "        text-align: right;\n",
       "    }\n",
       "</style>\n",
       "<table border=\"1\" class=\"dataframe\">\n",
       "  <thead>\n",
       "    <tr style=\"text-align: right;\">\n",
       "      <th></th>\n",
       "      <th>Meistgeteilt</th>\n",
       "      <th>Meistgelesen</th>\n",
       "      <th>Meistkommentiert</th>\n",
       "    </tr>\n",
       "  </thead>\n",
       "  <tbody>\n",
       "    <tr>\n",
       "      <th>0</th>\n",
       "      <td>Deutscher Pianistenpreis  : Die Besten ihres F...</td>\n",
       "      <td>FAZ Plus Artikel:  Mobilitätswende  : Mit Voll...</td>\n",
       "      <td>FAZ Plus Artikel:  Mobilitätswende  : Mit Voll...</td>\n",
       "    </tr>\n",
       "    <tr>\n",
       "      <th>1</th>\n",
       "      <td>FAZ Plus Artikel:  Stickoxid-Debatte  : Teufel...</td>\n",
       "      <td>Leichen bei Egelsbach geborgen  : Klärung des ...</td>\n",
       "      <td>TV-Kritik „Anne Will“  : Greta und der Geist d...</td>\n",
       "    </tr>\n",
       "    <tr>\n",
       "      <th>2</th>\n",
       "      <td>Bankenmarkt  : Sparkassen und Volksbanken grab...</td>\n",
       "      <td>TV-Kritik „Anne Will“  : Greta und der Geist d...</td>\n",
       "      <td>Nach Mord-Urteil gegen Raser  : Wie aggressive...</td>\n",
       "    </tr>\n",
       "  </tbody>\n",
       "</table>\n",
       "</div>"
      ],
      "text/plain": [
       "                                        Meistgeteilt  \\\n",
       "0  Deutscher Pianistenpreis  : Die Besten ihres F...   \n",
       "1  FAZ Plus Artikel:  Stickoxid-Debatte  : Teufel...   \n",
       "2  Bankenmarkt  : Sparkassen und Volksbanken grab...   \n",
       "\n",
       "                                        Meistgelesen  \\\n",
       "0  FAZ Plus Artikel:  Mobilitätswende  : Mit Voll...   \n",
       "1  Leichen bei Egelsbach geborgen  : Klärung des ...   \n",
       "2  TV-Kritik „Anne Will“  : Greta und der Geist d...   \n",
       "\n",
       "                                    Meistkommentiert  \n",
       "0  FAZ Plus Artikel:  Mobilitätswende  : Mit Voll...  \n",
       "1  TV-Kritik „Anne Will“  : Greta und der Geist d...  \n",
       "2  Nach Mord-Urteil gegen Raser  : Wie aggressive...  "
      ]
     },
     "execution_count": 5,
     "metadata": {},
     "output_type": "execute_result"
    }
   ],
   "source": [
    "df"
   ]
  },
  {
   "cell_type": "markdown",
   "metadata": {},
   "source": [
    "---"
   ]
  }
 ],
 "metadata": {
  "kernelspec": {
   "display_name": "Python 3",
   "language": "python",
   "name": "python3"
  },
  "language_info": {
   "codemirror_mode": {
    "name": "ipython",
    "version": 3
   },
   "file_extension": ".py",
   "mimetype": "text/x-python",
   "name": "python",
   "nbconvert_exporter": "python",
   "pygments_lexer": "ipython3",
   "version": "3.6.8"
  }
 },
 "nbformat": 4,
 "nbformat_minor": 2
}
