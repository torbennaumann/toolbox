{
 "cells": [
  {
   "cell_type": "markdown",
   "metadata": {},
   "source": [
    "# Pull website data with BeautifulSoup4 \n",
    "\n",
    "BeautifulSoup helps us to scrape (clean) textbodies etc. from webpages. First we want to implement a python script that executes the scraping command for one source (e.g. Faz.net/rss/...). Cronjob can later execute this script autonomously on a regular basis - say every three hours. THis way we collect the mosdt up to date data."
   ]
  },
  {
   "cell_type": "markdown",
   "metadata": {},
   "source": [
    "---"
   ]
  },
  {
   "cell_type": "markdown",
   "metadata": {},
   "source": [
    "useful video tuts: https://www.youtube.com/watch?v=sAuGH1Kto2I"
   ]
  },
  {
   "cell_type": "markdown",
   "metadata": {},
   "source": [
    "---"
   ]
  },
  {
   "cell_type": "markdown",
   "metadata": {},
   "source": [
    "## Import the necessary packages and modules to build a soup-script"
   ]
  },
  {
   "cell_type": "code",
   "execution_count": 1,
   "metadata": {},
   "outputs": [],
   "source": [
    "import bs4 as bs\n",
    "import urllib.request\n",
    "import pandas as pd"
   ]
  },
  {
   "cell_type": "code",
   "execution_count": 2,
   "metadata": {},
   "outputs": [],
   "source": [
    "sauce = urllib.request.urlopen('https://www.faz.net/aktuell/').read()\n",
    "soup = bs.BeautifulSoup(sauce, 'lxml')"
   ]
  },
  {
   "cell_type": "code",
   "execution_count": 3,
   "metadata": {},
   "outputs": [],
   "source": [
    "dfs = pd.read_html('https://www.faz.net/aktuell/')"
   ]
  },
  {
   "cell_type": "code",
   "execution_count": 4,
   "metadata": {},
   "outputs": [
    {
     "name": "stdout",
     "output_type": "stream",
     "text": [
      "                                        Meistgeteilt  \\\n",
      "0  Umstrittenes Gebiet  : Trump will Golanhöhen a...   \n",
      "1  Nach Wahlsieg  : Der neue rechtspopulistische ...   \n",
      "2  „Modellversuch“ in Bayern  : Islamunterricht j...   \n",
      "\n",
      "                                        Meistgelesen  \\\n",
      "0  Gipfeltreffen in Brüssel  : Austritt nach tech...   \n",
      "1  Verstorbener Senator  : Trump: Habe McCain nie...   \n",
      "2  Britischer EU-Austritt  : Dann lieber ein Ende...   \n",
      "\n",
      "                                    Meistkommentiert  \n",
      "0  Wahlen in den Niederlanden  : Das Potential de...  \n",
      "1  Wettstreit um Talente  : Deutschland verliert ...  \n",
      "2  Privates Steuerdelikt  : Frankfurter Staatsanw...  \n"
     ]
    }
   ],
   "source": [
    "for df in dfs:\n",
    "    print(df)"
   ]
  },
  {
   "cell_type": "code",
   "execution_count": 5,
   "metadata": {},
   "outputs": [
    {
     "data": {
      "text/html": [
       "<div>\n",
       "<style scoped>\n",
       "    .dataframe tbody tr th:only-of-type {\n",
       "        vertical-align: middle;\n",
       "    }\n",
       "\n",
       "    .dataframe tbody tr th {\n",
       "        vertical-align: top;\n",
       "    }\n",
       "\n",
       "    .dataframe thead th {\n",
       "        text-align: right;\n",
       "    }\n",
       "</style>\n",
       "<table border=\"1\" class=\"dataframe\">\n",
       "  <thead>\n",
       "    <tr style=\"text-align: right;\">\n",
       "      <th></th>\n",
       "      <th>Meistgeteilt</th>\n",
       "      <th>Meistgelesen</th>\n",
       "      <th>Meistkommentiert</th>\n",
       "    </tr>\n",
       "  </thead>\n",
       "  <tbody>\n",
       "    <tr>\n",
       "      <th>0</th>\n",
       "      <td>Umstrittenes Gebiet  : Trump will Golanhöhen a...</td>\n",
       "      <td>Gipfeltreffen in Brüssel  : Austritt nach tech...</td>\n",
       "      <td>Wahlen in den Niederlanden  : Das Potential de...</td>\n",
       "    </tr>\n",
       "    <tr>\n",
       "      <th>1</th>\n",
       "      <td>Nach Wahlsieg  : Der neue rechtspopulistische ...</td>\n",
       "      <td>Verstorbener Senator  : Trump: Habe McCain nie...</td>\n",
       "      <td>Wettstreit um Talente  : Deutschland verliert ...</td>\n",
       "    </tr>\n",
       "    <tr>\n",
       "      <th>2</th>\n",
       "      <td>„Modellversuch“ in Bayern  : Islamunterricht j...</td>\n",
       "      <td>Britischer EU-Austritt  : Dann lieber ein Ende...</td>\n",
       "      <td>Privates Steuerdelikt  : Frankfurter Staatsanw...</td>\n",
       "    </tr>\n",
       "  </tbody>\n",
       "</table>\n",
       "</div>"
      ],
      "text/plain": [
       "                                        Meistgeteilt  \\\n",
       "0  Umstrittenes Gebiet  : Trump will Golanhöhen a...   \n",
       "1  Nach Wahlsieg  : Der neue rechtspopulistische ...   \n",
       "2  „Modellversuch“ in Bayern  : Islamunterricht j...   \n",
       "\n",
       "                                        Meistgelesen  \\\n",
       "0  Gipfeltreffen in Brüssel  : Austritt nach tech...   \n",
       "1  Verstorbener Senator  : Trump: Habe McCain nie...   \n",
       "2  Britischer EU-Austritt  : Dann lieber ein Ende...   \n",
       "\n",
       "                                    Meistkommentiert  \n",
       "0  Wahlen in den Niederlanden  : Das Potential de...  \n",
       "1  Wettstreit um Talente  : Deutschland verliert ...  \n",
       "2  Privates Steuerdelikt  : Frankfurter Staatsanw...  "
      ]
     },
     "execution_count": 5,
     "metadata": {},
     "output_type": "execute_result"
    }
   ],
   "source": [
    "df"
   ]
  },
  {
   "cell_type": "code",
   "execution_count": null,
   "metadata": {},
   "outputs": [],
   "source": []
  }
 ],
 "metadata": {
  "kernelspec": {
   "display_name": "Python 3",
   "language": "python",
   "name": "python3"
  },
  "language_info": {
   "codemirror_mode": {
    "name": "ipython",
    "version": 3
   },
   "file_extension": ".py",
   "mimetype": "text/x-python",
   "name": "python",
   "nbconvert_exporter": "python",
   "pygments_lexer": "ipython3",
   "version": "3.6.8"
  }
 },
 "nbformat": 4,
 "nbformat_minor": 2
}
