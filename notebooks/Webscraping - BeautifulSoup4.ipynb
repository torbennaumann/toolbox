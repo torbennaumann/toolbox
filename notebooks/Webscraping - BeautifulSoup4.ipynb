{
 "cells": [
  {
   "cell_type": "markdown",
   "metadata": {},
   "source": [
    "## Create script for FAZ - RSS Feed 'AKTUELLES'"
   ]
  },
  {
   "cell_type": "code",
   "execution_count": 2,
   "metadata": {},
   "outputs": [],
   "source": [
    "import feedparser\n",
    "import re\n",
    "import bs4 as bs\n",
    "import urllib.request\n",
    "import pandas as pd\n",
    "\n",
    "ressort = {\n",
    "1: 'politik'\n",
    "2: 'wirtschaft'\n",
    "3: 'finanzen'\n",
    "4: 'feuilleton'\n",
    "5: 'sport'\n",
    "6: 'gesellschaft'\n",
    "7: 'stil'\n",
    "8: 'rhein-main'\n",
    "9: 'technik'\n",
    "10: 'wissen'\n",
    "11: 'reise'\n",
    "12: 'karriere'\n",
    "}\n",
    "\n",
    "entries = feedparser.parse(\"https://www.faz.net/rss/{ressort}/\")\n",
    "faz = pd.DataFrame(entries.entries)\n",
    "\n",
    "#faz.head()"
   ]
  },
  {
   "cell_type": "code",
   "execution_count": 3,
   "metadata": {},
   "outputs": [],
   "source": [
    "faz.drop(['guidislink', 'id', 'links', 'published_parsed', 'summary_detail', 'title_detail'],axis=1, inplace=True)"
   ]
  },
  {
   "cell_type": "code",
   "execution_count": 4,
   "metadata": {},
   "outputs": [],
   "source": [
    "#faz"
   ]
  },
  {
   "cell_type": "code",
   "execution_count": 19,
   "metadata": {},
   "outputs": [],
   "source": [
    "#print ('Number of RSS feeds :', len(entries.entries))\n",
    "\n",
    "#print (faz.title)"
   ]
  },
  {
   "cell_type": "code",
   "execution_count": 6,
   "metadata": {},
   "outputs": [],
   "source": [
    "#print (faz.published)\n",
    "#print('\\n')\n",
    "#print (faz.summary)"
   ]
  },
  {
   "cell_type": "code",
   "execution_count": 7,
   "metadata": {},
   "outputs": [],
   "source": [
    "test = faz.summary\n",
    "#test"
   ]
  },
  {
   "cell_type": "code",
   "execution_count": 20,
   "metadata": {},
   "outputs": [],
   "source": [
    "#test[0]"
   ]
  },
  {
   "cell_type": "code",
   "execution_count": 9,
   "metadata": {},
   "outputs": [],
   "source": [
    "#subtitle_one = test[0].split('title=\"')[1].split('\" alt=')[0] + test[0].split('<p>')[1].split('</p>')[0]"
   ]
  },
  {
   "cell_type": "code",
   "execution_count": 10,
   "metadata": {},
   "outputs": [
    {
     "data": {
      "text/plain": [
       "'Das britische Unterhaus am vergangenen Freitag: Noch ist nicht klar, wann sich die Abgeordneten auf ein Brexit-Szenario einigen werden. Das britische Parlament berät nach dem dritten „Nein“ zum Austrittsplan von Premierministerin May wieder über Wege aus dem Brexit-Chaos. EU-Kommissionspräsident Juncker mahnt zur Eile.'"
      ]
     },
     "execution_count": 10,
     "metadata": {},
     "output_type": "execute_result"
    }
   ],
   "source": [
    "#subtitle_one"
   ]
  },
  {
   "cell_type": "code",
   "execution_count": 11,
   "metadata": {},
   "outputs": [],
   "source": [
    "descriptions = []\n",
    "\n",
    "for index, text in enumerate(test):\n",
    "    text = test[index].split('title=\"')[1].split('\" alt=')[0] + test[index].split('<p>')[1].split('</p>')[0]\n",
    "    descriptions.append(text)    "
   ]
  },
  {
   "cell_type": "code",
   "execution_count": 12,
   "metadata": {},
   "outputs": [],
   "source": [
    "subtext = pd.DataFrame(descriptions)"
   ]
  },
  {
   "cell_type": "code",
   "execution_count": 13,
   "metadata": {},
   "outputs": [],
   "source": [
    "subtext.columns = ['detailed']"
   ]
  },
  {
   "cell_type": "code",
   "execution_count": 14,
   "metadata": {},
   "outputs": [],
   "source": [
    "#subtext"
   ]
  },
  {
   "cell_type": "code",
   "execution_count": 15,
   "metadata": {},
   "outputs": [],
   "source": [
    "faz_agg = pd.concat([faz, subtext], axis=1)\n",
    "faz_agg.drop(['summary'], axis=1, inplace=True)"
   ]
  },
  {
   "cell_type": "code",
   "execution_count": 16,
   "metadata": {},
   "outputs": [
    {
     "data": {
      "text/html": [
       "<div>\n",
       "<style scoped>\n",
       "    .dataframe tbody tr th:only-of-type {\n",
       "        vertical-align: middle;\n",
       "    }\n",
       "\n",
       "    .dataframe tbody tr th {\n",
       "        vertical-align: top;\n",
       "    }\n",
       "\n",
       "    .dataframe thead th {\n",
       "        text-align: right;\n",
       "    }\n",
       "</style>\n",
       "<table border=\"1\" class=\"dataframe\">\n",
       "  <thead>\n",
       "    <tr style=\"text-align: right;\">\n",
       "      <th></th>\n",
       "      <th>link</th>\n",
       "      <th>published</th>\n",
       "      <th>title</th>\n",
       "      <th>detailed</th>\n",
       "    </tr>\n",
       "  </thead>\n",
       "  <tbody>\n",
       "    <tr>\n",
       "      <th>0</th>\n",
       "      <td>https://www.faz.net/aktuell/brexit/unterhaus-z...</td>\n",
       "      <td>Mon, 01 Apr 2019 15:06:42 +0200</td>\n",
       "      <td>Zollunion, Brexit-Referendum oder etwas Drittes?</td>\n",
       "      <td>Das britische Unterhaus am vergangenen Freitag...</td>\n",
       "    </tr>\n",
       "    <tr>\n",
       "      <th>1</th>\n",
       "      <td>https://www.faz.net/aktuell/politik/ausland/sc...</td>\n",
       "      <td>Mon, 01 Apr 2019 16:38:02 +0200</td>\n",
       "      <td>Interview mit Schwedens Ministerpräsident</td>\n",
       "      <td>Der schwedische Ministerpräsident Stefan Löfve...</td>\n",
       "    </tr>\n",
       "    <tr>\n",
       "      <th>2</th>\n",
       "      <td>https://www.faz.net/aktuell/politik/inland/str...</td>\n",
       "      <td>Mon, 01 Apr 2019 17:23:00 +0200</td>\n",
       "      <td>Streit um Sarrazin: „Eine ganz normale Lesung“</td>\n",
       "      <td>Thilo Sarrazin bei einer Podiumsdiskussion in ...</td>\n",
       "    </tr>\n",
       "    <tr>\n",
       "      <th>3</th>\n",
       "      <td>https://www.faz.net/aktuell/politik/ausland/ww...</td>\n",
       "      <td>Mon, 01 Apr 2019 15:59:50 +0200</td>\n",
       "      <td>WWF hält heiklen Bericht zu Menschenrechtsverl...</td>\n",
       "      <td>WWF-Aktion mit Papier-Pandas in Thailand 2016E...</td>\n",
       "    </tr>\n",
       "    <tr>\n",
       "      <th>4</th>\n",
       "      <td>https://www.faz.net/aktuell/rhein-main/ein-sel...</td>\n",
       "      <td>Mon, 01 Apr 2019 13:32:51 +0200</td>\n",
       "      <td>Unglücksjet von Egelsbach: Ein seltenes Kleinf...</td>\n",
       "      <td>Kann lediglich mit einer sogenannten Experimen...</td>\n",
       "    </tr>\n",
       "    <tr>\n",
       "      <th>5</th>\n",
       "      <td>https://www.faz.net/aktuell/wirtschaft/diginom...</td>\n",
       "      <td>Mon, 01 Apr 2019 16:45:57 +0200</td>\n",
       "      <td>Schon mehr als 2 Milliarden Euro für 5G-Freque...</td>\n",
       "      <td>Es geht hoch her: Auch der Auktionsneuling Dri...</td>\n",
       "    </tr>\n",
       "    <tr>\n",
       "      <th>6</th>\n",
       "      <td>http://blogs.faz.net/essay/2019/04/01/zwei-spa...</td>\n",
       "      <td>Mon, 01 Apr 2019 17:04:03 +0200</td>\n",
       "      <td>Blogs | F.A.Z. Essay Podcast: Zwei Spanien</td>\n",
       "      <td>Franco am 10. Oktober 1938 im spanischen Burgo...</td>\n",
       "    </tr>\n",
       "    <tr>\n",
       "      <th>7</th>\n",
       "      <td>https://www.faz.net/aktuell/gesellschaft/mensc...</td>\n",
       "      <td>Mon, 01 Apr 2019 17:39:11 +0200</td>\n",
       "      <td>„Auch Tulpen können reden“</td>\n",
       "      <td>Das „Rauschgiftpony“ der Polizei Oberpfalz, da...</td>\n",
       "    </tr>\n",
       "    <tr>\n",
       "      <th>8</th>\n",
       "      <td>https://www.faz.net/aktuell/sport/fussball/ver...</td>\n",
       "      <td>Mon, 01 Apr 2019 17:19:15 +0200</td>\n",
       "      <td>Verfassungsschutz überprüft Ordner von Energie...</td>\n",
       "      <td>Der Eingang zum „Stadion der Freundschaft“ des...</td>\n",
       "    </tr>\n",
       "    <tr>\n",
       "      <th>9</th>\n",
       "      <td>https://www.faz.net/aktuell/sport/fussball/fc-...</td>\n",
       "      <td>Mon, 01 Apr 2019 16:28:58 +0200</td>\n",
       "      <td>DFB-Pokal vor Liga-Knaller: Der schwierige Spa...</td>\n",
       "      <td>Erst Heidenheim, dann Dortmund: Bayern-Trainer...</td>\n",
       "    </tr>\n",
       "    <tr>\n",
       "      <th>10</th>\n",
       "      <td>https://www.faz.net/aktuell/feuilleton/medien/...</td>\n",
       "      <td>Mon, 01 Apr 2019 17:27:50 +0200</td>\n",
       "      <td>Machtspiel ums Seelenheil: Der Sat.1-Thriller ...</td>\n",
       "      <td>Ist es die große Liebe? Anfangs fühlt es sich ...</td>\n",
       "    </tr>\n",
       "    <tr>\n",
       "      <th>11</th>\n",
       "      <td>https://www.faz.net/aktuell/wirtschaft/unterne...</td>\n",
       "      <td>Mon, 01 Apr 2019 14:31:46 +0200</td>\n",
       "      <td>Rheinbahn gibt Mitarbeitern versehentlich lebe...</td>\n",
       "      <td>Straßenbahnen der RheinbahnIn die Verträge der...</td>\n",
       "    </tr>\n",
       "    <tr>\n",
       "      <th>12</th>\n",
       "      <td>https://www.faz.net/aktuell/rhein-main/region-...</td>\n",
       "      <td>Mon, 01 Apr 2019 15:15:00 +0200</td>\n",
       "      <td>Hautkrankheit Rosacea: Franziska Ring gibt Bet...</td>\n",
       "      <td>Entspannt: Franziska Ring hat gelernt, mit der...</td>\n",
       "    </tr>\n",
       "  </tbody>\n",
       "</table>\n",
       "</div>"
      ],
      "text/plain": [
       "                                                 link  \\\n",
       "0   https://www.faz.net/aktuell/brexit/unterhaus-z...   \n",
       "1   https://www.faz.net/aktuell/politik/ausland/sc...   \n",
       "2   https://www.faz.net/aktuell/politik/inland/str...   \n",
       "3   https://www.faz.net/aktuell/politik/ausland/ww...   \n",
       "4   https://www.faz.net/aktuell/rhein-main/ein-sel...   \n",
       "5   https://www.faz.net/aktuell/wirtschaft/diginom...   \n",
       "6   http://blogs.faz.net/essay/2019/04/01/zwei-spa...   \n",
       "7   https://www.faz.net/aktuell/gesellschaft/mensc...   \n",
       "8   https://www.faz.net/aktuell/sport/fussball/ver...   \n",
       "9   https://www.faz.net/aktuell/sport/fussball/fc-...   \n",
       "10  https://www.faz.net/aktuell/feuilleton/medien/...   \n",
       "11  https://www.faz.net/aktuell/wirtschaft/unterne...   \n",
       "12  https://www.faz.net/aktuell/rhein-main/region-...   \n",
       "\n",
       "                          published  \\\n",
       "0   Mon, 01 Apr 2019 15:06:42 +0200   \n",
       "1   Mon, 01 Apr 2019 16:38:02 +0200   \n",
       "2   Mon, 01 Apr 2019 17:23:00 +0200   \n",
       "3   Mon, 01 Apr 2019 15:59:50 +0200   \n",
       "4   Mon, 01 Apr 2019 13:32:51 +0200   \n",
       "5   Mon, 01 Apr 2019 16:45:57 +0200   \n",
       "6   Mon, 01 Apr 2019 17:04:03 +0200   \n",
       "7   Mon, 01 Apr 2019 17:39:11 +0200   \n",
       "8   Mon, 01 Apr 2019 17:19:15 +0200   \n",
       "9   Mon, 01 Apr 2019 16:28:58 +0200   \n",
       "10  Mon, 01 Apr 2019 17:27:50 +0200   \n",
       "11  Mon, 01 Apr 2019 14:31:46 +0200   \n",
       "12  Mon, 01 Apr 2019 15:15:00 +0200   \n",
       "\n",
       "                                                title  \\\n",
       "0    Zollunion, Brexit-Referendum oder etwas Drittes?   \n",
       "1           Interview mit Schwedens Ministerpräsident   \n",
       "2      Streit um Sarrazin: „Eine ganz normale Lesung“   \n",
       "3   WWF hält heiklen Bericht zu Menschenrechtsverl...   \n",
       "4   Unglücksjet von Egelsbach: Ein seltenes Kleinf...   \n",
       "5   Schon mehr als 2 Milliarden Euro für 5G-Freque...   \n",
       "6          Blogs | F.A.Z. Essay Podcast: Zwei Spanien   \n",
       "7                          „Auch Tulpen können reden“   \n",
       "8   Verfassungsschutz überprüft Ordner von Energie...   \n",
       "9   DFB-Pokal vor Liga-Knaller: Der schwierige Spa...   \n",
       "10  Machtspiel ums Seelenheil: Der Sat.1-Thriller ...   \n",
       "11  Rheinbahn gibt Mitarbeitern versehentlich lebe...   \n",
       "12  Hautkrankheit Rosacea: Franziska Ring gibt Bet...   \n",
       "\n",
       "                                             detailed  \n",
       "0   Das britische Unterhaus am vergangenen Freitag...  \n",
       "1   Der schwedische Ministerpräsident Stefan Löfve...  \n",
       "2   Thilo Sarrazin bei einer Podiumsdiskussion in ...  \n",
       "3   WWF-Aktion mit Papier-Pandas in Thailand 2016E...  \n",
       "4   Kann lediglich mit einer sogenannten Experimen...  \n",
       "5   Es geht hoch her: Auch der Auktionsneuling Dri...  \n",
       "6   Franco am 10. Oktober 1938 im spanischen Burgo...  \n",
       "7   Das „Rauschgiftpony“ der Polizei Oberpfalz, da...  \n",
       "8   Der Eingang zum „Stadion der Freundschaft“ des...  \n",
       "9   Erst Heidenheim, dann Dortmund: Bayern-Trainer...  \n",
       "10  Ist es die große Liebe? Anfangs fühlt es sich ...  \n",
       "11  Straßenbahnen der RheinbahnIn die Verträge der...  \n",
       "12  Entspannt: Franziska Ring hat gelernt, mit der...  "
      ]
     },
     "execution_count": 16,
     "metadata": {},
     "output_type": "execute_result"
    }
   ],
   "source": [
    "faz_agg"
   ]
  },
  {
   "cell_type": "code",
   "execution_count": 17,
   "metadata": {},
   "outputs": [
    {
     "name": "stdout",
     "output_type": "stream",
     "text": [
      "filename: table_2019-04-01 17:55:51.336668.csv\n",
      "pathname ../data/table_2019-04-01 17:55:51.336668.csv\n"
     ]
    }
   ],
   "source": [
    "import datetime\n",
    "from datetime import date\n",
    "\n",
    "\n",
    "def get_filename():\n",
    "    return \"table_\" + str(datetime.datetime.now()) + \".csv\"\n",
    "\n",
    "name = get_filename()\n",
    "print(\"filename:\", name)\n",
    "\n",
    "path = \"../data/\" + name\n",
    "print(\"pathname\", path);"
   ]
  },
  {
   "cell_type": "code",
   "execution_count": 18,
   "metadata": {},
   "outputs": [],
   "source": [
    "faz_agg.to_csv(path, index=False)"
   ]
  },
  {
   "cell_type": "markdown",
   "metadata": {},
   "source": [
    "---"
   ]
  }
 ],
 "metadata": {
  "kernelspec": {
   "display_name": "Python 3",
   "language": "python",
   "name": "python3"
  },
  "language_info": {
   "codemirror_mode": {
    "name": "ipython",
    "version": 3
   },
   "file_extension": ".py",
   "mimetype": "text/x-python",
   "name": "python",
   "nbconvert_exporter": "python",
   "pygments_lexer": "ipython3",
   "version": "3.6.8"
  }
 },
 "nbformat": 4,
 "nbformat_minor": 2
}
