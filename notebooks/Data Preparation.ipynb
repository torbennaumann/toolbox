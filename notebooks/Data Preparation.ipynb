{
 "cells": [
  {
   "cell_type": "markdown",
   "metadata": {},
   "source": [
    "# Load files from data\n",
    "\n",
    "**load all the articles from local storage (new_data & data) and prepare the tables for the subsequent analysis. ALternatively - if implemented - use boto3 to load data from S3 storage on AWS:**"
   ]
  },
  {
   "cell_type": "code",
   "execution_count": null,
   "metadata": {},
   "outputs": [],
   "source": [
    "#client = boto3.client('s3')\n",
    "#s3_resource = boto3.resource('s3')\n",
    "#client.list_buckets()"
   ]
  },
  {
   "cell_type": "markdown",
   "metadata": {},
   "source": [
    "---"
   ]
  },
  {
   "cell_type": "markdown",
   "metadata": {},
   "source": [
    "### Loading packages"
   ]
  },
  {
   "cell_type": "code",
   "execution_count": 1,
   "metadata": {},
   "outputs": [],
   "source": [
    "import pandas as pd\n",
    "import numpy as np\n",
    "import glob\n",
    "import re\n",
    "import string\n",
    "#import boto3"
   ]
  },
  {
   "cell_type": "markdown",
   "metadata": {},
   "source": [
    "### Loading data\n",
    "\n",
    "The for-loop gathers all the .csv files within the data directory, concats and labels them and then returns a data frame."
   ]
  },
  {
   "cell_type": "code",
   "execution_count": 2,
   "metadata": {},
   "outputs": [],
   "source": [
    "category = {\n",
    "    1: 'politik', 2: 'wirtschaft', 3: 'finanzen', 4: 'feuilleton', 5: 'sport', 6: 'gesellschaft', 7: 'stil', \n",
    "    8: 'technik-motor', 9: 'wissen', 10: 'reise', 11: 'beruf-chance', 12: 'aktuell'\n",
    "}"
   ]
  },
  {
   "cell_type": "code",
   "execution_count": 3,
   "metadata": {},
   "outputs": [],
   "source": [
    "def build_tables(category):\n",
    "    raw_articles = []\n",
    "    if category is 'aktuell':\n",
    "        path = f\"../new_data/aktuell/\"\n",
    "    else:\n",
    "        path = f\"../new_data/{category}/\"\n",
    "        \n",
    "    all_files = glob.glob(path + '*.csv')\n",
    "\n",
    "    for filename in all_files:\n",
    "        df = pd.read_csv(filename, index_col=None, header=0)\n",
    "        raw_articles.append(df)\n",
    "    faz_articles = pd.concat(raw_articles, axis=0, ignore_index=True)\n",
    "    faz_articles['label'] = category\n",
    "\n",
    "    return faz_articles"
   ]
  },
  {
   "cell_type": "markdown",
   "metadata": {},
   "source": [
    "---\n",
    "# Generate Test and Train Data\n",
    "\n",
    "**This for-loop goes through the data frames built in the first step and then collects the words from each entry in a list.**\n",
    "\n",
    "## Train Data:"
   ]
  },
  {
   "cell_type": "code",
   "execution_count": 4,
   "metadata": {},
   "outputs": [],
   "source": [
    "frames = []\n",
    "\n",
    "for key, value in category.items():\n",
    "    raw_faz = build_tables(value)\n",
    "    frames.append(raw_faz)\n",
    "    faz_train = pd.concat(frames, axis=0, ignore_index=True)"
   ]
  },
  {
   "cell_type": "code",
   "execution_count": 5,
   "metadata": {},
   "outputs": [],
   "source": [
    "faz_train = faz_train.drop_duplicates()"
   ]
  },
  {
   "cell_type": "markdown",
   "metadata": {},
   "source": [
    "# Split train data in 'politik' and 'rest':\n",
    "\n",
    "This step is for the sake of labelling the subsequant data and to get an idea of the data distribution (**'Politics' make up about 17% of the train data**):"
   ]
  },
  {
   "cell_type": "code",
   "execution_count": 6,
   "metadata": {},
   "outputs": [
    {
     "data": {
      "text/plain": [
       "link         1185\n",
       "published    1185\n",
       "title        1185\n",
       "detailed     1185\n",
       "label        1185\n",
       "dtype: int64"
      ]
     },
     "execution_count": 6,
     "metadata": {},
     "output_type": "execute_result"
    }
   ],
   "source": [
    "faz_rest = faz_train[faz_train.label != 'politik']\n",
    "faz_rest.count()"
   ]
  },
  {
   "cell_type": "code",
   "execution_count": 7,
   "metadata": {},
   "outputs": [
    {
     "data": {
      "text/plain": [
       "link         209\n",
       "published    209\n",
       "title        209\n",
       "detailed     209\n",
       "label        209\n",
       "dtype: int64"
      ]
     },
     "execution_count": 7,
     "metadata": {},
     "output_type": "execute_result"
    }
   ],
   "source": [
    "faz_pol = faz_train[faz_train.label == 'politik']\n",
    "faz_pol.count()"
   ]
  },
  {
   "cell_type": "code",
   "execution_count": 8,
   "metadata": {},
   "outputs": [
    {
     "data": {
      "text/plain": [
       "0.17637130801687764"
      ]
     },
     "execution_count": 8,
     "metadata": {},
     "output_type": "execute_result"
    }
   ],
   "source": [
    "209/1185"
   ]
  },
  {
   "cell_type": "markdown",
   "metadata": {},
   "source": [
    "---"
   ]
  },
  {
   "cell_type": "markdown",
   "metadata": {},
   "source": [
    "## Build feature word list:"
   ]
  },
  {
   "cell_type": "code",
   "execution_count": 9,
   "metadata": {},
   "outputs": [],
   "source": [
    "rgx_singles = re.compile(\"([\\w][\\w']*[\\w])\")\n",
    "rgx_doubles = re.compile(\"([\\w][\\w']*[\\w] +[\\w][\\w']*[\\w])\")\n",
    "rgx_triples = re.compile(\"([\\w][\\w']*[\\w] +[\\w][\\w']*[\\w] +[\\w][\\w']*[\\w])\")\n",
    "\n",
    "translator = str.maketrans('', '', string.punctuation)"
   ]
  },
  {
   "cell_type": "code",
   "execution_count": 10,
   "metadata": {},
   "outputs": [],
   "source": [
    "#words = []\n",
    "#\n",
    "#for index, row in faz_train.iterrows():\n",
    "#    words += list(row['detailed'].split(' '))"
   ]
  },
  {
   "cell_type": "code",
   "execution_count": 11,
   "metadata": {},
   "outputs": [],
   "source": [
    "words = []\n",
    "\n",
    "for index, row in faz_train.iterrows():\n",
    "    line = row['detailed'].translate(translator) \n",
    "    words += rgx_singles.findall(line)\n",
    "    words += rgx_doubles.findall(line)\n",
    "    words += rgx_triples.findall(line)"
   ]
  },
  {
   "cell_type": "code",
   "execution_count": 12,
   "metadata": {},
   "outputs": [],
   "source": [
    "word_list = pd.DataFrame(words, columns=['word'])"
   ]
  },
  {
   "cell_type": "code",
   "execution_count": 13,
   "metadata": {},
   "outputs": [],
   "source": [
    "titles = []\n",
    "\n",
    "for index, row in faz_train.iterrows():\n",
    "    line = row['title'].translate(translator) \n",
    "    titles += rgx_singles.findall(line)\n",
    "    titles += rgx_doubles.findall(line)\n",
    "    titles += rgx_triples.findall(line)"
   ]
  },
  {
   "cell_type": "code",
   "execution_count": 14,
   "metadata": {},
   "outputs": [],
   "source": [
    "title_list = pd.DataFrame(titles, columns=['word'])"
   ]
  },
  {
   "cell_type": "code",
   "execution_count": 15,
   "metadata": {},
   "outputs": [],
   "source": [
    "scraped = [word_list, title_list]\n",
    "merged = pd.concat(scraped)"
   ]
  },
  {
   "cell_type": "code",
   "execution_count": 16,
   "metadata": {},
   "outputs": [],
   "source": [
    "merged['count'] = 1"
   ]
  },
  {
   "cell_type": "code",
   "execution_count": 17,
   "metadata": {},
   "outputs": [],
   "source": [
    "features = merged.groupby('word').count()"
   ]
  },
  {
   "cell_type": "code",
   "execution_count": 18,
   "metadata": {},
   "outputs": [],
   "source": [
    "features = features.sort_values('count', ascending=False)\n",
    "feature_list = features.head(300)\n",
    "feature_list = list(feature_list.index)"
   ]
  },
  {
   "cell_type": "code",
   "execution_count": 19,
   "metadata": {},
   "outputs": [],
   "source": [
    "dictionary={}\n",
    "\n",
    "for i in range(len(feature_list)):\n",
    "    dictionary[feature_list[i]] = i"
   ]
  },
  {
   "cell_type": "markdown",
   "metadata": {},
   "source": [
    "# Iterate over 'Politik' buzzwords:"
   ]
  },
  {
   "cell_type": "code",
   "execution_count": 20,
   "metadata": {},
   "outputs": [],
   "source": [
    "pol_buzzword = []\n",
    "\n",
    "for index, row in faz_pol.iterrows():\n",
    "    new_line = np.zeros(300)\n",
    "    words = list(row['detailed'].split(' '))\n",
    "    for word in words:\n",
    "        if word in dictionary:\n",
    "            new_line[dictionary[word]] += 1\n",
    "    pol_buzzword.append(new_line)"
   ]
  },
  {
   "cell_type": "code",
   "execution_count": 21,
   "metadata": {},
   "outputs": [],
   "source": [
    "df1 = pd.DataFrame(pol_buzzword, columns=feature_list)"
   ]
  },
  {
   "cell_type": "code",
   "execution_count": 22,
   "metadata": {},
   "outputs": [],
   "source": [
    "df1['goal_val'] = 1"
   ]
  },
  {
   "cell_type": "markdown",
   "metadata": {},
   "source": [
    "# Iterate over remaining buzzwords:"
   ]
  },
  {
   "cell_type": "code",
   "execution_count": 23,
   "metadata": {},
   "outputs": [],
   "source": [
    "buzzwords = []\n",
    "\n",
    "for index, row in faz_rest.iterrows():\n",
    "    new_line = np.zeros(300)\n",
    "    words = list(row['detailed'].split(' '))\n",
    "    for word in words:\n",
    "        if word in dictionary:\n",
    "            new_line[dictionary[word]] += 1\n",
    "    buzzwords.append(new_line)"
   ]
  },
  {
   "cell_type": "code",
   "execution_count": 24,
   "metadata": {},
   "outputs": [],
   "source": [
    "df2 = pd.DataFrame(buzzwords, columns=feature_list)"
   ]
  },
  {
   "cell_type": "code",
   "execution_count": 25,
   "metadata": {},
   "outputs": [],
   "source": [
    "df2['goal_val'] = 0"
   ]
  },
  {
   "cell_type": "code",
   "execution_count": 26,
   "metadata": {},
   "outputs": [],
   "source": [
    "train_tables = [df1, df2]\n",
    "top_train_data = pd.concat(train_tables)"
   ]
  },
  {
   "cell_type": "markdown",
   "metadata": {},
   "source": [
    "---\n",
    "**saving the train data frames to a .csv file:**"
   ]
  },
  {
   "cell_type": "code",
   "execution_count": 27,
   "metadata": {},
   "outputs": [
    {
     "name": "stdout",
     "output_type": "stream",
     "text": [
      "Pathname: ../data_frames/train_data\n"
     ]
    }
   ],
   "source": [
    "name = 'train_data'\n",
    "\n",
    "path = \"../data_frames/\" + name\n",
    "print(\"Pathname:\", path)"
   ]
  },
  {
   "cell_type": "code",
   "execution_count": 28,
   "metadata": {},
   "outputs": [],
   "source": [
    "top_train_data.to_csv(path, index=False)"
   ]
  },
  {
   "cell_type": "markdown",
   "metadata": {},
   "source": [
    "# SAME FOR TEST DATA:"
   ]
  },
  {
   "cell_type": "code",
   "execution_count": 29,
   "metadata": {},
   "outputs": [],
   "source": [
    "def build_test_tables(category):\n",
    "    raw_article = []\n",
    "    if category is 'aktuell':\n",
    "        path = f\"../data/aktuell/\"\n",
    "    else:\n",
    "        path = f\"../data/{category}/\"\n",
    "        \n",
    "    all_files = glob.glob(path + '*.csv')\n",
    "\n",
    "    for filename in all_files:\n",
    "        df = pd.read_csv(filename, index_col=None, header=0)\n",
    "        raw_article.append(df)\n",
    "    faz_article = pd.concat(raw_article, axis=0, ignore_index=True)\n",
    "    faz_article['label'] = category\n",
    "\n",
    "    return faz_article"
   ]
  },
  {
   "cell_type": "code",
   "execution_count": 30,
   "metadata": {},
   "outputs": [],
   "source": [
    "fram = []\n",
    "\n",
    "for key, value in category.items():\n",
    "    raw = build_test_tables(value)\n",
    "    fram.append(raw)\n",
    "    faz_test = pd.concat(fram, axis=0, ignore_index=True)"
   ]
  },
  {
   "cell_type": "code",
   "execution_count": 31,
   "metadata": {},
   "outputs": [
    {
     "data": {
      "text/html": [
       "<div>\n",
       "<style scoped>\n",
       "    .dataframe tbody tr th:only-of-type {\n",
       "        vertical-align: middle;\n",
       "    }\n",
       "\n",
       "    .dataframe tbody tr th {\n",
       "        vertical-align: top;\n",
       "    }\n",
       "\n",
       "    .dataframe thead th {\n",
       "        text-align: right;\n",
       "    }\n",
       "</style>\n",
       "<table border=\"1\" class=\"dataframe\">\n",
       "  <thead>\n",
       "    <tr style=\"text-align: right;\">\n",
       "      <th></th>\n",
       "      <th>link</th>\n",
       "      <th>published</th>\n",
       "      <th>title</th>\n",
       "      <th>detailed</th>\n",
       "      <th>label</th>\n",
       "    </tr>\n",
       "  </thead>\n",
       "  <tbody>\n",
       "    <tr>\n",
       "      <th>0</th>\n",
       "      <td>https://www.faz.net/aktuell/politik/trumps-pra...</td>\n",
       "      <td>Tue, 02 Apr 2019 14:16:22 +0200</td>\n",
       "      <td>Joe Biden: Vom Hoffnungsträger zum Problem?</td>\n",
       "      <td>Für viele Amerikaner ein vertrauter Politiker:...</td>\n",
       "      <td>politik</td>\n",
       "    </tr>\n",
       "    <tr>\n",
       "      <th>1</th>\n",
       "      <td>https://www.faz.net/aktuell/brexit/nach-brexit...</td>\n",
       "      <td>Tue, 02 Apr 2019 07:46:28 +0200</td>\n",
       "      <td>Brexit: Das Ende naht – tut es das?</td>\n",
       "      <td>Eine Brexit-Anhängerin vor dem Parlament in Lo...</td>\n",
       "      <td>politik</td>\n",
       "    </tr>\n",
       "    <tr>\n",
       "      <th>2</th>\n",
       "      <td>https://www.faz.net/aktuell/politik/ausland/eu...</td>\n",
       "      <td>Tue, 02 Apr 2019 12:30:17 +0200</td>\n",
       "      <td>EU: Risiko eines Chaos-Brexits wächst täglich</td>\n",
       "      <td>Michel BarnierWieder hat das britische Unterha...</td>\n",
       "      <td>politik</td>\n",
       "    </tr>\n",
       "    <tr>\n",
       "      <th>3</th>\n",
       "      <td>https://www.faz.net/aktuell/politik/ausland/ve...</td>\n",
       "      <td>Tue, 02 Apr 2019 03:57:03 +0200</td>\n",
       "      <td>Venezuelas Oppositionschef Guaidó soll die Imm...</td>\n",
       "      <td>Juan Guaido (hier am Montag in der Universität...</td>\n",
       "      <td>politik</td>\n",
       "    </tr>\n",
       "    <tr>\n",
       "      <th>4</th>\n",
       "      <td>https://www.faz.net/aktuell/politik/alle-alter...</td>\n",
       "      <td>Tue, 02 Apr 2019 00:10:13 +0200</td>\n",
       "      <td>Alle Alternativen zu Mays Brexit-Vertrag schei...</td>\n",
       "      <td>Am britischen Parlament scheint eine Projektio...</td>\n",
       "      <td>politik</td>\n",
       "    </tr>\n",
       "    <tr>\n",
       "      <th>5</th>\n",
       "      <td>https://www.faz.net/aktuell/politik/ausland/na...</td>\n",
       "      <td>Mon, 01 Apr 2019 21:11:30 +0200</td>\n",
       "      <td>Nach der Wahl in der Türkei: Risse im System E...</td>\n",
       "      <td>Flagge zeigen: Die Kommunalwahl ist ein wichti...</td>\n",
       "      <td>politik</td>\n",
       "    </tr>\n",
       "    <tr>\n",
       "      <th>6</th>\n",
       "      <td>https://www.faz.net/aktuell/politik/ausland/sc...</td>\n",
       "      <td>Mon, 01 Apr 2019 16:38:02 +0200</td>\n",
       "      <td>Interview mit Schwedens Ministerpräsident</td>\n",
       "      <td>Der schwedische Ministerpräsident Stefan Löfve...</td>\n",
       "      <td>politik</td>\n",
       "    </tr>\n",
       "    <tr>\n",
       "      <th>7</th>\n",
       "      <td>https://www.faz.net/aktuell/politik/ausland/sp...</td>\n",
       "      <td>Mon, 01 Apr 2019 19:51:45 +0200</td>\n",
       "      <td>„Angriff auf die Republik“: Sprengsätze kurz v...</td>\n",
       "      <td>Donnerstag reist er nach Korsika: Emmanuel Mac...</td>\n",
       "      <td>politik</td>\n",
       "    </tr>\n",
       "    <tr>\n",
       "      <th>8</th>\n",
       "      <td>https://www.faz.net/aktuell/politik/inland/meh...</td>\n",
       "      <td>Mon, 01 Apr 2019 18:30:00 +0200</td>\n",
       "      <td>Mehrheit der Deutschen lehnt gendergerechte Sp...</td>\n",
       "      <td>Wort mit Sternchen: Wird gendergerechte Sprach...</td>\n",
       "      <td>politik</td>\n",
       "    </tr>\n",
       "    <tr>\n",
       "      <th>9</th>\n",
       "      <td>https://www.faz.net/aktuell/politik/ausland/su...</td>\n",
       "      <td>Wed, 03 Apr 2019 11:16:50 +0200</td>\n",
       "      <td>Sultanat Brunei: Homosexuellen droht nun die T...</td>\n",
       "      <td>Der Sultan von Brunei Hassanal Bolkiah herrsch...</td>\n",
       "      <td>politik</td>\n",
       "    </tr>\n",
       "    <tr>\n",
       "      <th>10</th>\n",
       "      <td>https://www.faz.net/aktuell/politik/bayerns-vo...</td>\n",
       "      <td>Wed, 03 Apr 2019 11:10:04 +0200</td>\n",
       "      <td>Bayerns Volksbegehren für Artenschutz soll Ges...</td>\n",
       "      <td>Demo für den Bienenschutz in München im Februa...</td>\n",
       "      <td>politik</td>\n",
       "    </tr>\n",
       "    <tr>\n",
       "      <th>11</th>\n",
       "      <td>https://www.faz.net/aktuell/brexit/brexiteers-...</td>\n",
       "      <td>Wed, 03 Apr 2019 10:22:03 +0200</td>\n",
       "      <td>Brexiteers wettern gegen Mays neue Strategie</td>\n",
       "      <td>Boris Johnson wirft May vor, „die endgültige A...</td>\n",
       "      <td>politik</td>\n",
       "    </tr>\n",
       "    <tr>\n",
       "      <th>12</th>\n",
       "      <td>https://www.faz.net/aktuell/politik/ausland/se...</td>\n",
       "      <td>Wed, 03 Apr 2019 08:26:57 +0200</td>\n",
       "      <td>Kurz und die FPÖ: An die kurze Leine</td>\n",
       "      <td>Dicke Luft: Sebastian Kurz mit Vizekanzler Hei...</td>\n",
       "      <td>politik</td>\n",
       "    </tr>\n",
       "    <tr>\n",
       "      <th>13</th>\n",
       "      <td>https://www.faz.net/aktuell/politik/ausland/al...</td>\n",
       "      <td>Tue, 02 Apr 2019 22:11:33 +0200</td>\n",
       "      <td>Algeriens Armee drängt Bouteflika zum Rücktritt</td>\n",
       "      <td>Kopie von 59093905Der algerische Präsident Abd...</td>\n",
       "      <td>politik</td>\n",
       "    </tr>\n",
       "    <tr>\n",
       "      <th>14</th>\n",
       "      <td>https://www.faz.net/aktuell/politik/trumps-pra...</td>\n",
       "      <td>Wed, 03 Apr 2019 07:31:21 +0200</td>\n",
       "      <td>Amerikanischer Präsident: Trump verwechselt se...</td>\n",
       "      <td>Verwechselt: Donald TrumpSein Vater sei Deutsc...</td>\n",
       "      <td>politik</td>\n",
       "    </tr>\n",
       "    <tr>\n",
       "      <th>15</th>\n",
       "      <td>https://www.faz.net/aktuell/politik/ausland/lo...</td>\n",
       "      <td>Wed, 03 Apr 2019 06:37:04 +0200</td>\n",
       "      <td>Lori Lightfoot: Chicagos neue Hoffnung</td>\n",
       "      <td>Chicagos neue Bürgermeisterin Lori LightfootAl...</td>\n",
       "      <td>politik</td>\n",
       "    </tr>\n",
       "    <tr>\n",
       "      <th>16</th>\n",
       "      <td>https://www.faz.net/aktuell/politik/ausland/ju...</td>\n",
       "      <td>Wed, 03 Apr 2019 06:49:38 +0200</td>\n",
       "      <td>Justin Trudeau wirft zwei Ex-Ministerinnen aus...</td>\n",
       "      <td>Kanadas Regierungschef Justin TrudeauAus Prote...</td>\n",
       "      <td>politik</td>\n",
       "    </tr>\n",
       "    <tr>\n",
       "      <th>17</th>\n",
       "      <td>https://www.faz.net/aktuell/politik/inland/bun...</td>\n",
       "      <td>Tue, 02 Apr 2019 22:16:20 +0200</td>\n",
       "      <td>Budget der Bundeswehr steigt, doch Kritik hält an</td>\n",
       "      <td>Der Schützenpanzer „Marder“ fährt beim Manöver...</td>\n",
       "      <td>politik</td>\n",
       "    </tr>\n",
       "    <tr>\n",
       "      <th>18</th>\n",
       "      <td>https://www.faz.net/aktuell/politik/trumps-pra...</td>\n",
       "      <td>Tue, 02 Apr 2019 14:16:22 +0200</td>\n",
       "      <td>Joe Biden: Vom Hoffnungsträger zum Problem?</td>\n",
       "      <td>Für viele Amerikaner ein vertrauter Politiker:...</td>\n",
       "      <td>politik</td>\n",
       "    </tr>\n",
       "    <tr>\n",
       "      <th>19</th>\n",
       "      <td>https://www.faz.net/aktuell/brexit/nach-brexit...</td>\n",
       "      <td>Tue, 02 Apr 2019 07:46:28 +0200</td>\n",
       "      <td>Brexit: Das Ende naht – tut es das?</td>\n",
       "      <td>Eine Brexit-Anhängerin vor dem Parlament in Lo...</td>\n",
       "      <td>politik</td>\n",
       "    </tr>\n",
       "    <tr>\n",
       "      <th>20</th>\n",
       "      <td>https://www.faz.net/aktuell/politik/ausland/eu...</td>\n",
       "      <td>Tue, 02 Apr 2019 12:30:17 +0200</td>\n",
       "      <td>EU: Risiko eines Chaos-Brexits wächst täglich</td>\n",
       "      <td>Michel BarnierWieder hat das britische Unterha...</td>\n",
       "      <td>politik</td>\n",
       "    </tr>\n",
       "    <tr>\n",
       "      <th>21</th>\n",
       "      <td>https://www.faz.net/aktuell/politik/ausland/ve...</td>\n",
       "      <td>Tue, 02 Apr 2019 03:57:03 +0200</td>\n",
       "      <td>Venezuelas Oppositionschef Guaidó soll die Imm...</td>\n",
       "      <td>Juan Guaido (hier am Montag in der Universität...</td>\n",
       "      <td>politik</td>\n",
       "    </tr>\n",
       "    <tr>\n",
       "      <th>22</th>\n",
       "      <td>https://www.faz.net/aktuell/politik/alle-alter...</td>\n",
       "      <td>Tue, 02 Apr 2019 00:10:13 +0200</td>\n",
       "      <td>Alle Alternativen zu Mays Brexit-Vertrag schei...</td>\n",
       "      <td>Am britischen Parlament scheint eine Projektio...</td>\n",
       "      <td>politik</td>\n",
       "    </tr>\n",
       "    <tr>\n",
       "      <th>23</th>\n",
       "      <td>https://www.faz.net/aktuell/politik/ausland/na...</td>\n",
       "      <td>Mon, 01 Apr 2019 21:11:30 +0200</td>\n",
       "      <td>Nach der Wahl in der Türkei: Risse im System E...</td>\n",
       "      <td>Flagge zeigen: Die Kommunalwahl ist ein wichti...</td>\n",
       "      <td>politik</td>\n",
       "    </tr>\n",
       "    <tr>\n",
       "      <th>24</th>\n",
       "      <td>https://www.faz.net/aktuell/politik/ausland/sc...</td>\n",
       "      <td>Mon, 01 Apr 2019 16:38:02 +0200</td>\n",
       "      <td>Interview mit Schwedens Ministerpräsident</td>\n",
       "      <td>Der schwedische Ministerpräsident Stefan Löfve...</td>\n",
       "      <td>politik</td>\n",
       "    </tr>\n",
       "    <tr>\n",
       "      <th>25</th>\n",
       "      <td>https://www.faz.net/aktuell/politik/ausland/sp...</td>\n",
       "      <td>Mon, 01 Apr 2019 19:51:45 +0200</td>\n",
       "      <td>„Angriff auf die Republik“: Sprengsätze kurz v...</td>\n",
       "      <td>Donnerstag reist er nach Korsika: Emmanuel Mac...</td>\n",
       "      <td>politik</td>\n",
       "    </tr>\n",
       "    <tr>\n",
       "      <th>26</th>\n",
       "      <td>https://www.faz.net/aktuell/politik/inland/meh...</td>\n",
       "      <td>Mon, 01 Apr 2019 18:30:00 +0200</td>\n",
       "      <td>Mehrheit der Deutschen lehnt gendergerechte Sp...</td>\n",
       "      <td>Wort mit Sternchen: Wird gendergerechte Sprach...</td>\n",
       "      <td>politik</td>\n",
       "    </tr>\n",
       "    <tr>\n",
       "      <th>27</th>\n",
       "      <td>https://www.faz.net/aktuell/politik/ausland/se...</td>\n",
       "      <td>Wed, 03 Apr 2019 08:26:57 +0200</td>\n",
       "      <td>Kurz und die FPÖ: An die kurze Leine</td>\n",
       "      <td>Dicke Luft: Sebastian Kurz mit Vizekanzler Hei...</td>\n",
       "      <td>politik</td>\n",
       "    </tr>\n",
       "    <tr>\n",
       "      <th>28</th>\n",
       "      <td>https://www.faz.net/aktuell/politik/trumps-pra...</td>\n",
       "      <td>Wed, 03 Apr 2019 07:31:21 +0200</td>\n",
       "      <td>Amerikanischer Präsident: Trump verwechselt se...</td>\n",
       "      <td>Verwechselt: Donald TrumpSein Vater sei Deutsc...</td>\n",
       "      <td>politik</td>\n",
       "    </tr>\n",
       "    <tr>\n",
       "      <th>29</th>\n",
       "      <td>https://www.faz.net/aktuell/politik/ausland/lo...</td>\n",
       "      <td>Wed, 03 Apr 2019 06:37:04 +0200</td>\n",
       "      <td>Lori Lightfoot: Chicagos neue Hoffnung</td>\n",
       "      <td>Chicagos neue Bürgermeisterin Lori LightfootAl...</td>\n",
       "      <td>politik</td>\n",
       "    </tr>\n",
       "    <tr>\n",
       "      <th>...</th>\n",
       "      <td>...</td>\n",
       "      <td>...</td>\n",
       "      <td>...</td>\n",
       "      <td>...</td>\n",
       "      <td>...</td>\n",
       "    </tr>\n",
       "    <tr>\n",
       "      <th>1211</th>\n",
       "      <td>https://www.faz.net/aktuell/wirtschaft/folgen-...</td>\n",
       "      <td>Tue, 02 Apr 2019 14:59:57 +0200</td>\n",
       "      <td>Wenn der Wald stirbt: Gegen Käfer, Dürre und H...</td>\n",
       "      <td>59066638Erst allmählich wird deutlich, wie seh...</td>\n",
       "      <td>aktuell</td>\n",
       "    </tr>\n",
       "    <tr>\n",
       "      <th>1212</th>\n",
       "      <td>https://www.faz.net/aktuell/feuilleton/kunst/d...</td>\n",
       "      <td>Tue, 02 Apr 2019 12:52:39 +0200</td>\n",
       "      <td>Gewetterter Sand als Emblem einer Nation: Das ...</td>\n",
       "      <td>Blick auf das neue Nationalmuseum von Katar am...</td>\n",
       "      <td>aktuell</td>\n",
       "    </tr>\n",
       "    <tr>\n",
       "      <th>1213</th>\n",
       "      <td>https://www.faz.net/aktuell/wirtschaft/mehr-wi...</td>\n",
       "      <td>Tue, 02 Apr 2019 11:16:45 +0200</td>\n",
       "      <td>Die Prognosen für Italiens Wirtschaftswachstum...</td>\n",
       "      <td>Gucken ja, aber auch kaufen? Italien steuert a...</td>\n",
       "      <td>aktuell</td>\n",
       "    </tr>\n",
       "    <tr>\n",
       "      <th>1214</th>\n",
       "      <td>https://www.faz.net/aktuell/wirtschaft/diginom...</td>\n",
       "      <td>Tue, 02 Apr 2019 11:43:54 +0200</td>\n",
       "      <td>Ingenieure warnen vor Desaster mit Künstlicher...</td>\n",
       "      <td>Der VDI, der rund 140.000 Ingenieure in Deutsc...</td>\n",
       "      <td>aktuell</td>\n",
       "    </tr>\n",
       "    <tr>\n",
       "      <th>1215</th>\n",
       "      <td>https://www.faz.net/aktuell/brexit/may-sieht-u...</td>\n",
       "      <td>Wed, 03 Apr 2019 14:10:44 +0200</td>\n",
       "      <td>Brexit-Gespräche: May hofft auf Schulterschlus...</td>\n",
       "      <td>Theresa May setzt mit ihren Gesprächen mit der...</td>\n",
       "      <td>aktuell</td>\n",
       "    </tr>\n",
       "    <tr>\n",
       "      <th>1216</th>\n",
       "      <td>https://www.faz.net/aktuell/politik/inland/fra...</td>\n",
       "      <td>Wed, 03 Apr 2019 11:44:12 +0200</td>\n",
       "      <td>Franz Müntefering im Gespräch: „Sich nur über ...</td>\n",
       "      <td>Franz Müntefering und der damalige Bundeskanzl...</td>\n",
       "      <td>aktuell</td>\n",
       "    </tr>\n",
       "    <tr>\n",
       "      <th>1217</th>\n",
       "      <td>https://www.faz.net/aktuell/sport/fussball/fra...</td>\n",
       "      <td>Wed, 03 Apr 2019 14:14:39 +0200</td>\n",
       "      <td>Heidenheim-Trainer Schmidt über das DFB-Pokals...</td>\n",
       "      <td>Ein Mann mit klarer Linie: Heidenheim-Trainer ...</td>\n",
       "      <td>aktuell</td>\n",
       "    </tr>\n",
       "    <tr>\n",
       "      <th>1218</th>\n",
       "      <td>https://www.faz.net/aktuell/feuilleton/brief-a...</td>\n",
       "      <td>Wed, 03 Apr 2019 12:05:59 +0200</td>\n",
       "      <td>Brief aus Istanbul: Der Fall des Hochmütigen</td>\n",
       "      <td>Nach einer Ansprache zu den Kommunalwahlen ver...</td>\n",
       "      <td>aktuell</td>\n",
       "    </tr>\n",
       "    <tr>\n",
       "      <th>1219</th>\n",
       "      <td>https://www.faz.net/aktuell/stil/leib-seele/jo...</td>\n",
       "      <td>Wed, 03 Apr 2019 09:49:01 +0200</td>\n",
       "      <td>Debatte um Vereinbarkeit von Familie und Beruf</td>\n",
       "      <td>Ein Mädchen legt seinen Kopf auf den Tisch.Red...</td>\n",
       "      <td>aktuell</td>\n",
       "    </tr>\n",
       "    <tr>\n",
       "      <th>1220</th>\n",
       "      <td>https://www.faz.net/aktuell/politik/inland/zps...</td>\n",
       "      <td>Wed, 03 Apr 2019 14:11:31 +0200</td>\n",
       "      <td>Staatsanwaltschaft ermittelt wegen „Bildung ei...</td>\n",
       "      <td>Mitglieder des Künstlerkollektivs ZPS stehen i...</td>\n",
       "      <td>aktuell</td>\n",
       "    </tr>\n",
       "    <tr>\n",
       "      <th>1221</th>\n",
       "      <td>https://www.faz.net/aktuell/sport/mehr-sport/s...</td>\n",
       "      <td>Wed, 03 Apr 2019 14:22:24 +0200</td>\n",
       "      <td>Stefan Horngacher wird neuer deutscher Skispru...</td>\n",
       "      <td>Stefan Horngacher in seiner Funktion als Train...</td>\n",
       "      <td>aktuell</td>\n",
       "    </tr>\n",
       "    <tr>\n",
       "      <th>1222</th>\n",
       "      <td>https://www.faz.net/aktuell/gesellschaft/krimi...</td>\n",
       "      <td>Wed, 03 Apr 2019 12:49:47 +0200</td>\n",
       "      <td>Kölner findet Zwillingsauto mit identischem Ke...</td>\n",
       "      <td>Der VW Polo von Taxiunternehmer Adem Altay ste...</td>\n",
       "      <td>aktuell</td>\n",
       "    </tr>\n",
       "    <tr>\n",
       "      <th>1223</th>\n",
       "      <td>https://www.faz.net/aktuell/rhein-main/urteil-...</td>\n",
       "      <td>Wed, 03 Apr 2019 13:27:06 +0200</td>\n",
       "      <td>Gerichtsurteil in Frankfurt: Kein Schadenersat...</td>\n",
       "      <td>Beim Ballspielen brach sich ein junger Hund de...</td>\n",
       "      <td>aktuell</td>\n",
       "    </tr>\n",
       "    <tr>\n",
       "      <th>1224</th>\n",
       "      <td>https://www.faz.net/aktuell/stil/essen-trinken...</td>\n",
       "      <td>Wed, 03 Apr 2019 14:37:06 +0200</td>\n",
       "      <td>Neue griechische Küche: Von wegen heiß und fettig</td>\n",
       "      <td>Aufgetischt: Das Restaurant Cookoovaya servier...</td>\n",
       "      <td>aktuell</td>\n",
       "    </tr>\n",
       "    <tr>\n",
       "      <th>1225</th>\n",
       "      <td>https://www.faz.net/aktuell/wirtschaft/wohnen/...</td>\n",
       "      <td>Wed, 03 Apr 2019 13:41:36 +0200</td>\n",
       "      <td>Professionelle Baumhäuser für den Garten</td>\n",
       "      <td>Ein Baumhaus von BaumbaronKinder lieben Baumhä...</td>\n",
       "      <td>aktuell</td>\n",
       "    </tr>\n",
       "    <tr>\n",
       "      <th>1226</th>\n",
       "      <td>https://www.faz.net/aktuell/politik/ausland/re...</td>\n",
       "      <td>Wed, 03 Apr 2019 12:49:24 +0200</td>\n",
       "      <td>Regierungseinfluss auf Richter: EU leitet neue...</td>\n",
       "      <td>Vize-Kommissionspräsident Frans Timmermans am ...</td>\n",
       "      <td>aktuell</td>\n",
       "    </tr>\n",
       "    <tr>\n",
       "      <th>1227</th>\n",
       "      <td>https://www.faz.net/aktuell/wirtschaft/unterne...</td>\n",
       "      <td>Wed, 03 Apr 2019 12:43:44 +0200</td>\n",
       "      <td>Piloten handelten bei 737-Max-Absturz angeblic...</td>\n",
       "      <td>Eine Boeing 737 Max bei einem Testflug in den ...</td>\n",
       "      <td>aktuell</td>\n",
       "    </tr>\n",
       "    <tr>\n",
       "      <th>1228</th>\n",
       "      <td>https://www.faz.net/aktuell/sport/fussball/rei...</td>\n",
       "      <td>Wed, 03 Apr 2019 07:43:18 +0200</td>\n",
       "      <td>Nach Grindels Rücktritt: Zeit für eine Revolut...</td>\n",
       "      <td>Bisher galten bei der Wahl eines neuen DFB-Prä...</td>\n",
       "      <td>aktuell</td>\n",
       "    </tr>\n",
       "    <tr>\n",
       "      <th>1229</th>\n",
       "      <td>https://www.faz.net/aktuell/wirtschaft/diginom...</td>\n",
       "      <td>Wed, 03 Apr 2019 08:36:06 +0200</td>\n",
       "      <td>Wie Sicherheitsexperten den Autopiloten von Te...</td>\n",
       "      <td>Stoßzeit in Los Angeles: Der Autopilot steuert...</td>\n",
       "      <td>aktuell</td>\n",
       "    </tr>\n",
       "    <tr>\n",
       "      <th>1230</th>\n",
       "      <td>https://www.faz.net/aktuell/politik/ausland/se...</td>\n",
       "      <td>Wed, 03 Apr 2019 08:26:57 +0200</td>\n",
       "      <td>Kurz und die FPÖ: An die kurze Leine</td>\n",
       "      <td>Dicke Luft: Sebastian Kurz mit Vizekanzler Hei...</td>\n",
       "      <td>aktuell</td>\n",
       "    </tr>\n",
       "    <tr>\n",
       "      <th>1231</th>\n",
       "      <td>https://www.faz.net/aktuell/politik/trumps-pra...</td>\n",
       "      <td>Wed, 03 Apr 2019 07:31:21 +0200</td>\n",
       "      <td>Amerikanischer Präsident: Trump verwechselt se...</td>\n",
       "      <td>Verwechselt: Donald TrumpSein Vater sei Deutsc...</td>\n",
       "      <td>aktuell</td>\n",
       "    </tr>\n",
       "    <tr>\n",
       "      <th>1232</th>\n",
       "      <td>https://www.faz.net/aktuell/sport/fussball/dfb...</td>\n",
       "      <td>Wed, 03 Apr 2019 08:11:59 +0200</td>\n",
       "      <td>Pokalduell in Augsburg: Reuter ist nach Leipzi...</td>\n",
       "      <td>Nicht nur in den Katakomben des Stadions gab e...</td>\n",
       "      <td>aktuell</td>\n",
       "    </tr>\n",
       "    <tr>\n",
       "      <th>1233</th>\n",
       "      <td>https://www.faz.net/aktuell/wirtschaft/unterne...</td>\n",
       "      <td>Wed, 03 Apr 2019 06:10:40 +0200</td>\n",
       "      <td>Toyota plant für den Abschied vom Hybrid-Antrieb</td>\n",
       "      <td>Ein Prius des japanischen Herstellers ToyotaKl...</td>\n",
       "      <td>aktuell</td>\n",
       "    </tr>\n",
       "    <tr>\n",
       "      <th>1234</th>\n",
       "      <td>https://www.faz.net/aktuell/beruf-chance/campu...</td>\n",
       "      <td>Wed, 03 Apr 2019 08:30:16 +0200</td>\n",
       "      <td>In Deutschland gibt es so viele Studenten ohne...</td>\n",
       "      <td>Ein Hörsaal voller Medizinstudenten – manche v...</td>\n",
       "      <td>aktuell</td>\n",
       "    </tr>\n",
       "    <tr>\n",
       "      <th>1235</th>\n",
       "      <td>https://www.faz.net/aktuell/gesellschaft/lufth...</td>\n",
       "      <td>Wed, 03 Apr 2019 02:26:23 +0200</td>\n",
       "      <td>Hydraulikprobleme: A380 der Lufthansa muss umk...</td>\n",
       "      <td>Ein A380 der Lufthansa in FrankfurtEine Luftha...</td>\n",
       "      <td>aktuell</td>\n",
       "    </tr>\n",
       "    <tr>\n",
       "      <th>1236</th>\n",
       "      <td>https://www.faz.net/aktuell/faz-net-sprinter-j...</td>\n",
       "      <td>Wed, 03 Apr 2019 06:17:03 +0200</td>\n",
       "      <td>FAZ.NET-Sprinter: John, Paul, George und Ringo...</td>\n",
       "      <td>Unser Sprinter-Autor: Thomas HollIm britischen...</td>\n",
       "      <td>aktuell</td>\n",
       "    </tr>\n",
       "    <tr>\n",
       "      <th>1237</th>\n",
       "      <td>https://www.faz.net/aktuell/feuilleton/kino/vi...</td>\n",
       "      <td>Wed, 03 Apr 2019 08:50:33 +0200</td>\n",
       "      <td>Stephen Kings Roman „Friedhof der Kuscheltiere...</td>\n",
       "      <td>Teaser Bild für Filmkritik „Friedhof der Kusch...</td>\n",
       "      <td>aktuell</td>\n",
       "    </tr>\n",
       "    <tr>\n",
       "      <th>1238</th>\n",
       "      <td>https://www.faz.net/aktuell/stil/leib-seele/de...</td>\n",
       "      <td>Wed, 03 Apr 2019 07:36:00 +0200</td>\n",
       "      <td>Der Moment, in dem ich mich zum ersten Mal fre...</td>\n",
       "      <td>Unsere Autorin ging noch in die Grundschule, a...</td>\n",
       "      <td>aktuell</td>\n",
       "    </tr>\n",
       "    <tr>\n",
       "      <th>1239</th>\n",
       "      <td>https://www.faz.net/aktuell/finanzen/wie-die-d...</td>\n",
       "      <td>Wed, 03 Apr 2019 07:13:18 +0200</td>\n",
       "      <td>Wie die Deutsche Bank Federn im Investmentbank...</td>\n",
       "      <td>Die beiden Türme der Deutsche Bank AG in Frank...</td>\n",
       "      <td>aktuell</td>\n",
       "    </tr>\n",
       "    <tr>\n",
       "      <th>1240</th>\n",
       "      <td>https://www.faz.net/aktuell/feuilleton/medien/...</td>\n",
       "      <td>Wed, 03 Apr 2019 06:51:09 +0200</td>\n",
       "      <td>Frankreich streitet um die Rundfunkgebühr</td>\n",
       "      <td>Gelbwesten verfolgen eine Fernsehansprache des...</td>\n",
       "      <td>aktuell</td>\n",
       "    </tr>\n",
       "  </tbody>\n",
       "</table>\n",
       "<p>1241 rows × 5 columns</p>\n",
       "</div>"
      ],
      "text/plain": [
       "                                                   link  \\\n",
       "0     https://www.faz.net/aktuell/politik/trumps-pra...   \n",
       "1     https://www.faz.net/aktuell/brexit/nach-brexit...   \n",
       "2     https://www.faz.net/aktuell/politik/ausland/eu...   \n",
       "3     https://www.faz.net/aktuell/politik/ausland/ve...   \n",
       "4     https://www.faz.net/aktuell/politik/alle-alter...   \n",
       "5     https://www.faz.net/aktuell/politik/ausland/na...   \n",
       "6     https://www.faz.net/aktuell/politik/ausland/sc...   \n",
       "7     https://www.faz.net/aktuell/politik/ausland/sp...   \n",
       "8     https://www.faz.net/aktuell/politik/inland/meh...   \n",
       "9     https://www.faz.net/aktuell/politik/ausland/su...   \n",
       "10    https://www.faz.net/aktuell/politik/bayerns-vo...   \n",
       "11    https://www.faz.net/aktuell/brexit/brexiteers-...   \n",
       "12    https://www.faz.net/aktuell/politik/ausland/se...   \n",
       "13    https://www.faz.net/aktuell/politik/ausland/al...   \n",
       "14    https://www.faz.net/aktuell/politik/trumps-pra...   \n",
       "15    https://www.faz.net/aktuell/politik/ausland/lo...   \n",
       "16    https://www.faz.net/aktuell/politik/ausland/ju...   \n",
       "17    https://www.faz.net/aktuell/politik/inland/bun...   \n",
       "18    https://www.faz.net/aktuell/politik/trumps-pra...   \n",
       "19    https://www.faz.net/aktuell/brexit/nach-brexit...   \n",
       "20    https://www.faz.net/aktuell/politik/ausland/eu...   \n",
       "21    https://www.faz.net/aktuell/politik/ausland/ve...   \n",
       "22    https://www.faz.net/aktuell/politik/alle-alter...   \n",
       "23    https://www.faz.net/aktuell/politik/ausland/na...   \n",
       "24    https://www.faz.net/aktuell/politik/ausland/sc...   \n",
       "25    https://www.faz.net/aktuell/politik/ausland/sp...   \n",
       "26    https://www.faz.net/aktuell/politik/inland/meh...   \n",
       "27    https://www.faz.net/aktuell/politik/ausland/se...   \n",
       "28    https://www.faz.net/aktuell/politik/trumps-pra...   \n",
       "29    https://www.faz.net/aktuell/politik/ausland/lo...   \n",
       "...                                                 ...   \n",
       "1211  https://www.faz.net/aktuell/wirtschaft/folgen-...   \n",
       "1212  https://www.faz.net/aktuell/feuilleton/kunst/d...   \n",
       "1213  https://www.faz.net/aktuell/wirtschaft/mehr-wi...   \n",
       "1214  https://www.faz.net/aktuell/wirtschaft/diginom...   \n",
       "1215  https://www.faz.net/aktuell/brexit/may-sieht-u...   \n",
       "1216  https://www.faz.net/aktuell/politik/inland/fra...   \n",
       "1217  https://www.faz.net/aktuell/sport/fussball/fra...   \n",
       "1218  https://www.faz.net/aktuell/feuilleton/brief-a...   \n",
       "1219  https://www.faz.net/aktuell/stil/leib-seele/jo...   \n",
       "1220  https://www.faz.net/aktuell/politik/inland/zps...   \n",
       "1221  https://www.faz.net/aktuell/sport/mehr-sport/s...   \n",
       "1222  https://www.faz.net/aktuell/gesellschaft/krimi...   \n",
       "1223  https://www.faz.net/aktuell/rhein-main/urteil-...   \n",
       "1224  https://www.faz.net/aktuell/stil/essen-trinken...   \n",
       "1225  https://www.faz.net/aktuell/wirtschaft/wohnen/...   \n",
       "1226  https://www.faz.net/aktuell/politik/ausland/re...   \n",
       "1227  https://www.faz.net/aktuell/wirtschaft/unterne...   \n",
       "1228  https://www.faz.net/aktuell/sport/fussball/rei...   \n",
       "1229  https://www.faz.net/aktuell/wirtschaft/diginom...   \n",
       "1230  https://www.faz.net/aktuell/politik/ausland/se...   \n",
       "1231  https://www.faz.net/aktuell/politik/trumps-pra...   \n",
       "1232  https://www.faz.net/aktuell/sport/fussball/dfb...   \n",
       "1233  https://www.faz.net/aktuell/wirtschaft/unterne...   \n",
       "1234  https://www.faz.net/aktuell/beruf-chance/campu...   \n",
       "1235  https://www.faz.net/aktuell/gesellschaft/lufth...   \n",
       "1236  https://www.faz.net/aktuell/faz-net-sprinter-j...   \n",
       "1237  https://www.faz.net/aktuell/feuilleton/kino/vi...   \n",
       "1238  https://www.faz.net/aktuell/stil/leib-seele/de...   \n",
       "1239  https://www.faz.net/aktuell/finanzen/wie-die-d...   \n",
       "1240  https://www.faz.net/aktuell/feuilleton/medien/...   \n",
       "\n",
       "                            published  \\\n",
       "0     Tue, 02 Apr 2019 14:16:22 +0200   \n",
       "1     Tue, 02 Apr 2019 07:46:28 +0200   \n",
       "2     Tue, 02 Apr 2019 12:30:17 +0200   \n",
       "3     Tue, 02 Apr 2019 03:57:03 +0200   \n",
       "4     Tue, 02 Apr 2019 00:10:13 +0200   \n",
       "5     Mon, 01 Apr 2019 21:11:30 +0200   \n",
       "6     Mon, 01 Apr 2019 16:38:02 +0200   \n",
       "7     Mon, 01 Apr 2019 19:51:45 +0200   \n",
       "8     Mon, 01 Apr 2019 18:30:00 +0200   \n",
       "9     Wed, 03 Apr 2019 11:16:50 +0200   \n",
       "10    Wed, 03 Apr 2019 11:10:04 +0200   \n",
       "11    Wed, 03 Apr 2019 10:22:03 +0200   \n",
       "12    Wed, 03 Apr 2019 08:26:57 +0200   \n",
       "13    Tue, 02 Apr 2019 22:11:33 +0200   \n",
       "14    Wed, 03 Apr 2019 07:31:21 +0200   \n",
       "15    Wed, 03 Apr 2019 06:37:04 +0200   \n",
       "16    Wed, 03 Apr 2019 06:49:38 +0200   \n",
       "17    Tue, 02 Apr 2019 22:16:20 +0200   \n",
       "18    Tue, 02 Apr 2019 14:16:22 +0200   \n",
       "19    Tue, 02 Apr 2019 07:46:28 +0200   \n",
       "20    Tue, 02 Apr 2019 12:30:17 +0200   \n",
       "21    Tue, 02 Apr 2019 03:57:03 +0200   \n",
       "22    Tue, 02 Apr 2019 00:10:13 +0200   \n",
       "23    Mon, 01 Apr 2019 21:11:30 +0200   \n",
       "24    Mon, 01 Apr 2019 16:38:02 +0200   \n",
       "25    Mon, 01 Apr 2019 19:51:45 +0200   \n",
       "26    Mon, 01 Apr 2019 18:30:00 +0200   \n",
       "27    Wed, 03 Apr 2019 08:26:57 +0200   \n",
       "28    Wed, 03 Apr 2019 07:31:21 +0200   \n",
       "29    Wed, 03 Apr 2019 06:37:04 +0200   \n",
       "...                               ...   \n",
       "1211  Tue, 02 Apr 2019 14:59:57 +0200   \n",
       "1212  Tue, 02 Apr 2019 12:52:39 +0200   \n",
       "1213  Tue, 02 Apr 2019 11:16:45 +0200   \n",
       "1214  Tue, 02 Apr 2019 11:43:54 +0200   \n",
       "1215  Wed, 03 Apr 2019 14:10:44 +0200   \n",
       "1216  Wed, 03 Apr 2019 11:44:12 +0200   \n",
       "1217  Wed, 03 Apr 2019 14:14:39 +0200   \n",
       "1218  Wed, 03 Apr 2019 12:05:59 +0200   \n",
       "1219  Wed, 03 Apr 2019 09:49:01 +0200   \n",
       "1220  Wed, 03 Apr 2019 14:11:31 +0200   \n",
       "1221  Wed, 03 Apr 2019 14:22:24 +0200   \n",
       "1222  Wed, 03 Apr 2019 12:49:47 +0200   \n",
       "1223  Wed, 03 Apr 2019 13:27:06 +0200   \n",
       "1224  Wed, 03 Apr 2019 14:37:06 +0200   \n",
       "1225  Wed, 03 Apr 2019 13:41:36 +0200   \n",
       "1226  Wed, 03 Apr 2019 12:49:24 +0200   \n",
       "1227  Wed, 03 Apr 2019 12:43:44 +0200   \n",
       "1228  Wed, 03 Apr 2019 07:43:18 +0200   \n",
       "1229  Wed, 03 Apr 2019 08:36:06 +0200   \n",
       "1230  Wed, 03 Apr 2019 08:26:57 +0200   \n",
       "1231  Wed, 03 Apr 2019 07:31:21 +0200   \n",
       "1232  Wed, 03 Apr 2019 08:11:59 +0200   \n",
       "1233  Wed, 03 Apr 2019 06:10:40 +0200   \n",
       "1234  Wed, 03 Apr 2019 08:30:16 +0200   \n",
       "1235  Wed, 03 Apr 2019 02:26:23 +0200   \n",
       "1236  Wed, 03 Apr 2019 06:17:03 +0200   \n",
       "1237  Wed, 03 Apr 2019 08:50:33 +0200   \n",
       "1238  Wed, 03 Apr 2019 07:36:00 +0200   \n",
       "1239  Wed, 03 Apr 2019 07:13:18 +0200   \n",
       "1240  Wed, 03 Apr 2019 06:51:09 +0200   \n",
       "\n",
       "                                                  title  \\\n",
       "0           Joe Biden: Vom Hoffnungsträger zum Problem?   \n",
       "1                   Brexit: Das Ende naht – tut es das?   \n",
       "2         EU: Risiko eines Chaos-Brexits wächst täglich   \n",
       "3     Venezuelas Oppositionschef Guaidó soll die Imm...   \n",
       "4     Alle Alternativen zu Mays Brexit-Vertrag schei...   \n",
       "5     Nach der Wahl in der Türkei: Risse im System E...   \n",
       "6             Interview mit Schwedens Ministerpräsident   \n",
       "7     „Angriff auf die Republik“: Sprengsätze kurz v...   \n",
       "8     Mehrheit der Deutschen lehnt gendergerechte Sp...   \n",
       "9     Sultanat Brunei: Homosexuellen droht nun die T...   \n",
       "10    Bayerns Volksbegehren für Artenschutz soll Ges...   \n",
       "11         Brexiteers wettern gegen Mays neue Strategie   \n",
       "12                 Kurz und die FPÖ: An die kurze Leine   \n",
       "13      Algeriens Armee drängt Bouteflika zum Rücktritt   \n",
       "14    Amerikanischer Präsident: Trump verwechselt se...   \n",
       "15               Lori Lightfoot: Chicagos neue Hoffnung   \n",
       "16    Justin Trudeau wirft zwei Ex-Ministerinnen aus...   \n",
       "17    Budget der Bundeswehr steigt, doch Kritik hält an   \n",
       "18          Joe Biden: Vom Hoffnungsträger zum Problem?   \n",
       "19                  Brexit: Das Ende naht – tut es das?   \n",
       "20        EU: Risiko eines Chaos-Brexits wächst täglich   \n",
       "21    Venezuelas Oppositionschef Guaidó soll die Imm...   \n",
       "22    Alle Alternativen zu Mays Brexit-Vertrag schei...   \n",
       "23    Nach der Wahl in der Türkei: Risse im System E...   \n",
       "24            Interview mit Schwedens Ministerpräsident   \n",
       "25    „Angriff auf die Republik“: Sprengsätze kurz v...   \n",
       "26    Mehrheit der Deutschen lehnt gendergerechte Sp...   \n",
       "27                 Kurz und die FPÖ: An die kurze Leine   \n",
       "28    Amerikanischer Präsident: Trump verwechselt se...   \n",
       "29               Lori Lightfoot: Chicagos neue Hoffnung   \n",
       "...                                                 ...   \n",
       "1211  Wenn der Wald stirbt: Gegen Käfer, Dürre und H...   \n",
       "1212  Gewetterter Sand als Emblem einer Nation: Das ...   \n",
       "1213  Die Prognosen für Italiens Wirtschaftswachstum...   \n",
       "1214  Ingenieure warnen vor Desaster mit Künstlicher...   \n",
       "1215  Brexit-Gespräche: May hofft auf Schulterschlus...   \n",
       "1216  Franz Müntefering im Gespräch: „Sich nur über ...   \n",
       "1217  Heidenheim-Trainer Schmidt über das DFB-Pokals...   \n",
       "1218       Brief aus Istanbul: Der Fall des Hochmütigen   \n",
       "1219     Debatte um Vereinbarkeit von Familie und Beruf   \n",
       "1220  Staatsanwaltschaft ermittelt wegen „Bildung ei...   \n",
       "1221  Stefan Horngacher wird neuer deutscher Skispru...   \n",
       "1222  Kölner findet Zwillingsauto mit identischem Ke...   \n",
       "1223  Gerichtsurteil in Frankfurt: Kein Schadenersat...   \n",
       "1224  Neue griechische Küche: Von wegen heiß und fettig   \n",
       "1225           Professionelle Baumhäuser für den Garten   \n",
       "1226  Regierungseinfluss auf Richter: EU leitet neue...   \n",
       "1227  Piloten handelten bei 737-Max-Absturz angeblic...   \n",
       "1228  Nach Grindels Rücktritt: Zeit für eine Revolut...   \n",
       "1229  Wie Sicherheitsexperten den Autopiloten von Te...   \n",
       "1230               Kurz und die FPÖ: An die kurze Leine   \n",
       "1231  Amerikanischer Präsident: Trump verwechselt se...   \n",
       "1232  Pokalduell in Augsburg: Reuter ist nach Leipzi...   \n",
       "1233   Toyota plant für den Abschied vom Hybrid-Antrieb   \n",
       "1234  In Deutschland gibt es so viele Studenten ohne...   \n",
       "1235  Hydraulikprobleme: A380 der Lufthansa muss umk...   \n",
       "1236  FAZ.NET-Sprinter: John, Paul, George und Ringo...   \n",
       "1237  Stephen Kings Roman „Friedhof der Kuscheltiere...   \n",
       "1238  Der Moment, in dem ich mich zum ersten Mal fre...   \n",
       "1239  Wie die Deutsche Bank Federn im Investmentbank...   \n",
       "1240          Frankreich streitet um die Rundfunkgebühr   \n",
       "\n",
       "                                               detailed    label  \n",
       "0     Für viele Amerikaner ein vertrauter Politiker:...  politik  \n",
       "1     Eine Brexit-Anhängerin vor dem Parlament in Lo...  politik  \n",
       "2     Michel BarnierWieder hat das britische Unterha...  politik  \n",
       "3     Juan Guaido (hier am Montag in der Universität...  politik  \n",
       "4     Am britischen Parlament scheint eine Projektio...  politik  \n",
       "5     Flagge zeigen: Die Kommunalwahl ist ein wichti...  politik  \n",
       "6     Der schwedische Ministerpräsident Stefan Löfve...  politik  \n",
       "7     Donnerstag reist er nach Korsika: Emmanuel Mac...  politik  \n",
       "8     Wort mit Sternchen: Wird gendergerechte Sprach...  politik  \n",
       "9     Der Sultan von Brunei Hassanal Bolkiah herrsch...  politik  \n",
       "10    Demo für den Bienenschutz in München im Februa...  politik  \n",
       "11    Boris Johnson wirft May vor, „die endgültige A...  politik  \n",
       "12    Dicke Luft: Sebastian Kurz mit Vizekanzler Hei...  politik  \n",
       "13    Kopie von 59093905Der algerische Präsident Abd...  politik  \n",
       "14    Verwechselt: Donald TrumpSein Vater sei Deutsc...  politik  \n",
       "15    Chicagos neue Bürgermeisterin Lori LightfootAl...  politik  \n",
       "16    Kanadas Regierungschef Justin TrudeauAus Prote...  politik  \n",
       "17    Der Schützenpanzer „Marder“ fährt beim Manöver...  politik  \n",
       "18    Für viele Amerikaner ein vertrauter Politiker:...  politik  \n",
       "19    Eine Brexit-Anhängerin vor dem Parlament in Lo...  politik  \n",
       "20    Michel BarnierWieder hat das britische Unterha...  politik  \n",
       "21    Juan Guaido (hier am Montag in der Universität...  politik  \n",
       "22    Am britischen Parlament scheint eine Projektio...  politik  \n",
       "23    Flagge zeigen: Die Kommunalwahl ist ein wichti...  politik  \n",
       "24    Der schwedische Ministerpräsident Stefan Löfve...  politik  \n",
       "25    Donnerstag reist er nach Korsika: Emmanuel Mac...  politik  \n",
       "26    Wort mit Sternchen: Wird gendergerechte Sprach...  politik  \n",
       "27    Dicke Luft: Sebastian Kurz mit Vizekanzler Hei...  politik  \n",
       "28    Verwechselt: Donald TrumpSein Vater sei Deutsc...  politik  \n",
       "29    Chicagos neue Bürgermeisterin Lori LightfootAl...  politik  \n",
       "...                                                 ...      ...  \n",
       "1211  59066638Erst allmählich wird deutlich, wie seh...  aktuell  \n",
       "1212  Blick auf das neue Nationalmuseum von Katar am...  aktuell  \n",
       "1213  Gucken ja, aber auch kaufen? Italien steuert a...  aktuell  \n",
       "1214  Der VDI, der rund 140.000 Ingenieure in Deutsc...  aktuell  \n",
       "1215  Theresa May setzt mit ihren Gesprächen mit der...  aktuell  \n",
       "1216  Franz Müntefering und der damalige Bundeskanzl...  aktuell  \n",
       "1217  Ein Mann mit klarer Linie: Heidenheim-Trainer ...  aktuell  \n",
       "1218  Nach einer Ansprache zu den Kommunalwahlen ver...  aktuell  \n",
       "1219  Ein Mädchen legt seinen Kopf auf den Tisch.Red...  aktuell  \n",
       "1220  Mitglieder des Künstlerkollektivs ZPS stehen i...  aktuell  \n",
       "1221  Stefan Horngacher in seiner Funktion als Train...  aktuell  \n",
       "1222  Der VW Polo von Taxiunternehmer Adem Altay ste...  aktuell  \n",
       "1223  Beim Ballspielen brach sich ein junger Hund de...  aktuell  \n",
       "1224  Aufgetischt: Das Restaurant Cookoovaya servier...  aktuell  \n",
       "1225  Ein Baumhaus von BaumbaronKinder lieben Baumhä...  aktuell  \n",
       "1226  Vize-Kommissionspräsident Frans Timmermans am ...  aktuell  \n",
       "1227  Eine Boeing 737 Max bei einem Testflug in den ...  aktuell  \n",
       "1228  Bisher galten bei der Wahl eines neuen DFB-Prä...  aktuell  \n",
       "1229  Stoßzeit in Los Angeles: Der Autopilot steuert...  aktuell  \n",
       "1230  Dicke Luft: Sebastian Kurz mit Vizekanzler Hei...  aktuell  \n",
       "1231  Verwechselt: Donald TrumpSein Vater sei Deutsc...  aktuell  \n",
       "1232  Nicht nur in den Katakomben des Stadions gab e...  aktuell  \n",
       "1233  Ein Prius des japanischen Herstellers ToyotaKl...  aktuell  \n",
       "1234  Ein Hörsaal voller Medizinstudenten – manche v...  aktuell  \n",
       "1235  Ein A380 der Lufthansa in FrankfurtEine Luftha...  aktuell  \n",
       "1236  Unser Sprinter-Autor: Thomas HollIm britischen...  aktuell  \n",
       "1237  Teaser Bild für Filmkritik „Friedhof der Kusch...  aktuell  \n",
       "1238  Unsere Autorin ging noch in die Grundschule, a...  aktuell  \n",
       "1239  Die beiden Türme der Deutsche Bank AG in Frank...  aktuell  \n",
       "1240  Gelbwesten verfolgen eine Fernsehansprache des...  aktuell  \n",
       "\n",
       "[1241 rows x 5 columns]"
      ]
     },
     "execution_count": 31,
     "metadata": {},
     "output_type": "execute_result"
    }
   ],
   "source": [
    "faz_test"
   ]
  },
  {
   "cell_type": "code",
   "execution_count": 32,
   "metadata": {},
   "outputs": [],
   "source": [
    "faz_test = faz_test.drop_duplicates()"
   ]
  },
  {
   "cell_type": "markdown",
   "metadata": {},
   "source": [
    "---"
   ]
  },
  {
   "cell_type": "code",
   "execution_count": 33,
   "metadata": {},
   "outputs": [
    {
     "data": {
      "text/plain": [
       "link         40\n",
       "published    40\n",
       "title        40\n",
       "detailed     40\n",
       "label        40\n",
       "dtype: int64"
      ]
     },
     "execution_count": 33,
     "metadata": {},
     "output_type": "execute_result"
    }
   ],
   "source": [
    "test_pol = faz_test[faz_test.label == 'politik']\n",
    "test_pol.count()"
   ]
  },
  {
   "cell_type": "code",
   "execution_count": 34,
   "metadata": {},
   "outputs": [
    {
     "data": {
      "text/plain": [
       "link         348\n",
       "published    348\n",
       "title        348\n",
       "detailed     348\n",
       "label        348\n",
       "dtype: int64"
      ]
     },
     "execution_count": 34,
     "metadata": {},
     "output_type": "execute_result"
    }
   ],
   "source": [
    "test_rest = faz_test[faz_test.label != 'politik']\n",
    "test_rest.count()"
   ]
  },
  {
   "cell_type": "code",
   "execution_count": 35,
   "metadata": {},
   "outputs": [
    {
     "data": {
      "text/plain": [
       "0.11494252873563218"
      ]
     },
     "execution_count": 35,
     "metadata": {},
     "output_type": "execute_result"
    }
   ],
   "source": [
    "40/348"
   ]
  },
  {
   "cell_type": "code",
   "execution_count": 36,
   "metadata": {},
   "outputs": [],
   "source": [
    "test_pol_buzzword = []\n",
    "\n",
    "for index, row in test_pol.iterrows():\n",
    "    new_line = np.zeros(300)\n",
    "    words = list(row['detailed'].split(' '))\n",
    "    for word in words:\n",
    "        if word in dictionary:\n",
    "            new_line[dictionary[word]] += 1\n",
    "    test_pol_buzzword.append(new_line)"
   ]
  },
  {
   "cell_type": "code",
   "execution_count": 37,
   "metadata": {},
   "outputs": [],
   "source": [
    "df3 = pd.DataFrame(test_pol_buzzword, columns=feature_list)"
   ]
  },
  {
   "cell_type": "code",
   "execution_count": 38,
   "metadata": {},
   "outputs": [],
   "source": [
    "df3['goal_val'] = 1"
   ]
  },
  {
   "cell_type": "code",
   "execution_count": 39,
   "metadata": {},
   "outputs": [],
   "source": [
    "test_rest_buzzword = []\n",
    "\n",
    "for index, row in test_rest.iterrows():\n",
    "    new_line = np.zeros(300)\n",
    "    words = list(row['detailed'].split(' '))\n",
    "    for word in words:\n",
    "        if word in dictionary:\n",
    "            new_line[dictionary[word]] += 1\n",
    "    test_rest_buzzword.append(new_line)"
   ]
  },
  {
   "cell_type": "code",
   "execution_count": 40,
   "metadata": {},
   "outputs": [],
   "source": [
    "df4 = pd.DataFrame(test_rest_buzzword, columns=feature_list)"
   ]
  },
  {
   "cell_type": "code",
   "execution_count": 41,
   "metadata": {},
   "outputs": [],
   "source": [
    "df4['goal_val'] = 0"
   ]
  },
  {
   "cell_type": "code",
   "execution_count": 42,
   "metadata": {},
   "outputs": [],
   "source": [
    "test_tables = [df3, df4]\n",
    "top_test_data = pd.concat(test_tables)"
   ]
  },
  {
   "cell_type": "markdown",
   "metadata": {},
   "source": [
    "---\n",
    "**saving the data frames to a .csv file:**"
   ]
  },
  {
   "cell_type": "code",
   "execution_count": 43,
   "metadata": {},
   "outputs": [
    {
     "name": "stdout",
     "output_type": "stream",
     "text": [
      "Pathname: ../data_frames/test_data\n"
     ]
    }
   ],
   "source": [
    "name = 'test_data'\n",
    "\n",
    "path = \"../data_frames/\" + name\n",
    "print(\"Pathname:\", path)"
   ]
  },
  {
   "cell_type": "code",
   "execution_count": 44,
   "metadata": {},
   "outputs": [],
   "source": [
    "top_test_data.to_csv(path, index=False)"
   ]
  },
  {
   "cell_type": "markdown",
   "metadata": {},
   "source": [
    "---"
   ]
  }
 ],
 "metadata": {
  "kernelspec": {
   "display_name": "Python 3",
   "language": "python",
   "name": "python3"
  },
  "language_info": {
   "codemirror_mode": {
    "name": "ipython",
    "version": 3
   },
   "file_extension": ".py",
   "mimetype": "text/x-python",
   "name": "python",
   "nbconvert_exporter": "python",
   "pygments_lexer": "ipython3",
   "version": "3.6.8"
  }
 },
 "nbformat": 4,
 "nbformat_minor": 2
}
