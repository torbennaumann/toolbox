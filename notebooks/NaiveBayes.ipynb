{
 "cells": [
  {
   "cell_type": "markdown",
   "metadata": {},
   "source": [
    "# Using Naive Bayes to classify the articles:"
   ]
  },
  {
   "cell_type": "code",
   "execution_count": 1,
   "metadata": {},
   "outputs": [],
   "source": [
    "import pandas as pd\n",
    "from sklearn.feature_extraction.text import CountVectorizer, TfidfVectorizer\n",
    "from sklearn.model_selection import train_test_split\n",
    "from sklearn.naive_bayes import MultinomialNB\n",
    "from sklearn.metrics import accuracy_score, recall_score, precision_score, f1_score\n",
    "from sklearn import linear_model\n",
    "from sklearn.linear_model import LogisticRegression\n",
    "from sklearn.pipeline import FeatureUnion\n",
    "\n",
    "import pandas as pd\n",
    "import numpy as np\n",
    "import glob\n",
    "import re\n",
    "import string\n",
    "import datetime"
   ]
  },
  {
   "cell_type": "code",
   "execution_count": 2,
   "metadata": {},
   "outputs": [],
   "source": [
    "category = {\n",
    "    1: 'politik', 2: 'wirtschaft', 3: 'finanzen', 4: 'feuilleton', 5: 'sport', 6: 'gesellschaft', 7: 'stil', \n",
    "    8: 'technik-motor', 9: 'wissen', 10: 'reise', 11: 'beruf-chance'\n",
    "}"
   ]
  },
  {
   "cell_type": "code",
   "execution_count": 3,
   "metadata": {},
   "outputs": [],
   "source": [
    "def train_tables(category):\n",
    "    raw_train = []\n",
    "    if category is 'aktuell':\n",
    "        path = f\"../new_data/aktuell/\"\n",
    "    else:\n",
    "        path = f\"../new_data/{category}/\"\n",
    "        \n",
    "    all_files = glob.glob(path + '*.csv')\n",
    "\n",
    "    for filename in all_files:\n",
    "        df = pd.read_csv(filename, index_col=None, header=0)\n",
    "        raw_train.append(df)\n",
    "    faz_articles = pd.concat(raw_train, axis=0, ignore_index=True)\n",
    "    faz_articles['label'] = category\n",
    "\n",
    "    return faz_articles\n",
    "\n",
    "def test_tables(category):\n",
    "    raw_test = []\n",
    "    if category is 'aktuell':\n",
    "        path = f\"../data/aktuell/\"\n",
    "    else:\n",
    "        path = f\"../data/{category}/\"\n",
    "        \n",
    "    all_files = glob.glob(path + '*.csv')\n",
    "\n",
    "    for filename in all_files:\n",
    "        df = pd.read_csv(filename, index_col=None, header=0)\n",
    "        raw_test.append(df)\n",
    "    faz_article = pd.concat(raw_test, axis=0, ignore_index=True)\n",
    "    faz_article['label'] = category\n",
    "\n",
    "    return faz_article"
   ]
  },
  {
   "cell_type": "markdown",
   "metadata": {},
   "source": [
    "---\n",
    "---\n",
    "# Generate Test and Train Data\n",
    "\n",
    "**This for-loop goes through the data frames built in the first step and then collects the words from each entry in a list.**\n",
    "\n",
    "## Train Data ['detailed']:"
   ]
  },
  {
   "cell_type": "code",
   "execution_count": 4,
   "metadata": {},
   "outputs": [],
   "source": [
    "frames = []\n",
    "\n",
    "for key, value in category.items():\n",
    "    raw_faz = train_tables(value)\n",
    "    frames.append(raw_faz)\n",
    "    faz_train = pd.concat(frames, axis=0, ignore_index=True)"
   ]
  },
  {
   "cell_type": "code",
   "execution_count": 5,
   "metadata": {},
   "outputs": [],
   "source": [
    "faz_train = faz_train.drop_duplicates()"
   ]
  },
  {
   "cell_type": "code",
   "execution_count": 6,
   "metadata": {},
   "outputs": [
    {
     "name": "stderr",
     "output_type": "stream",
     "text": [
      "/anaconda3/envs/toolbox/lib/python3.6/site-packages/ipykernel_launcher.py:2: SettingWithCopyWarning: \n",
      "A value is trying to be set on a copy of a slice from a DataFrame.\n",
      "Try using .loc[row_indexer,col_indexer] = value instead\n",
      "\n",
      "See the caveats in the documentation: http://pandas.pydata.org/pandas-docs/stable/indexing.html#indexing-view-versus-copy\n",
      "  \n",
      "/anaconda3/envs/toolbox/lib/python3.6/site-packages/ipykernel_launcher.py:5: SettingWithCopyWarning: \n",
      "A value is trying to be set on a copy of a slice from a DataFrame.\n",
      "Try using .loc[row_indexer,col_indexer] = value instead\n",
      "\n",
      "See the caveats in the documentation: http://pandas.pydata.org/pandas-docs/stable/indexing.html#indexing-view-versus-copy\n",
      "  \"\"\"\n",
      "/anaconda3/envs/toolbox/lib/python3.6/site-packages/ipykernel_launcher.py:8: SettingWithCopyWarning: \n",
      "A value is trying to be set on a copy of a slice from a DataFrame.\n",
      "Try using .loc[row_indexer,col_indexer] = value instead\n",
      "\n",
      "See the caveats in the documentation: http://pandas.pydata.org/pandas-docs/stable/indexing.html#indexing-view-versus-copy\n",
      "  \n"
     ]
    }
   ],
   "source": [
    "faz_pol = faz_train[faz_train.label == 'politik']\n",
    "faz_pol['goal_val'] = 1\n",
    "\n",
    "faz_sport = faz_train[faz_train.label == 'sport']\n",
    "faz_sport['goal_val'] = 2\n",
    "\n",
    "faz_eco = faz_train[faz_train.label == 'wirtschaft']\n",
    "faz_eco['goal_val'] = 3\n"
   ]
  },
  {
   "cell_type": "code",
   "execution_count": 7,
   "metadata": {},
   "outputs": [],
   "source": [
    "faz_train_2 = faz_train.copy()\n",
    "\n",
    "faz_train_2 = faz_train_2[faz_train_2.label != 'politik']\n",
    "faz_train_2 = faz_train_2[faz_train_2.label != 'sport']\n",
    "faz_train_2 = faz_train_2[faz_train_2.label != 'wirtschaft']\n",
    "faz_rem = faz_train_2\n",
    "\n",
    "faz_rem['goal_val'] = 0"
   ]
  },
  {
   "cell_type": "code",
   "execution_count": 8,
   "metadata": {},
   "outputs": [
    {
     "data": {
      "text/html": [
       "<div>\n",
       "<style scoped>\n",
       "    .dataframe tbody tr th:only-of-type {\n",
       "        vertical-align: middle;\n",
       "    }\n",
       "\n",
       "    .dataframe tbody tr th {\n",
       "        vertical-align: top;\n",
       "    }\n",
       "\n",
       "    .dataframe thead th {\n",
       "        text-align: right;\n",
       "    }\n",
       "</style>\n",
       "<table border=\"1\" class=\"dataframe\">\n",
       "  <thead>\n",
       "    <tr style=\"text-align: right;\">\n",
       "      <th></th>\n",
       "      <th>link</th>\n",
       "      <th>published</th>\n",
       "      <th>title</th>\n",
       "      <th>detailed</th>\n",
       "      <th>label</th>\n",
       "      <th>goal_val</th>\n",
       "    </tr>\n",
       "  </thead>\n",
       "  <tbody>\n",
       "    <tr>\n",
       "      <th>0</th>\n",
       "      <td>https://www.faz.net/aktuell/politik/ausland/na...</td>\n",
       "      <td>Mon, 08 Apr 2019 20:52:28 +0200</td>\n",
       "      <td>Nach Heimatschutzministerin geht in Amerika au...</td>\n",
       "      <td>Randolph Alles auf einer Pressekonferenz am 26...</td>\n",
       "      <td>politik</td>\n",
       "      <td>1</td>\n",
       "    </tr>\n",
       "    <tr>\n",
       "      <th>1</th>\n",
       "      <td>https://www.faz.net/aktuell/politik/trumps-pra...</td>\n",
       "      <td>Mon, 08 Apr 2019 20:59:02 +0200</td>\n",
       "      <td>Freiwillig oder nicht? Ministerin verlässt Tru...</td>\n",
       "      <td>Nicht immer einer Meinung: Nielsen und Trump i...</td>\n",
       "      <td>politik</td>\n",
       "      <td>1</td>\n",
       "    </tr>\n",
       "    <tr>\n",
       "      <th>2</th>\n",
       "      <td>https://www.faz.net/aktuell/politik/ausland/eu...</td>\n",
       "      <td>Mon, 08 Apr 2019 19:57:02 +0200</td>\n",
       "      <td>Europäische Rechtspopulisten planen neue Frakt...</td>\n",
       "      <td>Nationalistische Internationale: Kotro, Meuthe...</td>\n",
       "      <td>politik</td>\n",
       "      <td>1</td>\n",
       "    </tr>\n",
       "    <tr>\n",
       "      <th>3</th>\n",
       "      <td>https://www.faz.net/aktuell/brexit/brexit-aufs...</td>\n",
       "      <td>Mon, 08 Apr 2019 20:30:09 +0200</td>\n",
       "      <td>Abstimmung zum Brexit-Aufschub: Londoner Börse...</td>\n",
       "      <td>Brexit-Gegner demonstrieren am Montag in Londo...</td>\n",
       "      <td>politik</td>\n",
       "      <td>1</td>\n",
       "    </tr>\n",
       "    <tr>\n",
       "      <th>4</th>\n",
       "      <td>https://www.faz.net/aktuell/politik/ausland/di...</td>\n",
       "      <td>Mon, 08 Apr 2019 19:04:29 +0200</td>\n",
       "      <td>Die Ergebnisse von Macrons Bürgerdialog</td>\n",
       "      <td>Frankreichs Premierminister Edouard Philippe a...</td>\n",
       "      <td>politik</td>\n",
       "      <td>1</td>\n",
       "    </tr>\n",
       "  </tbody>\n",
       "</table>\n",
       "</div>"
      ],
      "text/plain": [
       "                                                link  \\\n",
       "0  https://www.faz.net/aktuell/politik/ausland/na...   \n",
       "1  https://www.faz.net/aktuell/politik/trumps-pra...   \n",
       "2  https://www.faz.net/aktuell/politik/ausland/eu...   \n",
       "3  https://www.faz.net/aktuell/brexit/brexit-aufs...   \n",
       "4  https://www.faz.net/aktuell/politik/ausland/di...   \n",
       "\n",
       "                         published  \\\n",
       "0  Mon, 08 Apr 2019 20:52:28 +0200   \n",
       "1  Mon, 08 Apr 2019 20:59:02 +0200   \n",
       "2  Mon, 08 Apr 2019 19:57:02 +0200   \n",
       "3  Mon, 08 Apr 2019 20:30:09 +0200   \n",
       "4  Mon, 08 Apr 2019 19:04:29 +0200   \n",
       "\n",
       "                                               title  \\\n",
       "0  Nach Heimatschutzministerin geht in Amerika au...   \n",
       "1  Freiwillig oder nicht? Ministerin verlässt Tru...   \n",
       "2  Europäische Rechtspopulisten planen neue Frakt...   \n",
       "3  Abstimmung zum Brexit-Aufschub: Londoner Börse...   \n",
       "4            Die Ergebnisse von Macrons Bürgerdialog   \n",
       "\n",
       "                                            detailed    label  goal_val  \n",
       "0  Randolph Alles auf einer Pressekonferenz am 26...  politik         1  \n",
       "1  Nicht immer einer Meinung: Nielsen und Trump i...  politik         1  \n",
       "2  Nationalistische Internationale: Kotro, Meuthe...  politik         1  \n",
       "3  Brexit-Gegner demonstrieren am Montag in Londo...  politik         1  \n",
       "4  Frankreichs Premierminister Edouard Philippe a...  politik         1  "
      ]
     },
     "execution_count": 8,
     "metadata": {},
     "output_type": "execute_result"
    }
   ],
   "source": [
    "train_conc = [faz_pol,faz_sport,faz_eco,faz_rem]\n",
    "train = pd.concat(train_conc)\n",
    "train.head()"
   ]
  },
  {
   "cell_type": "code",
   "execution_count": 9,
   "metadata": {},
   "outputs": [],
   "source": [
    "#train.title[0]"
   ]
  },
  {
   "cell_type": "code",
   "execution_count": 10,
   "metadata": {},
   "outputs": [
    {
     "data": {
      "text/html": [
       "<div>\n",
       "<style scoped>\n",
       "    .dataframe tbody tr th:only-of-type {\n",
       "        vertical-align: middle;\n",
       "    }\n",
       "\n",
       "    .dataframe tbody tr th {\n",
       "        vertical-align: top;\n",
       "    }\n",
       "\n",
       "    .dataframe thead th {\n",
       "        text-align: right;\n",
       "    }\n",
       "</style>\n",
       "<table border=\"1\" class=\"dataframe\">\n",
       "  <thead>\n",
       "    <tr style=\"text-align: right;\">\n",
       "      <th></th>\n",
       "      <th>detailed</th>\n",
       "      <th>goal_val</th>\n",
       "    </tr>\n",
       "  </thead>\n",
       "  <tbody>\n",
       "    <tr>\n",
       "      <th>0</th>\n",
       "      <td>Randolph Alles auf einer Pressekonferenz am 26...</td>\n",
       "      <td>1</td>\n",
       "    </tr>\n",
       "    <tr>\n",
       "      <th>1</th>\n",
       "      <td>Nicht immer einer Meinung: Nielsen und Trump i...</td>\n",
       "      <td>1</td>\n",
       "    </tr>\n",
       "    <tr>\n",
       "      <th>2</th>\n",
       "      <td>Nationalistische Internationale: Kotro, Meuthe...</td>\n",
       "      <td>1</td>\n",
       "    </tr>\n",
       "    <tr>\n",
       "      <th>3</th>\n",
       "      <td>Brexit-Gegner demonstrieren am Montag in Londo...</td>\n",
       "      <td>1</td>\n",
       "    </tr>\n",
       "    <tr>\n",
       "      <th>4</th>\n",
       "      <td>Frankreichs Premierminister Edouard Philippe a...</td>\n",
       "      <td>1</td>\n",
       "    </tr>\n",
       "  </tbody>\n",
       "</table>\n",
       "</div>"
      ],
      "text/plain": [
       "                                            detailed  goal_val\n",
       "0  Randolph Alles auf einer Pressekonferenz am 26...         1\n",
       "1  Nicht immer einer Meinung: Nielsen und Trump i...         1\n",
       "2  Nationalistische Internationale: Kotro, Meuthe...         1\n",
       "3  Brexit-Gegner demonstrieren am Montag in Londo...         1\n",
       "4  Frankreichs Premierminister Edouard Philippe a...         1"
      ]
     },
     "execution_count": 10,
     "metadata": {},
     "output_type": "execute_result"
    }
   ],
   "source": [
    "train_detailed = train.drop(columns=['link', 'published','title','label'])\n",
    "train_detailed.head()"
   ]
  },
  {
   "cell_type": "markdown",
   "metadata": {},
   "source": [
    "## Train Data ['title']:"
   ]
  },
  {
   "cell_type": "code",
   "execution_count": 11,
   "metadata": {},
   "outputs": [
    {
     "data": {
      "text/html": [
       "<div>\n",
       "<style scoped>\n",
       "    .dataframe tbody tr th:only-of-type {\n",
       "        vertical-align: middle;\n",
       "    }\n",
       "\n",
       "    .dataframe tbody tr th {\n",
       "        vertical-align: top;\n",
       "    }\n",
       "\n",
       "    .dataframe thead th {\n",
       "        text-align: right;\n",
       "    }\n",
       "</style>\n",
       "<table border=\"1\" class=\"dataframe\">\n",
       "  <thead>\n",
       "    <tr style=\"text-align: right;\">\n",
       "      <th></th>\n",
       "      <th>title</th>\n",
       "      <th>goal_val</th>\n",
       "    </tr>\n",
       "  </thead>\n",
       "  <tbody>\n",
       "    <tr>\n",
       "      <th>18125</th>\n",
       "      <td>Gegen den Trend: Mehr Frauen machen sich selbs...</td>\n",
       "      <td>0</td>\n",
       "    </tr>\n",
       "    <tr>\n",
       "      <th>18369</th>\n",
       "      <td>Der Handwerk-Gehaltsatlas: Gefragt – aber nich...</td>\n",
       "      <td>0</td>\n",
       "    </tr>\n",
       "    <tr>\n",
       "      <th>18379</th>\n",
       "      <td>Alibaba-Gründer Jack Ma: „Die 72 Stunden-Woche...</td>\n",
       "      <td>0</td>\n",
       "    </tr>\n",
       "    <tr>\n",
       "      <th>18669</th>\n",
       "      <td>Karliczek stellt Bericht vor: So steht es um d...</td>\n",
       "      <td>0</td>\n",
       "    </tr>\n",
       "    <tr>\n",
       "      <th>18859</th>\n",
       "      <td>Kuriose Stellenanzeigen: Wenn Arbeitgeber über...</td>\n",
       "      <td>0</td>\n",
       "    </tr>\n",
       "  </tbody>\n",
       "</table>\n",
       "</div>"
      ],
      "text/plain": [
       "                                                   title  goal_val\n",
       "18125  Gegen den Trend: Mehr Frauen machen sich selbs...         0\n",
       "18369  Der Handwerk-Gehaltsatlas: Gefragt – aber nich...         0\n",
       "18379  Alibaba-Gründer Jack Ma: „Die 72 Stunden-Woche...         0\n",
       "18669  Karliczek stellt Bericht vor: So steht es um d...         0\n",
       "18859  Kuriose Stellenanzeigen: Wenn Arbeitgeber über...         0"
      ]
     },
     "execution_count": 11,
     "metadata": {},
     "output_type": "execute_result"
    }
   ],
   "source": [
    "train_titles = train.drop(columns=['link', 'published','detailed','label'])\n",
    "train_titles.tail()"
   ]
  },
  {
   "cell_type": "code",
   "execution_count": 12,
   "metadata": {},
   "outputs": [],
   "source": [
    "train_titles = train_titles.rename(index=str, columns={\"title\": \"detailed\"})"
   ]
  },
  {
   "cell_type": "code",
   "execution_count": 13,
   "metadata": {},
   "outputs": [],
   "source": [
    "combined = [train_detailed,train_titles]\n",
    "train_tot = pd.concat(combined)"
   ]
  },
  {
   "cell_type": "code",
   "execution_count": 14,
   "metadata": {},
   "outputs": [],
   "source": [
    "X_train = train['detailed']\n",
    "X_train_title = train_titles['detailed']\n",
    "X_train_tot = train_tot['detailed']"
   ]
  },
  {
   "cell_type": "code",
   "execution_count": 15,
   "metadata": {},
   "outputs": [],
   "source": [
    "y_train = train['goal_val']\n",
    "y_train_title = train_titles['goal_val']\n",
    "y_train_tot = train_tot['goal_val']"
   ]
  },
  {
   "cell_type": "markdown",
   "metadata": {},
   "source": [
    "## Test Data['detailed']:"
   ]
  },
  {
   "cell_type": "code",
   "execution_count": 16,
   "metadata": {},
   "outputs": [],
   "source": [
    "frames = []\n",
    "\n",
    "for key, value in category.items():\n",
    "    raw_faz = test_tables(value)\n",
    "    frames.append(raw_faz)\n",
    "    faz_test = pd.concat(frames, axis=0, ignore_index=True)"
   ]
  },
  {
   "cell_type": "code",
   "execution_count": 17,
   "metadata": {},
   "outputs": [],
   "source": [
    "faz_test = faz_test.drop_duplicates()"
   ]
  },
  {
   "cell_type": "code",
   "execution_count": 18,
   "metadata": {},
   "outputs": [
    {
     "name": "stderr",
     "output_type": "stream",
     "text": [
      "/anaconda3/envs/toolbox/lib/python3.6/site-packages/ipykernel_launcher.py:2: SettingWithCopyWarning: \n",
      "A value is trying to be set on a copy of a slice from a DataFrame.\n",
      "Try using .loc[row_indexer,col_indexer] = value instead\n",
      "\n",
      "See the caveats in the documentation: http://pandas.pydata.org/pandas-docs/stable/indexing.html#indexing-view-versus-copy\n",
      "  \n",
      "/anaconda3/envs/toolbox/lib/python3.6/site-packages/ipykernel_launcher.py:5: SettingWithCopyWarning: \n",
      "A value is trying to be set on a copy of a slice from a DataFrame.\n",
      "Try using .loc[row_indexer,col_indexer] = value instead\n",
      "\n",
      "See the caveats in the documentation: http://pandas.pydata.org/pandas-docs/stable/indexing.html#indexing-view-versus-copy\n",
      "  \"\"\"\n",
      "/anaconda3/envs/toolbox/lib/python3.6/site-packages/ipykernel_launcher.py:8: SettingWithCopyWarning: \n",
      "A value is trying to be set on a copy of a slice from a DataFrame.\n",
      "Try using .loc[row_indexer,col_indexer] = value instead\n",
      "\n",
      "See the caveats in the documentation: http://pandas.pydata.org/pandas-docs/stable/indexing.html#indexing-view-versus-copy\n",
      "  \n"
     ]
    }
   ],
   "source": [
    "faz_pol_t = faz_test[faz_test.label == 'politik']\n",
    "faz_pol_t['goal_val'] = 1\n",
    "\n",
    "faz_sport_t = faz_test[faz_test.label == 'sport']\n",
    "faz_sport_t['goal_val'] = 2\n",
    "\n",
    "faz_eco_t = faz_test[faz_test.label == 'wirtschaft']\n",
    "faz_eco_t['goal_val'] = 3"
   ]
  },
  {
   "cell_type": "code",
   "execution_count": 19,
   "metadata": {},
   "outputs": [],
   "source": [
    "faz_test_2 = faz_test.copy()\n",
    "\n",
    "faz_test_2 = faz_test_2[faz_test_2.label != 'politik']\n",
    "faz_test_2 = faz_test_2[faz_test_2.label != 'sport']\n",
    "faz_test_2 = faz_test_2[faz_test_2.label != 'wirtschaft']\n",
    "faz_rem_t = faz_test_2\n",
    "\n",
    "faz_rem_t['goal_val'] = 0"
   ]
  },
  {
   "cell_type": "code",
   "execution_count": 20,
   "metadata": {},
   "outputs": [],
   "source": [
    "test_conc = [faz_pol_t,faz_sport_t,faz_eco_t,faz_rem_t]\n",
    "test = pd.concat(test_conc) "
   ]
  },
  {
   "cell_type": "code",
   "execution_count": 21,
   "metadata": {},
   "outputs": [],
   "source": [
    "test_detailed = test.drop(columns=['link', 'published','title','label'])"
   ]
  },
  {
   "cell_type": "markdown",
   "metadata": {},
   "source": [
    "## Test Data ['title']:"
   ]
  },
  {
   "cell_type": "code",
   "execution_count": 22,
   "metadata": {},
   "outputs": [],
   "source": [
    "test_titles = test.drop(columns=['link', 'published','detailed','label'])\n",
    "test_titles = test_titles.rename(index=str, columns={\"title\": \"detailed\"})"
   ]
  },
  {
   "cell_type": "code",
   "execution_count": 23,
   "metadata": {},
   "outputs": [],
   "source": [
    "comb = [test_detailed,test_titles]\n",
    "test_tot = pd.concat(comb)"
   ]
  },
  {
   "cell_type": "code",
   "execution_count": 24,
   "metadata": {},
   "outputs": [],
   "source": [
    "X_test = test['detailed']\n",
    "X_test_title = test_titles['detailed']\n",
    "X_test_tot = test_tot['detailed']"
   ]
  },
  {
   "cell_type": "code",
   "execution_count": 25,
   "metadata": {},
   "outputs": [],
   "source": [
    "y_test = test['goal_val']\n",
    "y_test_title = test_titles['goal_val']\n",
    "y_test_tot = test_tot['goal_val']"
   ]
  },
  {
   "cell_type": "code",
   "execution_count": 26,
   "metadata": {},
   "outputs": [
    {
     "name": "stdout",
     "output_type": "stream",
     "text": [
      "# of entries - Training dataset:  1446\n",
      "# of entries - Test dataset:  480\n",
      "\n",
      "\n",
      "# of entries - Title Training dataset:  1446\n",
      "# of entries - Title Test dataset:  480\n"
     ]
    }
   ],
   "source": [
    "print(\"# of entries - Training dataset: \", X_train.shape[0])\n",
    "print(\"# of entries - Test dataset: \", X_test.shape[0])\n",
    "print('\\n')\n",
    "print(\"# of entries - Title Training dataset: \", X_train_title.shape[0])\n",
    "print(\"# of entries - Title Test dataset: \", X_test_title.shape[0])"
   ]
  },
  {
   "cell_type": "code",
   "execution_count": 27,
   "metadata": {},
   "outputs": [
    {
     "name": "stdout",
     "output_type": "stream",
     "text": [
      "Trainset:\n",
      "0    1244\n",
      "1     650\n",
      "2     580\n",
      "3     418\n",
      "Name: goal_val, dtype: int64\n",
      "\n",
      "\n",
      "Testset:\n",
      "0    466\n",
      "1    196\n",
      "2    164\n",
      "3    134\n",
      "Name: goal_val, dtype: int64\n"
     ]
    }
   ],
   "source": [
    "print('Trainset:')\n",
    "print(train_tot.goal_val.value_counts())\n",
    "print('\\n')\n",
    "print('Testset:')\n",
    "print(test_tot.goal_val.value_counts())"
   ]
  },
  {
   "cell_type": "markdown",
   "metadata": {},
   "source": [
    "---\n",
    "### Apply Bayes Algorithm:\n",
    "---"
   ]
  },
  {
   "cell_type": "code",
   "execution_count": 28,
   "metadata": {},
   "outputs": [],
   "source": [
    "stopword = pd.read_csv('/Users/torben/PycharmProjects/toolbox/stopwords/stopwords.csv', index_col=None, header=0)\n",
    "stopword_u = pd.read_csv('/Users/torben/PycharmProjects/toolbox/stopwords/stopwordsupper.csv', index_col=None, header=0)\n",
    "swl = [stopword,stopword_u]"
   ]
  },
  {
   "cell_type": "code",
   "execution_count": 29,
   "metadata": {},
   "outputs": [],
   "source": [
    "stopword_list = pd.concat(swl)\n",
    "stopwords = stopword_list['words'].values.tolist()"
   ]
  },
  {
   "cell_type": "markdown",
   "metadata": {},
   "source": [
    "---"
   ]
  },
  {
   "cell_type": "code",
   "execution_count": 30,
   "metadata": {},
   "outputs": [],
   "source": [
    "#count_vector = CountVectorizer(stop_words=stopwords,\n",
    "#                               analyzer='word',\n",
    "#                               ngram_range=(1,4)\n",
    "#                              )\n",
    "#\n",
    "#training_data = count_vector.fit_transform(X_train_tot)\n",
    "#testing_data = count_vector.transform(X_test_tot)"
   ]
  },
  {
   "cell_type": "code",
   "execution_count": 31,
   "metadata": {},
   "outputs": [
    {
     "name": "stderr",
     "output_type": "stream",
     "text": [
      "/anaconda3/envs/toolbox/lib/python3.6/site-packages/sklearn/feature_extraction/text.py:301: UserWarning: Your stop_words may be inconsistent with your preprocessing. Tokenizing the stop words generated tokens ['aussen', 'ausserhalb', 'dat', 'dreissig', 'einigermassen', 'gewissermassen', 'inf', 'müsst', 'regelmässig', 'schliesslich', 'weiss', 'zb'] not in stop_words.\n",
      "  'stop_words.' % sorted(inconsistent))\n"
     ]
    }
   ],
   "source": [
    "tf_vector = TfidfVectorizer(stop_words=stopwords,\n",
    "                               analyzer='word',\n",
    "                               ngram_range=(1,2)\n",
    "                              )\n",
    "\n",
    "training_data = tf_vector.fit_transform(X_train_tot)\n",
    "testing_data = tf_vector.transform(X_test_tot)"
   ]
  },
  {
   "cell_type": "code",
   "execution_count": 32,
   "metadata": {},
   "outputs": [],
   "source": [
    "#vecA = CountVectorizer(stop_words=stopwords,\n",
    "#                               analyzer='word',\n",
    "#                               ngram_range=(1,4))\n",
    "#vecA.fit_transform(X_train)\n",
    "#\n",
    "#\n",
    "#vecB = TfidfVectorizer(stop_words=stopwords,\n",
    "#                               analyzer='word',\n",
    "#                               ngram_range=(1,2))\n",
    "#vecB.fit_transform(X_train_title)"
   ]
  },
  {
   "cell_type": "code",
   "execution_count": 33,
   "metadata": {},
   "outputs": [],
   "source": [
    "#combined_features = FeatureUnion([('CountVectorizer', vecA),('TfidfVectorizer', vecB)])"
   ]
  },
  {
   "cell_type": "code",
   "execution_count": 34,
   "metadata": {},
   "outputs": [],
   "source": [
    "#combined_features.transform(X_test_tot)"
   ]
  },
  {
   "cell_type": "code",
   "execution_count": 35,
   "metadata": {},
   "outputs": [
    {
     "name": "stdout",
     "output_type": "stream",
     "text": [
      "Trainset:\n",
      "(2892, 33664)\n",
      "\n",
      "\n",
      "Testset:\n",
      "(960, 33664)\n"
     ]
    }
   ],
   "source": [
    "print('Trainset:')\n",
    "print(training_data.shape)\n",
    "print('\\n')\n",
    "print('Testset:')\n",
    "print(testing_data.shape)"
   ]
  },
  {
   "cell_type": "code",
   "execution_count": 36,
   "metadata": {},
   "outputs": [
    {
     "name": "stdout",
     "output_type": "stream",
     "text": [
      "Accuracy score: 73.95833333333334 %\n"
     ]
    }
   ],
   "source": [
    "naive_bayes = MultinomialNB()\n",
    "naive_bayes.fit(training_data, y_train_tot)\n",
    "\n",
    "predictions = naive_bayes.predict(testing_data)\n",
    "\n",
    "print(f'Accuracy score: {accuracy_score(y_test_tot, predictions)*100} %')\n",
    "#print(\"F1 score: \", f1_score(y_test, predictions, average = 'weighted'))"
   ]
  },
  {
   "cell_type": "markdown",
   "metadata": {},
   "source": [
    "---\n",
    "## Using the StochasticGradientDescent with new feature vector:"
   ]
  },
  {
   "cell_type": "code",
   "execution_count": 50,
   "metadata": {},
   "outputs": [
    {
     "name": "stdout",
     "output_type": "stream",
     "text": [
      "The TEST prediction is 78.54166666666667 % ACCURATE\n"
     ]
    }
   ],
   "source": [
    "sgd = linear_model.SGDClassifier(max_iter=1000, tol=1e-3)\n",
    "sgd.fit(training_data, y_train_tot)  \n",
    "\n",
    "prediction = sgd.predict(testing_data)\n",
    "\n",
    "test_accuracy = accuracy_score(y_test_tot, prediction)\n",
    "\n",
    "print(f'The TEST prediction is {test_accuracy*100} % ACCURATE')"
   ]
  },
  {
   "cell_type": "code",
   "execution_count": null,
   "metadata": {},
   "outputs": [],
   "source": []
  }
 ],
 "metadata": {
  "kernelspec": {
   "display_name": "Python 3",
   "language": "python",
   "name": "python3"
  },
  "language_info": {
   "codemirror_mode": {
    "name": "ipython",
    "version": 3
   },
   "file_extension": ".py",
   "mimetype": "text/x-python",
   "name": "python",
   "nbconvert_exporter": "python",
   "pygments_lexer": "ipython3",
   "version": "3.6.8"
  }
 },
 "nbformat": 4,
 "nbformat_minor": 2
}
